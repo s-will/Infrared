{
 "cells": [
  {
   "cell_type": "code",
   "execution_count": null,
   "metadata": {},
   "outputs": [],
   "source": [
    "#########################################################\n",
    "####\n",
    "#### Tutorial: RNA Design with Infrared (for Developers)\n",
    "####\n",
    "#########################################################\n",
    "\n",
    "###############################################\n",
    "## Start with simple sampling of RNA sequences\n",
    "\n",
    "# -- _the_ main module of Infrared\n",
    "import infrared as ir"
   ]
  },
  {
   "cell_type": "code",
   "execution_count": null,
   "metadata": {},
   "outputs": [],
   "source": [
    "# -- specify a constraint network and it's tree decomp\n",
    "\n",
    "# our first CN is _very_ simple: 20 variables (=sequence positions), no dependencies\n",
    "cn = ir.ConstraintNetwork(varnum=20, domains=4)\n",
    "# produce cluster tree for the CN, using default tree decomposition\n",
    "ct = ir.ClusterTree(cn)"
   ]
  },
  {
   "cell_type": "code",
   "execution_count": null,
   "metadata": {},
   "outputs": [],
   "source": [
    "def show_td_info(ct,width):\n",
    "    td = ct.get_td()\n",
    "    print(\"tree width =\", td.treewidth())\n",
    "    print(\"bags =\", td.get_bags())\n",
    "    print(\"edges =\", td.get_edges())\n",
    "    \n",
    "    tmpfile=\"tmp_out\"\n",
    "    td.writeTD(open(tmpfile+\".dot\",\"w\"))\n",
    "    import treedecomp\n",
    "    treedecomp.dotfile_to_png(tmpfile+\".dot\")\n",
    "    from IPython.display import Image\n",
    "    return Image(filename=(tmpfile+\".png\"),width=width)\n",
    "    \n",
    "show_td_info(ct,100)"
   ]
  },
  {
   "cell_type": "code",
   "execution_count": null,
   "metadata": {},
   "outputs": [],
   "source": [
    "# -- evaluate the cluster tree\n",
    "#   -- in this simple case, this will count the structures\n",
    "count = ct.evaluate()\n",
    "print(\"# =\",int(count))\n",
    "# btw, of course, 'count' is the number of all possible seqs 4**20"
   ]
  },
  {
   "cell_type": "code",
   "execution_count": null,
   "metadata": {},
   "outputs": [],
   "source": [
    "# -- generate 10 samples\n",
    "samples = [ct.sample().values() for i in range(10)]"
   ]
  },
  {
   "cell_type": "code",
   "execution_count": null,
   "metadata": {},
   "outputs": [],
   "source": [
    "samples"
   ]
  },
  {
   "cell_type": "code",
   "execution_count": null,
   "metadata": {},
   "outputs": [],
   "source": [
    "# -- and show them (pretty)\n",
    "[ir.values_to_sequence(s) for s in samples]"
   ]
  },
  {
   "cell_type": "code",
   "execution_count": null,
   "metadata": {},
   "outputs": [],
   "source": [
    "##################################################\n",
    "## add constraints from an RNA secondary structure\n",
    "\n",
    "import rna_support as rna\n",
    "structure = \"((((...))))(((...)))\"\n",
    "bps = rna.parseRNAStructureBps(structure)"
   ]
  },
  {
   "cell_type": "code",
   "execution_count": null,
   "metadata": {},
   "outputs": [],
   "source": [
    "bps"
   ]
  },
  {
   "cell_type": "code",
   "execution_count": null,
   "metadata": {},
   "outputs": [],
   "source": [
    "complementary_nucleotides = [\"AU\",\"CG\",\"GC\",\"GU\",\"UA\",\"UG\"]\n",
    "# -- define complementarity constraints\n",
    "class ComplConstraint(ir.Constraint):\n",
    "    def __init__(self,i,j):\n",
    "        super().__init__([i,j])\n",
    "        self.i = i\n",
    "        self.j = j\n",
    "    def __call__(self,a): # a=assignment / sequence of nucleotides\n",
    "        a = a.values()\n",
    "        nucls = ir.values_to_sequence([a[self.i],a[self.j]])\n",
    "        return nucls in complementary_nucleotides\n",
    "    \n",
    "## btw, there is already a pre-defined constraint rna.ComplConstraint,\n",
    "## which we could have used as well\n",
    "\n",
    "cons = [ ComplConstraint(i,j) for (i,j) in bps ]\n",
    "deps = [ x.vars() for x in cons ]\n",
    "cons, deps"
   ]
  },
  {
   "cell_type": "code",
   "execution_count": null,
   "metadata": {},
   "outputs": [],
   "source": [
    "# -- reinitialize constraint network, rebuild tree decomp and cluster tree\n",
    "#complementary_nucleotides = [\"AU\"]\n",
    "\n",
    "seqlen = len(structure) # --> number of positions / variables in the CN\n",
    "cn = ir.ConstraintNetwork(varnum=seqlen, domains=4, constraints = cons)\n",
    "ct = ir.ClusterTree(cn)\n",
    "\n",
    "show_td_info(ct,100)"
   ]
  },
  {
   "cell_type": "code",
   "execution_count": null,
   "metadata": {},
   "outputs": [],
   "source": [
    "# generate samples (with complementarity constraints)\n",
    "def spit_them_samples_out(ct,num):\n",
    "    samples = [ ct.sample().values() for i in range(num) ]\n",
    "    return [ ir.values_to_sequence(s) for s in samples ]\n",
    "\n",
    "count = ct.evaluate()\n",
    "print(\"# =\",int(count))\n",
    "# btw, count == 6**7 * 4**6, by simple combinatorics\n",
    "\n",
    "print(\"  \"+structure)\n",
    "spit_them_samples_out(ct,10)"
   ]
  },
  {
   "cell_type": "code",
   "execution_count": null,
   "metadata": {},
   "outputs": [],
   "source": [
    "##########################\n",
    "## Control the GC content\n",
    "\n",
    "# -- define function for GC Control\n",
    "class GCControl(ir.Function):\n",
    "    def __init__(self,i,weight):\n",
    "        super().__init__([i])\n",
    "        self.i = i\n",
    "        self.weight = weight\n",
    "    def __call__(self,a):\n",
    "        a = a.values()\n",
    "        nucl = ir.value_to_nucleotide(a[self.i])\n",
    "        if nucl in \"GC\":\n",
    "            return self.weight\n",
    "        else:\n",
    "            return 1.0\n",
    "\n",
    "## btw, there is predefined rna.GCControl"
   ]
  },
  {
   "cell_type": "code",
   "execution_count": null,
   "metadata": {},
   "outputs": [],
   "source": [
    "## -- setup functions\n",
    "gc_weight = 1 ## <- try different weights: 0.1, 10, ...\n",
    "\n",
    "gc_funs = [ GCControl(i,gc_weight) for i in range(seqlen) ]\n",
    "\n",
    "# -- reinitialize constraint network, rebuild tree decomp and cluster tree\n",
    "cn = ir.ConstraintNetwork(varnum=seqlen, domains=4,\n",
    "                          constraints=cons,\n",
    "                          functions=gc_funs)\n",
    "ct = ir.ClusterTree(cn)\n",
    "\n",
    "spit_them_samples_out(ct, 10)"
   ]
  },
  {
   "cell_type": "code",
   "execution_count": null,
   "metadata": {},
   "outputs": [],
   "source": [
    "##########################\n",
    "## Control the BP energy\n",
    "\n",
    "ir.set_bpenergy_table(ir.params_bp) # set bp energies to magic numbers\n",
    "\n",
    "bpe_weight = 1 ## <- try different weights: 0.1, 10, ...\n",
    "bpe_funs = [ rna.BPEnergy(i,j,False,bpe_weight) for (i,j) in bps ] \n",
    "\n",
    "cn = ir.ConstraintNetwork(varnum=seqlen, domains=4,\n",
    "                          constraints=cons,\n",
    "                          functions=bpe_funs + gc_funs)\n",
    "ct = ir.ClusterTree(cn)\n",
    "\n",
    "\n",
    "print(\"  \"+structure)\n",
    "spit_them_samples_out(ct, 10)"
   ]
  },
  {
   "cell_type": "code",
   "execution_count": null,
   "metadata": {},
   "outputs": [],
   "source": [
    "### as example of additional hard constraints: avoid GG dinucleotides\n",
    "class AvoidGGConstraint(ir.Constraint):\n",
    "    def __init__(self,i):\n",
    "        super().__init__([i,i+1])\n",
    "        self.i = i\n",
    "    def __call__(self,a): # a=assignment / sequence of nucleotides\n",
    "        a = a.values()\n",
    "        nucls = ir.values_to_sequence([a[self.i],a[self.i+1]])\n",
    "        return nucls != \"GG\"\n",
    "\n",
    "gg_cons = [ AvoidGGConstraint(i) for i in range(seqlen-1) ]"
   ]
  },
  {
   "cell_type": "code",
   "execution_count": null,
   "metadata": {},
   "outputs": [],
   "source": [
    "cn = ir.ConstraintNetwork(varnum=seqlen, domains=4,\n",
    "                          constraints = cons + gg_cons,\n",
    "                          functions = bpe_funs + gc_funs)\n",
    "ct = ir.ClusterTree(cn)\n",
    "\n",
    "print(\"  \"+structure)\n",
    "spit_them_samples_out(ct, 10)"
   ]
  },
  {
   "cell_type": "code",
   "execution_count": null,
   "metadata": {},
   "outputs": [],
   "source": [
    "#### now, automatize the targeting of feature values\n",
    "##\n",
    "\n",
    "# -- we start by defining the features\n",
    "\n",
    "class GCFeature(ir.Feature):\n",
    "    def __init__(self, weight, target, tolerance):\n",
    "        super().__init__( \"GC\", weight, target, tolerance)\n",
    "    def eval(self, sample):\n",
    "        return rna.GC_content(sample) * 100\n",
    "\n",
    "class EnergyFeature(ir.Feature):\n",
    "    def __init__(self, structure, weight, target, tolerance):\n",
    "        super().__init__( \"E\", weight, target, tolerance )\n",
    "        self.structure = structure\n",
    "    def eval(self, sample):\n",
    "        import RNA\n",
    "        return RNA.energy_of_struct(sample, self.structure)"
   ]
  },
  {
   "cell_type": "code",
   "execution_count": null,
   "metadata": {},
   "outputs": [],
   "source": [
    "# -- next, instantiate the sampler\n",
    "\n",
    "class MySampler(ir.MultiDimensionalBoltzmannSampler):\n",
    "    def __init__( self, features ):\n",
    "        super().__init__(features)\n",
    "        \n",
    "    def gen_constraint_network(self, features):\n",
    "        bpe_weight = features[\"E\"].weight\n",
    "        bpe_funs = [ rna.BPEnergy(i,j,False,bpe_weight) for (i,j) in bps ] \n",
    "        gc_weight = features[\"GC\"].weight\n",
    "        gc_funs = [ GCControl(i,gc_weight) for i in range(seqlen) ]\n",
    "        return ir.ConstraintNetwork(varnum=seqlen, domains=4,\n",
    "                                    constraints = cons,\n",
    "                                    functions = bpe_funs + gc_funs)\n",
    "    \n",
    "    def sample(self):\n",
    "        return ir.values_to_sequence(super().sample().values())\n",
    "                  \n",
    "# -- produce the feature objects \n",
    "# !!! here we define the targeted feature values and tolerances !!!\n",
    "features = { \"E\": EnergyFeature(structure,1,-2,1),\n",
    "             \"GC\": GCFeature(1,70,15) }\n",
    "\n",
    "# -- from this, construct the sampler\n",
    "sampler = MySampler(features)"
   ]
  },
  {
   "cell_type": "code",
   "execution_count": null,
   "metadata": {},
   "outputs": [],
   "source": [
    "# -- and sample away\n",
    "count=0\n",
    "for seq in sampler.targeted_samples():\n",
    "    import RNA # for energy evaluation\n",
    "    print(\"{} {:.2f} {:.2f}\".format(seq, RNA.energy_of_struct(seq,structure), 100*rna.GC_content(seq)))\n",
    "    count+=1\n",
    "    if count >= 10:\n",
    "        break"
   ]
  }
 ],
 "metadata": {
  "kernelspec": {
   "display_name": "Python 3",
   "language": "python",
   "name": "python3"
  },
  "language_info": {
   "codemirror_mode": {
    "name": "ipython",
    "version": 3
   },
   "file_extension": ".py",
   "mimetype": "text/x-python",
   "name": "python",
   "nbconvert_exporter": "python",
   "pygments_lexer": "ipython3",
   "version": "3.7.6"
  }
 },
 "nbformat": 4,
 "nbformat_minor": 4
}
