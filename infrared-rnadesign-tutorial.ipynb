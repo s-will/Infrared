{
 "cells": [
  {
   "cell_type": "code",
   "execution_count": 1,
   "metadata": {},
   "outputs": [],
   "source": [
    "#########################################################\n",
    "####\n",
    "#### Tutorial: RNA Design with Infrared (for Developers)\n",
    "####\n",
    "#########################################################\n",
    "\n",
    "###############################################\n",
    "## Start with simple sampling of RNA sequences\n",
    "\n",
    "# -- _the_ main module of Infrared\n",
    "import infrared as ir"
   ]
  },
  {
   "cell_type": "code",
   "execution_count": 2,
   "metadata": {},
   "outputs": [],
   "source": [
    "# -- specify a constraint network and it's tree decomp\n",
    "\n",
    "class MyConstraintNetwork(ir.ConstraintNetwork):\n",
    "    def __init__(self,varnum,dependencies=[],constraints=[],functions=[]):\n",
    "        super().__init__()\n",
    "        self.varnum = varnum\n",
    "        self.dependencies = dependencies\n",
    "        self.constraints = constraints\n",
    "        self.functions = functions\n",
    "\n",
    "# our first CN is _very_ simple: 20 variables (=sequence positions), no dependencies\n",
    "cn = MyConstraintNetwork(20)\n",
    "\n",
    "class MyTreeDecomposition(ir.TreeDecomposition):\n",
    "    def __init__(self,cn):\n",
    "        super().__init__(cn.varnum,cn.dependencies)\n",
    "        self.domains = 4   # 4 types of nucleotides\n",
    "        self.cn = cn\n",
    "\n",
    "# tree decompose the CN\n",
    "td = MyTreeDecomposition(cn)\n",
    "\n",
    "# and construct it's cluster tree from the TD\n",
    "ct = td.construct_cluster_tree()"
   ]
  },
  {
   "cell_type": "code",
   "execution_count": 3,
   "metadata": {},
   "outputs": [],
   "source": [
    "# -- evaluate the cluster tree once, before samples can be produced\n",
    "#  -- this computes the partition function\n",
    "ct.evaluate()"
   ]
  },
  {
   "cell_type": "code",
   "execution_count": 4,
   "metadata": {},
   "outputs": [],
   "source": [
    "# -- generate 10 samples\n",
    "samples = [ct.sample().values() for i in range(10)]"
   ]
  },
  {
   "cell_type": "code",
   "execution_count": 5,
   "metadata": {},
   "outputs": [
    {
     "data": {
      "text/plain": [
       "[[2, 3, 0, 3, 2, 0, 2, 2, 0, 2, 3, 1, 1, 0, 3, 2, 1, 3, 1, 2],\n",
       " [0, 2, 3, 0, 2, 2, 0, 3, 0, 0, 2, 0, 3, 3, 0, 0, 1, 3, 0, 2],\n",
       " [2, 2, 1, 3, 3, 2, 0, 2, 2, 2, 0, 0, 3, 2, 2, 2, 3, 1, 3, 0],\n",
       " [1, 0, 0, 3, 1, 0, 0, 1, 1, 0, 1, 0, 0, 2, 1, 0, 0, 2, 2, 2],\n",
       " [3, 0, 1, 3, 0, 3, 1, 1, 0, 2, 1, 0, 1, 2, 2, 3, 2, 0, 1, 0],\n",
       " [1, 1, 0, 1, 3, 1, 2, 3, 2, 1, 0, 0, 0, 3, 0, 1, 3, 2, 3, 0],\n",
       " [1, 2, 0, 0, 0, 2, 1, 3, 2, 2, 0, 2, 3, 2, 0, 2, 1, 3, 2, 0],\n",
       " [0, 2, 0, 3, 0, 1, 0, 1, 1, 0, 1, 0, 0, 2, 1, 1, 2, 1, 1, 1],\n",
       " [1, 0, 1, 0, 0, 2, 2, 1, 2, 2, 3, 1, 2, 0, 2, 3, 0, 2, 1, 3],\n",
       " [1, 2, 1, 3, 1, 1, 3, 1, 3, 1, 1, 2, 1, 3, 3, 1, 0, 3, 0, 0]]"
      ]
     },
     "execution_count": 5,
     "metadata": {},
     "output_type": "execute_result"
    }
   ],
   "source": [
    "samples"
   ]
  },
  {
   "cell_type": "code",
   "execution_count": 6,
   "metadata": {},
   "outputs": [
    {
     "data": {
      "text/plain": [
       "['GUAUGAGGAGUCCAUGCUCG',\n",
       " 'AGUAGGAUAAGAUUAACUAG',\n",
       " 'GGCUUGAGGGAAUGGGUCUA',\n",
       " 'CAAUCAACCACAAGCAAGGG',\n",
       " 'UACUAUCCAGCACGGUGACA',\n",
       " 'CCACUCGUGCAAAUACUGUA',\n",
       " 'CGAAAGCUGGAGUGAGCUGA',\n",
       " 'AGAUACACCACAAGCCGCCC',\n",
       " 'CACAAGGCGGUCGAGUAGCU',\n",
       " 'CGCUCCUCUCCGCUUCAUAA']"
      ]
     },
     "execution_count": 6,
     "metadata": {},
     "output_type": "execute_result"
    }
   ],
   "source": [
    "# -- and show them (pretty)\n",
    "[ir.values_to_sequence(s) for s in samples]"
   ]
  },
  {
   "cell_type": "code",
   "execution_count": 7,
   "metadata": {},
   "outputs": [],
   "source": [
    "##################################################\n",
    "## add constraints from an RNA secondary structure\n",
    "\n",
    "import rna_support as rna\n",
    "structure = \"((((...))))(((...)))\"\n",
    "bps = rna.parseRNAStructureBps(structure)"
   ]
  },
  {
   "cell_type": "code",
   "execution_count": 8,
   "metadata": {},
   "outputs": [
    {
     "data": {
      "text/plain": [
       "[(0, 10), (1, 9), (2, 8), (3, 7), (11, 19), (12, 18), (13, 17)]"
      ]
     },
     "execution_count": 8,
     "metadata": {},
     "output_type": "execute_result"
    }
   ],
   "source": [
    "bps"
   ]
  },
  {
   "cell_type": "code",
   "execution_count": 21,
   "metadata": {},
   "outputs": [],
   "source": [
    "complementary_nucleotides = [\"AU\",\"CG\",\"GC\",\"GU\",\"UA\",\"UG\"]\n",
    "# -- define complementarity constraints\n",
    "class ComplConstraint(ir.Constraint):\n",
    "    def __init__(self,i,j):\n",
    "        super().__init__([i,j])\n",
    "        self.i = i\n",
    "        self.j = j\n",
    "    def __call__(self,a): # a=assignment / sequence of nucleotides\n",
    "        a = a.values()\n",
    "        nucls = ir.values_to_sequence([a[self.i],a[self.j]])\n",
    "        return nucls in complementary_nucleotides\n",
    "    \n",
    "## btw, there is already a pre-defined constraint ir.ComplConstraint,\n",
    "## which we could have used as well\n",
    "\n",
    "cons = [ ( [i,j], [ ComplConstraint(i,j) ] ) for (i,j) in bps ]"
   ]
  },
  {
   "cell_type": "code",
   "execution_count": 22,
   "metadata": {},
   "outputs": [
    {
     "data": {
      "text/plain": [
       "[[0, 10], [1, 9], [2, 8], [3, 7], [11, 19], [12, 18], [13, 17]]"
      ]
     },
     "execution_count": 22,
     "metadata": {},
     "output_type": "execute_result"
    }
   ],
   "source": [
    "# -- infer dependencies\n",
    "deps = [ [i,j] for (i,j) in bps ]\n",
    "deps"
   ]
  },
  {
   "cell_type": "code",
   "execution_count": 11,
   "metadata": {},
   "outputs": [],
   "source": [
    "# -- reinitialize constraint network, rebuild tree decomp and cluster tree\n",
    "#complementary_nucleotides = [\"AU\"]\n",
    "\n",
    "seqlen = len(structure) # --> number of positions / variables in the CN\n",
    "cn = MyConstraintNetwork(seqlen, dependencies = deps, constraints = cons)\n",
    "td = MyTreeDecomposition(cn)\n",
    "ct = td.construct_cluster_tree()"
   ]
  },
  {
   "cell_type": "code",
   "execution_count": 12,
   "metadata": {},
   "outputs": [
    {
     "name": "stdout",
     "output_type": "stream",
     "text": [
      "  ((((...))))(((...)))\n"
     ]
    },
    {
     "data": {
      "text/plain": [
       "['CUCGUCGUGGGAUGUCUCGU',\n",
       " 'UGCCCCGGGCACAUAGGAUG',\n",
       " 'GUGGCCCUUACCGACAGUCG',\n",
       " 'GGUCGUAGGUCCGGAAUUUG',\n",
       " 'GAGGUGUUCUUGUGGAAUGU',\n",
       " 'GGUGAACCAUUCUGGCACAG',\n",
       " 'UGGUCAUGCCGUUUCGCGAA',\n",
       " 'AGGAGGAUUUUUGUGCGACA',\n",
       " 'CAUUGAUGAUGGUUAACGAC',\n",
       " 'GCUUCUAGGGCGAUGUGGUU']"
      ]
     },
     "execution_count": 12,
     "metadata": {},
     "output_type": "execute_result"
    }
   ],
   "source": [
    "# generate samples (with complementarity constraints)\n",
    "def spit_them_samples_out(ct,num):\n",
    "    ct.evaluate()\n",
    "    samples = [ ct.sample().values() for i in range(num) ]\n",
    "    return [ ir.values_to_sequence(s) for s in samples ]\n",
    "\n",
    "print(\"  \"+structure)\n",
    "spit_them_samples_out(ct,10)"
   ]
  },
  {
   "cell_type": "code",
   "execution_count": 13,
   "metadata": {},
   "outputs": [],
   "source": [
    "##########################\n",
    "## Control the GC content\n",
    "\n",
    "# -- define function for GC Control\n",
    "class GCControl(ir.Function):\n",
    "    def __init__(self,i,weight):\n",
    "        super().__init__([i])\n",
    "        self.i = i\n",
    "        self.weight = weight\n",
    "    def __call__(self,a):\n",
    "        a = a.values()\n",
    "        nucl = ir.value_to_nucleotide(a[self.i])\n",
    "        if nucl in \"GC\":\n",
    "            return self.weight\n",
    "        else:\n",
    "            return 1.0\n",
    "\n",
    "## btw, there is predefined ir.GCControl"
   ]
  },
  {
   "cell_type": "code",
   "execution_count": 14,
   "metadata": {},
   "outputs": [
    {
     "data": {
      "text/plain": [
       "['AUUAGACUAAUUACUCCGUA',\n",
       " 'UUACGUCGUGGGUGUCGCGC',\n",
       " 'UGGCGAGGCUAGGCACAGUU',\n",
       " 'AGGAUAUUCUUUGGGUAUCA',\n",
       " 'GUGGAUACUGUUGGUAACUA',\n",
       " 'ACGACGUUCGUGAAACUUUU',\n",
       " 'UCUAUUUUAGGUUCCGGGAA',\n",
       " 'GUGGUUUUCACGGUCAUACU',\n",
       " 'UAGAAGCUUUGUAUGCUAUG',\n",
       " 'AUGAGUUUUGUAGGGGCCCU']"
      ]
     },
     "execution_count": 14,
     "metadata": {},
     "output_type": "execute_result"
    }
   ],
   "source": [
    "## -- setup functions\n",
    "gc_weight = 1\n",
    "\n",
    "gc_funs = [ ([i], [GCControl(i,gc_weight)]) for i in range(seqlen) ]\n",
    "\n",
    "# -- reinitialize constraint network, rebuild tree decomp and cluster tree\n",
    "def build_ct(seqlen,deps,cons,funs):\n",
    "    cn = MyConstraintNetwork(seqlen, deps, cons, funs)\n",
    "    td = MyTreeDecomposition(cn)\n",
    "    return td.construct_cluster_tree()\n",
    "\n",
    "ct = build_ct(seqlen, deps, cons, gc_funs)\n",
    "\n",
    "spit_them_samples_out(ct,10)"
   ]
  },
  {
   "cell_type": "code",
   "execution_count": 15,
   "metadata": {},
   "outputs": [
    {
     "name": "stdout",
     "output_type": "stream",
     "text": [
      "  ((((...))))(((...)))\n"
     ]
    },
    {
     "data": {
      "text/plain": [
       "['CUGGAAUUCGGGCGCUACGC',\n",
       " 'GUGUACCAUAUUUGAUAUGA',\n",
       " 'UCUCGAAGGGGACUAUCGGU',\n",
       " 'UGAUAAUGUUAUUUUAUGGG',\n",
       " 'CCCAUGAUGGGUUCCUAGGA',\n",
       " 'UGGUACCGCUACAUCCAGUG',\n",
       " 'UCGACUUUCGAAUUCCCGGU',\n",
       " 'AACCAUUGGUUUGUGGAGCG',\n",
       " 'CUAGCAGCUAGUGUGGAGUA',\n",
       " 'GGUUGUGAGCCGACUUUGUC']"
      ]
     },
     "execution_count": 15,
     "metadata": {},
     "output_type": "execute_result"
    }
   ],
   "source": [
    "##########################\n",
    "## Control the BP energy\n",
    "\n",
    "ir.set_bpenergy_table(ir.params_bp) # set bp energies to magic numbers\n",
    "\n",
    "bpe_weight = 1\n",
    "bpe_funs = [ ([i,j], [ir.BPEnergy(i,j,False,bpe_weight)]) for (i,j) in bps ] \n",
    "ct = build_ct(seqlen, deps, cons, bpe_funs + gc_funs)\n",
    "\n",
    "print(\"  \"+structure)\n",
    "spit_them_samples_out(ct,10)"
   ]
  },
  {
   "cell_type": "code",
   "execution_count": 23,
   "metadata": {},
   "outputs": [],
   "source": [
    "### as example of additional hard constraints: avoid GG dinucleotides\n",
    "class AvoidGGConstraint(ir.Constraint):\n",
    "    def __init__(self,i):\n",
    "        super().__init__([i,i+1])\n",
    "        self.i = i\n",
    "    def __call__(self,a): # a=assignment / sequence of nucleotides\n",
    "        a = a.values()\n",
    "        nucls = ir.values_to_sequence([a[self.i],a[self.i+1]])\n",
    "        return nucls != \"GG\"\n",
    "\n",
    "gg_cons = [ ([i,i+1],[AvoidGGConstraint(i)]) for i in range(seqlen-1) ]\n",
    "gg_deps = [ x[0] for x in gg_cons]"
   ]
  },
  {
   "cell_type": "code",
   "execution_count": 25,
   "metadata": {},
   "outputs": [
    {
     "name": "stdout",
     "output_type": "stream",
     "text": [
      "  ((((...))))(((...)))\n"
     ]
    },
    {
     "data": {
      "text/plain": [
       "['GUUUGUAAAAUCUGCCCUAG',\n",
       " 'UGUUUGUGACGUGUCCAGUA',\n",
       " 'AAUGCCUCGUUGCGUCCCGC',\n",
       " 'AGAUCCGAUUUUUUCGAAAA',\n",
       " 'UCAUCUAAUGAGCGUCGCGC',\n",
       " 'CUGAGACUUAGAGAGACUUU',\n",
       " 'AUUGCAUCAAUGUGCGUCAU',\n",
       " 'GUUGAUCUAGCAAGUGAUUU',\n",
       " 'UGUACAGUGUACGCCGAGCG',\n",
       " 'GUGACGCUCGUUAUCACAUG']"
      ]
     },
     "execution_count": 25,
     "metadata": {},
     "output_type": "execute_result"
    }
   ],
   "source": [
    "ir.set_bpenergy_table(ir.params_bp) # set bp energies to magic numbers\n",
    "\n",
    "bpe_weight = 1\n",
    "bpe_funs = [ ([i,j], [ ir.BPEnergy(i, j, False, bpe_weight) ]) for (i,j) in bps ] \n",
    "ct = build_ct(seqlen, deps + gg_deps, cons + gg_cons, bpe_funs + gc_funs)\n",
    "\n",
    "print(\"  \"+structure)\n",
    "spit_them_samples_out(ct,10)"
   ]
  },
  {
   "cell_type": "code",
   "execution_count": 16,
   "metadata": {},
   "outputs": [],
   "source": [
    "#### now, automatize the targeting of feature values\n",
    "##\n",
    "\n",
    "# -- we start by defining the features\n",
    "\n",
    "class GCFeature(ir.Feature):\n",
    "    def __init__(self, weight, target, tolerance):\n",
    "        super().__init__( \"GC\", weight, target, tolerance)\n",
    "    def eval(self, sample):\n",
    "        return rna.GC_content(sample) * 100\n",
    "\n",
    "class EnergyFeature(ir.Feature):\n",
    "    def __init__(self, structure, weight, target, tolerance):\n",
    "        super().__init__( \"E\", weight, target, tolerance )\n",
    "        self.structure = structure\n",
    "    def eval(self, sample):\n",
    "        import RNA\n",
    "        return RNA.energy_of_struct(sample, self.structure)"
   ]
  },
  {
   "cell_type": "code",
   "execution_count": 19,
   "metadata": {},
   "outputs": [],
   "source": [
    "# -- next, instantiate the sampler\n",
    "\n",
    "class MySampler(ir.MultiDimensionalBoltzmannSampler):\n",
    "    def __init__( self, features ):\n",
    "        super().__init__(features)\n",
    "        self.setup_engine()\n",
    "    def gen_constraint_network(self, features):\n",
    "        bpe_weight = features[\"E\"].weight\n",
    "        bpe_funs = [ ([i,j], [ir.BPEnergy(i,j,False,bpe_weight)]) for (i,j) in bps ] \n",
    "        gc_weight = features[\"GC\"].weight\n",
    "        gc_funs = [ ([i], [GCControl(i,gc_weight)]) for i in range(seqlen) ]\n",
    "        return MyConstraintNetwork(seqlen, deps, cons, bpe_funs + gc_funs)\n",
    "    def gen_tree_decomposition(self,cn):\n",
    "        return MyTreeDecomposition(cn)\n",
    "    def sample(self):\n",
    "        return ir.values_to_sequence(super().sample().values())\n",
    "                  \n",
    "# -- produce the feature objects \n",
    "# !!! here we define the targeted feature values and tolerances !!!\n",
    "features = { \"E\": EnergyFeature(structure,1,-2,1),\n",
    "             \"GC\": GCFeature(1,70,15) }\n",
    "\n",
    "# -- from this, construct the sampler\n",
    "sampler = MySampler(features)"
   ]
  },
  {
   "cell_type": "code",
   "execution_count": 20,
   "metadata": {},
   "outputs": [
    {
     "name": "stdout",
     "output_type": "stream",
     "text": [
      "GGCUCCUAGCUGCGAAACGC -2.30 65.00\n",
      "GGUCCCCGGCCGGGUGUUCU -1.10 75.00\n",
      "GGAUCCUAUCCUCCGCGGGA -2.00 65.00\n",
      "CAGAGGAUCUGCGCUACGCG -1.70 65.00\n",
      "CCCAAAGUGGGCCUGACGGG -2.90 70.00\n",
      "GGACCUCGUCCUCACAGUGG -1.00 65.00\n",
      "GGCUCGCGGUCGCUAUAGGC -1.80 70.00\n",
      "CCGUAUCACGGCGAAUGUCG -1.50 60.00\n",
      "GGCCAUGGGCCUGGUCGUUA -1.00 65.00\n",
      "GUGCUCCGCGCCCUCGUAGG -2.50 75.00\n"
     ]
    }
   ],
   "source": [
    "# -- and sample away\n",
    "count=0\n",
    "for seq in sampler.targeted_samples():\n",
    "    import RNA # for energy evaluation\n",
    "    print(\"{} {:.2f} {:.2f}\".format(seq, RNA.energy_of_struct(seq,structure), 100*rna.GC_content(seq)))\n",
    "    count+=1\n",
    "    if count >= 10:\n",
    "        break"
   ]
  },
  {
   "cell_type": "code",
   "execution_count": null,
   "metadata": {},
   "outputs": [],
   "source": []
  }
 ],
 "metadata": {
  "kernelspec": {
   "display_name": "Python 3",
   "language": "python",
   "name": "python3"
  },
  "language_info": {
   "codemirror_mode": {
    "name": "ipython",
    "version": 3
   },
   "file_extension": ".py",
   "mimetype": "text/x-python",
   "name": "python",
   "nbconvert_exporter": "python",
   "pygments_lexer": "ipython3",
   "version": "3.7.6"
  }
 },
 "nbformat": 4,
 "nbformat_minor": 4
}
