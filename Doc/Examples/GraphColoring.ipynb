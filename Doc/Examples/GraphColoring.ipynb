{
 "cells": [
  {
   "cell_type": "markdown",
   "id": "24d8cc7a",
   "metadata": {},
   "source": [
    "# Graph coloring"
   ]
  },
  {
   "cell_type": "code",
   "execution_count": null,
   "id": "160905d3",
   "metadata": {},
   "outputs": [],
   "source": [
    "import infrared as ir\n",
    "\n",
    "numcolors = 4\n",
    "#nodes = list(range(1,10))\n",
    "#edges = [(1,5),(2,3),(2,5),(2,7),(3,6),(5,6),(5,7),(5,9),(6,8),(6,9),(7,8)]\n",
    "\n",
    "nodes = list(range(1,16))\n",
    "edges = [(1,5),(2,3),(2,5),(2,7),(3,6),(5,6),(5,7),(5,9),(6,8),(6,9),(7,8)]\n",
    "for i in range(10,16):\n",
    "    for j in range(i+1,16):\n",
    "        edges.append((i,j))\n",
    "\n",
    "cycles = [(2,3,5,6),(5,6,7,8),(2,5,7,8)]\n",
    "\n",
    "nidx={x:i for i,x in enumerate(nodes)}\n",
    "numnodes = len(nodes)\n",
    "\n",
    "model = ir.Model(numnodes,numcolors)\n",
    "\n",
    "ir.def_constraint_class('DiffColor',\n",
    "    lambda i,j: [i,j],\n",
    "    lambda x,y: x != y)\n",
    "\n",
    "ir.def_function_class('UnusedNum',\n",
    "    lambda i,j,k,l: [i,j,k,l],\n",
    "    lambda x,y,z,w: len(set(range(4)-set([x,y,z,w]))))\n",
    "\n",
    "model.add_constraints(DiffColor(nidx[i],nidx[j]) for i,j in edges)\n",
    "\n",
    "model.add_functions(UnusedNum(*[nidx[i] for i in x]) for x in cycles)\n",
    "\n",
    "solver = ir.Optimizer(model)\n",
    "print(solver.treewidth())"
   ]
  },
  {
   "cell_type": "code",
   "execution_count": null,
   "id": "8b530bb8",
   "metadata": {},
   "outputs": [],
   "source": [
    "from IPython.display import Image\n",
    "import re\n",
    "\n",
    "# Plot dependency graph\n",
    "filename = 'dependency_graph.dot'\n",
    "model.write_graph(filename, True)\n",
    "\n",
    "ir.dotfile_to_png(filename)\n",
    "filename = re.sub(r\"dot$\",\"png\",filename)\n",
    "\n",
    "Image(filename=filename,width=300)"
   ]
  },
  {
   "cell_type": "code",
   "execution_count": null,
   "id": "98b4cecf",
   "metadata": {},
   "outputs": [],
   "source": [
    "# Plot tree decomposition\n",
    "filename=\"treedecomp\"\n",
    "solver.plot_td(filename,'png')\n",
    "Image(filename=filename+\".png\",width=400)"
   ]
  }
 ],
 "metadata": {
  "jupytext": {
   "formats": "ipynb,py:light"
  },
  "kernelspec": {
   "display_name": "Python 3 (ipykernel)",
   "language": "python",
   "name": "python3"
  },
  "language_info": {
   "codemirror_mode": {
    "name": "ipython",
    "version": 3
   },
   "file_extension": ".py",
   "mimetype": "text/x-python",
   "name": "python",
   "nbconvert_exporter": "python",
   "pygments_lexer": "ipython3",
   "version": "3.10.9"
  }
 },
 "nbformat": 4,
 "nbformat_minor": 5
}
