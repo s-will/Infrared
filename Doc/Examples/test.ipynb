{
 "cells": [
  {
   "cell_type": "markdown",
   "id": "a04d5330",
   "metadata": {},
   "source": [
    "# First Test"
   ]
  },
  {
   "cell_type": "code",
   "execution_count": null,
   "id": "cce0a21a",
   "metadata": {
    "execution": {
     "iopub.execute_input": "2023-09-06T21:40:11.935583Z",
     "iopub.status.busy": "2023-09-06T21:40:11.934858Z",
     "iopub.status.idle": "2023-09-06T21:40:11.955907Z",
     "shell.execute_reply": "2023-09-06T21:40:11.953793Z"
    }
   },
   "outputs": [],
   "source": [
    "import infrared as ir\n",
    "\n",
    "num_colors = 3\n",
    "num_nodes = 5\n",
    "edges = [(1,2),(1,3),(1,4),(2,3),(2,5),(4,5)]"
   ]
  },
  {
   "cell_type": "markdown",
   "id": "a36fe049",
   "metadata": {},
   "source": [
    "## Set up the model"
   ]
  },
  {
   "cell_type": "code",
   "execution_count": null,
   "id": "34040d26",
   "metadata": {
    "execution": {
     "iopub.execute_input": "2023-09-06T21:40:11.960875Z",
     "iopub.status.busy": "2023-09-06T21:40:11.960223Z",
     "iopub.status.idle": "2023-09-06T21:40:12.071284Z",
     "shell.execute_reply": "2023-09-06T21:40:12.070247Z"
    }
   },
   "outputs": [],
   "source": [
    "model = ir.Model()\n",
    "\n",
    "# dummy variable to avoid index transformations\n",
    "model.add_variables(1,(0,0))\n",
    "\n",
    "# add one variable per node\n",
    "model.add_variables(num_nodes,num_colors)\n",
    "\n",
    "# define NotEquals constraints in Python\n",
    "ir.def_constraint_class('NotEquals',\n",
    "    lambda i,j: [i,j], # signature and dependencies\n",
    "    lambda x, y: x!=y)  # constraint semantics\n",
    "\n",
    "# add one inequality constraint per edge \n",
    "model.add_constraints(NotEquals(i,j) for i,j in edges)\n",
    "\n",
    "solver = ir.Optimizer(model)\n",
    "print(f'Tree width: {solver.treewidth()}')"
   ]
  },
  {
   "cell_type": "markdown",
   "id": "6717daf6",
   "metadata": {},
   "source": [
    "## Draw the dependency graph"
   ]
  },
  {
   "cell_type": "code",
   "execution_count": null,
   "id": "e07dafa1",
   "metadata": {},
   "outputs": [],
   "source": [
    "from IPython.display import Image\n",
    "import re\n",
    "\n",
    "# Plot dependency graph\n",
    "filename = 'dependency_graph.dot'\n",
    "model.write_graph(filename, True)\n",
    "\n",
    "ir.dotfile_to_png(filename)\n",
    "filename = re.sub(r\"dot$\",\"png\",filename)\n",
    "\n",
    "Image(filename=filename)"
   ]
  },
  {
   "cell_type": "markdown",
   "id": "76ce39a4",
   "metadata": {},
   "source": [
    "## Plot the tree decomposition"
   ]
  },
  {
   "cell_type": "code",
   "execution_count": null,
   "id": "3c556fcd",
   "metadata": {},
   "outputs": [],
   "source": [
    "filename=\"treedecomp\"\n",
    "solver.plot_td(filename,'png')\n",
    "Image(filename=filename+\".png\")"
   ]
  },
  {
   "cell_type": "markdown",
   "id": "373326a9",
   "metadata": {},
   "source": [
    "## Generate colorings"
   ]
  },
  {
   "cell_type": "code",
   "execution_count": null,
   "id": "72f67ec3",
   "metadata": {},
   "outputs": [],
   "source": [
    "def assignment_to_coloring(a):\n",
    "        colors=[\"red\",\"green\",\"blue\"]\n",
    "        coloring = {i:colors[v] for i,v in enumerate(a.values())}\n",
    "        del coloring[0]\n",
    "        return coloring"
   ]
  },
  {
   "cell_type": "markdown",
   "id": "1f709c05",
   "metadata": {},
   "source": [
    "## Sampling"
   ]
  },
  {
   "cell_type": "code",
   "execution_count": null,
   "id": "12c7f8a1",
   "metadata": {},
   "outputs": [],
   "source": [
    "solver = ir.Sampler(model)"
   ]
  },
  {
   "cell_type": "markdown",
   "id": "1b046115",
   "metadata": {},
   "source": [
    "### Existing sampling method"
   ]
  },
  {
   "cell_type": "code",
   "execution_count": null,
   "id": "bca756c1",
   "metadata": {},
   "outputs": [],
   "source": [
    "for _ in range(20):\n",
    "    assignment = solver.sample_new()\n",
    "    coloring = assignment_to_coloring(assignment)\n",
    "    print('Sampled coloring:', coloring)"
   ]
  },
  {
   "cell_type": "markdown",
   "id": "bfbdff74",
   "metadata": {},
   "source": [
    "### Naive non-redundant sampling method"
   ]
  },
  {
   "cell_type": "code",
   "execution_count": null,
   "id": "061f2efa",
   "metadata": {
    "execution": {
     "iopub.execute_input": "2023-09-06T21:40:12.349750Z",
     "iopub.status.busy": "2023-09-06T21:40:12.349137Z",
     "iopub.status.idle": "2023-09-06T21:40:12.361096Z",
     "shell.execute_reply": "2023-09-06T21:40:12.360401Z"
    }
   },
   "outputs": [],
   "source": [
    "for _ in range(20):\n",
    "    assignment = solver.sample_new(non_redundant=True, non_redundant_mode=\"rejection\", repeats=1000)\n",
    "    if assignment:\n",
    "        coloring = assignment_to_coloring(assignment)\n",
    "        print('Sampled coloring:', coloring)"
   ]
  },
  {
   "cell_type": "markdown",
   "id": "e9760f04",
   "metadata": {},
   "source": [
    "### Non-redundant sampling"
   ]
  },
  {
   "cell_type": "code",
   "execution_count": null,
   "id": "3ab975da",
   "metadata": {},
   "outputs": [],
   "source": [
    "import subprocess\n",
    "from IPython.display import display, Image\n",
    "\n",
    "samples = []\n",
    "\n",
    "count = 0\n",
    "for _ in range(20):\n",
    "    assignment = solver.sample_new(non_redundant=True)\n",
    "    if assignment:\n",
    "        coloring = assignment_to_coloring(assignment)\n",
    "        print('Sampled coloring:', coloring)\n",
    "        samples.append(coloring)\n",
    "\n",
    "        png_data = subprocess.check_output([\"dot\", \"-Tpng\", f'weights_graph_{count}.dot'])\n",
    "        count += 1\n",
    "        display(Image(data=png_data))"
   ]
  },
  {
   "cell_type": "code",
   "execution_count": null,
   "id": "0ea7e6e7",
   "metadata": {},
   "outputs": [],
   "source": [
    "def are_different(list_of_dicts):\n",
    "    seen = set()\n",
    "    for d in list_of_dicts:\n",
    "        dict_tuple = tuple(sorted(d.items()))\n",
    "        if dict_tuple in seen:\n",
    "            return False\n",
    "        seen.add(dict_tuple)\n",
    "    return True\n",
    "\n",
    "are_different(samples)"
   ]
  }
 ],
 "metadata": {
  "jupytext": {
   "formats": "ipynb,py:light"
  },
  "kernelspec": {
   "display_name": "Python 3 (ipykernel)",
   "language": "python",
   "name": "python3"
  },
  "language_info": {
   "codemirror_mode": {
    "name": "ipython",
    "version": 3
   },
   "file_extension": ".py",
   "mimetype": "text/x-python",
   "name": "python",
   "nbconvert_exporter": "python",
   "pygments_lexer": "ipython3",
   "version": "3.12.1"
  }
 },
 "nbformat": 4,
 "nbformat_minor": 5
}
