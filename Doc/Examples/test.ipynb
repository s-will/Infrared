{
 "cells": [
  {
   "cell_type": "markdown",
   "id": "a04d5330",
   "metadata": {},
   "source": [
    "# First Test"
   ]
  },
  {
   "cell_type": "code",
   "execution_count": null,
   "id": "cce0a21a",
   "metadata": {},
   "outputs": [],
   "source": [
    "import infrared as ir\n",
    "\n",
    "num_colors = 3\n",
    "num_nodes = 4\n",
    "edges = [(1,2),(1,4),(2,3),(3,4)]\n",
    "cycles = [(1,2,3,4)]"
   ]
  },
  {
   "cell_type": "markdown",
   "id": "a36fe049",
   "metadata": {},
   "source": [
    "## Set up the model"
   ]
  },
  {
   "cell_type": "code",
   "execution_count": null,
   "id": "34040d26",
   "metadata": {},
   "outputs": [],
   "source": [
    "model = ir.Model()\n",
    "\n",
    "# dummy variable to avoid index transformations\n",
    "model.add_variables(1,(0,0))\n",
    "\n",
    "# add one variable per node\n",
    "model.add_variables(num_nodes,num_colors)\n",
    "\n",
    "# define NotEquals constraints in Python\n",
    "ir.def_constraint_class('NotEquals',\n",
    "    lambda i,j: [i,j], # signature and dependencies\n",
    "    lambda x, y: x!=y)  # constraint semantics\n",
    "\n",
    "# add one inequality constraint per edge \n",
    "model.add_constraints(NotEquals(i,j) for i,j in edges)\n",
    "\n",
    "# define cardinality for sets of 4 variables\n",
    "ir.def_function_class('Card', # define \"cardinality\"\n",
    "    lambda i, j, k, l: [i,j,k,l], # signature, dependencies\n",
    "    lambda x,y,z,w: len({x,y,z,w}))  # function evaluation\n",
    "\n",
    "# add the cardinality function for every cycle\n",
    "model.add_functions([Card(i,j,k,l) for i,j,k,l in cycles], 'card')\n",
    "\n",
    "model.set_feature_weight(-1,'card') # set up in order to *minimize*\n",
    "\n",
    "solver = ir.Optimizer(model)\n",
    "print(f'Tree width: {solver.treewidth()}')"
   ]
  },
  {
   "cell_type": "markdown",
   "id": "6717daf6",
   "metadata": {},
   "source": [
    "## Draw the dependency graph"
   ]
  },
  {
   "cell_type": "code",
   "execution_count": null,
   "id": "e07dafa1",
   "metadata": {},
   "outputs": [],
   "source": [
    "from IPython.display import Image\n",
    "import re\n",
    "\n",
    "# Plot dependency graph\n",
    "filename = 'dependency_graph.dot'\n",
    "model.write_graph(filename, True)\n",
    "\n",
    "ir.dotfile_to_png(filename)\n",
    "filename = re.sub(r\"dot$\",\"png\",filename)\n",
    "\n",
    "Image(filename=filename)"
   ]
  },
  {
   "cell_type": "markdown",
   "id": "76ce39a4",
   "metadata": {},
   "source": [
    "## Plot the tree decomposition"
   ]
  },
  {
   "cell_type": "code",
   "execution_count": null,
   "id": "3c556fcd",
   "metadata": {},
   "outputs": [],
   "source": [
    "filename=\"treedecomp\"\n",
    "solver.plot_td(filename,'png')\n",
    "Image(filename=filename+\".png\")"
   ]
  },
  {
   "cell_type": "markdown",
   "id": "373326a9",
   "metadata": {},
   "source": [
    "## Generate colorings"
   ]
  },
  {
   "cell_type": "code",
   "execution_count": null,
   "id": "72f67ec3",
   "metadata": {},
   "outputs": [],
   "source": [
    "def assignment_to_coloring(a):\n",
    "        colors=[\"red\",\"green\",\"blue\"]\n",
    "        coloring = {i:colors[v] for i,v in enumerate(a.values())}\n",
    "        del coloring[0]\n",
    "        return coloring"
   ]
  },
  {
   "cell_type": "code",
   "execution_count": null,
   "id": "2dd4a583",
   "metadata": {},
   "outputs": [],
   "source": [
    "def plot_coloring(coloring, filename):\n",
    "    import graphviz\n",
    "\n",
    "    G = graphviz.Graph('coloring', engine=\"fdp\")\n",
    "\n",
    "    for i in range(1,num_nodes+1):\n",
    "        G.node(f'{i}', style=\"filled\", color=coloring[i])\n",
    "    for i,j in edges:\n",
    "        G.edge(f'{i}',f'{j}')\n",
    "\n",
    "    G.render(filename, format='png', cleanup=True)"
   ]
  },
  {
   "cell_type": "markdown",
   "id": "1f709c05",
   "metadata": {},
   "source": [
    "## Sampling"
   ]
  },
  {
   "cell_type": "code",
   "execution_count": null,
   "id": "12c7f8a1",
   "metadata": {},
   "outputs": [],
   "source": [
    "from PIL import Image\n",
    "import matplotlib.pyplot as plt\n",
    " \n",
    "solver = ir.Sampler(model)"
   ]
  },
  {
   "cell_type": "markdown",
   "id": "1b046115",
   "metadata": {},
   "source": [
    "### Existing sampling method"
   ]
  },
  {
   "cell_type": "code",
   "execution_count": null,
   "id": "bca756c1",
   "metadata": {},
   "outputs": [],
   "source": [
    "for i in range(1, 26):\n",
    "    print(f'\\nSample #{i}')\n",
    "\n",
    "    assignment = solver.sample_naive(non_redundant=False)\n",
    "    coloring = assignment_to_coloring(assignment)\n",
    "\n",
    "    plot_coloring(coloring, f'colored_graph')\n",
    "    img = Image.open(f'colored_graph.png')\n",
    "    plt.imshow(img)\n",
    "    plt.show()"
   ]
  },
  {
   "cell_type": "markdown",
   "id": "bfbdff74",
   "metadata": {},
   "source": [
    "### Naive non-redundant sampling method"
   ]
  },
  {
   "cell_type": "code",
   "execution_count": null,
   "id": "061f2efa",
   "metadata": {},
   "outputs": [],
   "source": [
    "for i in range(1, 26):\n",
    "    print(f'\\nSample #{i}')\n",
    "    \n",
    "    assignment = solver.sample_naive(non_redundant=True, repeats=1000)\n",
    "\n",
    "    if assignment:\n",
    "        coloring = assignment_to_coloring(assignment)\n",
    "\n",
    "        plot_coloring(coloring, f'colored_graph')\n",
    "        img = Image.open(f'colored_graph.png')\n",
    "        plt.imshow(img)\n",
    "        plt.show()"
   ]
  }
 ],
 "metadata": {
  "jupytext": {
   "formats": "ipynb,py:light"
  },
  "kernelspec": {
   "display_name": "Python 3 (ipykernel)",
   "language": "python",
   "name": "python3"
  },
  "language_info": {
   "codemirror_mode": {
    "name": "ipython",
    "version": 3
   },
   "file_extension": ".py",
   "mimetype": "text/x-python",
   "name": "python",
   "nbconvert_exporter": "python",
   "pygments_lexer": "ipython3",
   "version": "3.12.1"
  }
 },
 "nbformat": 4,
 "nbformat_minor": 5
}
