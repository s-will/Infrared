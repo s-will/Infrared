{
 "cells": [
  {
   "cell_type": "markdown",
   "id": "539bdb14",
   "metadata": {},
   "source": [
    "# Automata\n",
    "## Forbid/enforce sequence motifs\n",
    "\n",
    "We showcase an Infrared feature network model that forbids (or enforces) the occurrence of any (respectively one) of several given input motifs in randomly generated sequences.\n",
    "The Infrared model is be based on a finite automaton that we construct from the input motifs/words.\n",
    "\n",
    "For example, let's generate sequences that avoid any of three restriction sites of EcoRI, BamHI, and HindIII"
   ]
  },
  {
   "cell_type": "code",
   "execution_count": null,
   "id": "a96aade4",
   "metadata": {},
   "outputs": [],
   "source": [
    "restriction_sites = [\"GAATTC\", \"GGATCC\", \"AAGCTT\"]"
   ]
  },
  {
   "cell_type": "code",
   "execution_count": null,
   "id": "ac7c140c",
   "metadata": {},
   "outputs": [],
   "source": [
    "import infrared as ir\n",
    "from collections import defaultdict"
   ]
  },
  {
   "cell_type": "markdown",
   "id": "bcf5b3ad",
   "metadata": {},
   "source": [
    "A *Deterministic Finite Automaton (DFA)* is a $5$-tuple $(\\mathcal{Q},\\Sigma,\\delta,q_0,\\mathcal{Q}_F)$ with\n",
    "\n",
    "* Finite set of states $\\mathcal{Q}$;\n",
    "* Finite set of symbols $\\Sigma$;\n",
    "* Transition function $\\delta:\\mathcal{Q}\\times\\Sigma\\to\\mathcal{Q}$;\n",
    "* Initial state $q_0\\in\\mathcal{Q}$;\n",
    "* Set of final, accepting states $\\mathcal{Q}_F\\subset\\mathcal{Q}$.\n"
   ]
  },
  {
   "cell_type": "markdown",
   "id": "f25123f7",
   "metadata": {},
   "source": [
    "## Construction of an Aho-Corasick automaton\n",
    "\n",
    "We construct a specific DFA, called *Aho-Corasick automaton*, that accepts strings that contain one of several given words. The general idea of this construction is that the automaton contains one state for every true word prefix; in addition there is a terminal state $. Then, we introduce transitions from states so that the automaton always remembers the longest infix up to current position that can still be extended to an accepted word."
   ]
  },
  {
   "cell_type": "code",
   "execution_count": null,
   "id": "90d23ba8",
   "metadata": {},
   "outputs": [],
   "source": [
    "def maxoverlap(s,t):\n",
    "    for i in reversed(range(min(len(s),(len(t)))+1)):\n",
    "        if s[-i:] == t[:i]:\n",
    "            return i\n",
    "    return 0\n",
    "\n",
    "def construct_automaton(words):\n",
    "    #\n",
    "    Sigma = set()\n",
    "    for w in words:\n",
    "        Sigma = Sigma.union(w)\n",
    "\n",
    "    states = set()\n",
    "    for w in words:\n",
    "        for i in range(0,len(w)):\n",
    "            states.add(w[:i])\n",
    "\n",
    "    states.add(\"$\")\n",
    "\n",
    "    # construct transition table as dictionary delta[state][c] = nextstate\n",
    "    delta = defaultdict(dict)\n",
    "\n",
    "    for state in states:\n",
    "        if state==\"$\":\n",
    "            for c in Sigma:\n",
    "                delta[state][c]=\"$\"\n",
    "            continue\n",
    "        for c in Sigma:\n",
    "            s = state+c\n",
    "\n",
    "            if s in words:\n",
    "                delta[state][c] = \"$\"\n",
    "                continue\n",
    "\n",
    "            if s in states:\n",
    "                delta[state][c] = s\n",
    "                continue\n",
    "\n",
    "            # find smallest state with largest overlap\n",
    "            xs = []\n",
    "            for state2 in states:\n",
    "                k = maxoverlap(s,state2)\n",
    "                xs.append((state2,k))\n",
    "            if len(xs)>0:\n",
    "                maxk = max(x[1] for x in xs)\n",
    "                maxstates = [x[0] for x in xs if x[1]==maxk]\n",
    "                state2=min(maxstates, key=lambda x: len(x))\n",
    "                delta[state][c]=state2\n",
    "    return (states,delta)"
   ]
  },
  {
   "cell_type": "markdown",
   "id": "bfbb6658",
   "metadata": {},
   "source": [
    "### Construct for specific instance and visualize\n",
    "\n",
    "As preparation step, to finally forbid the restriction sites, we are first construting a DFA that recognizes them. "
   ]
  },
  {
   "cell_type": "code",
   "execution_count": null,
   "id": "df631dbc",
   "metadata": {},
   "outputs": [],
   "source": [
    "automaton = construct_automaton(restriction_sites)\n",
    "\n",
    "snum = len(automaton[0])\n",
    "print(f'{snum} states')"
   ]
  },
  {
   "cell_type": "code",
   "execution_count": null,
   "id": "97ac22f8",
   "metadata": {},
   "outputs": [],
   "source": [
    "import graphviz\n",
    "\n",
    "def draw_automaton(automaton):\n",
    "    states,delta = automaton\n",
    "    \n",
    "    G=graphviz.Digraph(engine=\"dot\",\n",
    "    graph_attr=dict(),\n",
    "    node_attr=dict(fontsize=\"22pt\", fontname=\"Helvetica\",\n",
    "                   penwidth=\"3.0\", fontcolor=\"black\",\n",
    "                   shape=\"rectangle\", style=\"rounded\",\n",
    "                   height=\"0.4\", margin=\"0.03\"),\n",
    "    edge_attr=dict(color=\"gray30\", penwidth=\"1.5\", arrowsize=\"0.8\"))\n",
    "    \n",
    "    for state in states:\n",
    "        G.node(state)\n",
    "    for src in delta:\n",
    "        tgts = defaultdict(list)\n",
    "        for c in delta[src]:\n",
    "            tgt = delta[src][c]\n",
    "            tgts[tgt].append(c)\n",
    "        for tgt,c in tgts.items():\n",
    "            G.edge(src,tgt,label=','.join(sorted(c)))\n",
    "    \n",
    "    return G"
   ]
  },
  {
   "cell_type": "code",
   "execution_count": null,
   "id": "6e86951b",
   "metadata": {},
   "outputs": [],
   "source": [
    "draw_automaton(automaton)"
   ]
  },
  {
   "cell_type": "markdown",
   "id": "ba775d9b",
   "metadata": {},
   "source": [
    "## Automaton feature network\n",
    "\n",
    "We 'implement' the automaton as Infrared model, by modeling the state at each position by a variable (whose value is the state index) and the transitions by constraints.\n",
    "For use in our model, we define a constraint to express the transition function $\\delta$. To express our model in Infrared, states (and characters) have to be encoded as integers. Thus, before we can express the model, we translate our automaton (including its transition function) to this encoding. "
   ]
  },
  {
   "cell_type": "code",
   "execution_count": null,
   "id": "67283306",
   "metadata": {},
   "outputs": [],
   "source": [
    "ir.def_constraint_class('Trans',\n",
    "    lambda i,delta,var: var([('X',i),('Y',i),('Y',i+1)]),\n",
    "    lambda xi,yi,yip1,delta: yip1 == delta[yi][xi])\n",
    "\n",
    "def automaton_to_int_encoding(automaton, Sigma):\n",
    "    \"\"\"Convert automaton to an integer encoding\n",
    "    \n",
    "    Returns:\n",
    "        (revintstates, intdelta), where\n",
    "          * revinstates represents the states as a mapping from state labels to integers\n",
    "          * intdelta is the delta function on integers for states and characters (w.r.t. Sigma)\n",
    "          \n",
    "    \"\"\"\n",
    "    states, delta = automaton\n",
    "    \n",
    "    states=list(states)\n",
    "    termidx = states.index('$')\n",
    "    states[termidx],states[-1] = states[-1],states[termidx]\n",
    "    \n",
    "    numstates = len(states)\n",
    "    \n",
    "    revintstates = {state:x for x,state in enumerate(states)}\n",
    "        \n",
    "    intdelta = defaultdict(dict)\n",
    "    for src in delta:\n",
    "        for c in delta[src]:\n",
    "            tgt = delta[src][c]\n",
    "            intdelta[revintstates[src]][Sigma.index(c)] = revintstates[tgt]\n",
    "    \n",
    "    return revintstates, intdelta\n",
    "\n",
    "    \n",
    "def automaton_model(n, Sigma, automaton, model=None, negated=False):\n",
    "    \"\"\"\n",
    "    Construct automaton model\n",
    "    Args:\n",
    "       Sigma: alphabet\n",
    "       automaton: actually, only the pair of states and delta of an AC automaton, implicit start at ''\n",
    "       negated: if False, choose '$' as accepting; if True, every other state\n",
    "       model: if this is not None, extend the given model by the automaton.\n",
    "           Given models must define n variables X_i, which encode alphabet characters.\n",
    "    Returns:\n",
    "        The constructed model\n",
    "    \"\"\"\n",
    "    \n",
    "    # sort the alphabet\n",
    "    Sigma = sorted(Sigma)\n",
    "    \n",
    "    # unless a model is already provided, construct it\n",
    "    # ()\n",
    "    if model is None:\n",
    "        model = ir.Model()\n",
    "        model.add_variables(n, len(Sigma), name='X')\n",
    "    \n",
    "    states, delta = automaton_to_int_encoding(automaton, Sigma)\n",
    "    \n",
    "    q0 = states['']\n",
    "    qf = states['$']\n",
    "    \n",
    "    numstates = len(states)\n",
    "    \n",
    "    model.add_variables(1,   (q0,q0),'Y')\n",
    "    model.add_variables(n-1, numstates ,'Y')\n",
    "    if not negated:\n",
    "        model.add_variables(1,   (qf,qf), 'Y')\n",
    "    else:\n",
    "        model.add_variables(1,   (0,qf-1), 'Y')\n",
    "    \n",
    "    model.add_constraints( Trans(i,delta,model.idx) for i in range(n) )\n",
    "    \n",
    "    return model"
   ]
  },
  {
   "cell_type": "markdown",
   "id": "af8cd527",
   "metadata": {},
   "source": [
    "## Model for our example\n",
    "\n",
    "Construct the model for our example input words and use it to generate (uniformly drawn) sequences that avoid the input words!"
   ]
  },
  {
   "cell_type": "code",
   "execution_count": null,
   "id": "16ff83a3",
   "metadata": {},
   "outputs": [],
   "source": [
    "Sigma = \"ACGT\"\n",
    "n=100\n",
    "def a_to_seq(assignment, n, Sigma):\n",
    "    return \"\".join([Sigma[i] for i in sample.values()[:n]])\n",
    "\n",
    "model = automaton_model(n, Sigma, automaton, negated=True)"
   ]
  },
  {
   "cell_type": "markdown",
   "id": "707f657e",
   "metadata": {},
   "source": [
    "generate sequences and test whether they contain any input word (if above negated=True, then they must not occur; otherwise one of them must occur)"
   ]
  },
  {
   "cell_type": "code",
   "execution_count": null,
   "id": "60c523b4",
   "metadata": {},
   "outputs": [],
   "source": [
    "sampler = ir.Sampler(model)\n",
    "\n",
    "for _ in range(10):\n",
    "    sample = sampler.sample()\n",
    "    seq = a_to_seq(sample,n,Sigma)\n",
    "    print(seq)\n",
    "    ## Test whether input words are contained\n",
    "    for w in restriction_sites:\n",
    "        if w in seq: \n",
    "            print(f\"    {w} occurs\")"
   ]
  },
  {
   "cell_type": "markdown",
   "id": "9ae94fe1",
   "metadata": {},
   "source": [
    "# APPENDIX"
   ]
  },
  {
   "cell_type": "markdown",
   "id": "36fb2275",
   "metadata": {},
   "source": [
    "## Combination with multi-target design"
   ]
  },
  {
   "cell_type": "code",
   "execution_count": null,
   "id": "171ed67f",
   "metadata": {},
   "outputs": [],
   "source": [
    "from infrared import rna\n",
    "toy_targets = [\n",
    "#    012345678901234567890\n",
    "    \"((((...)))).(((...)))\",\n",
    "    \"((((((......)))...)))\",\n",
    "    \"......(((...)))......\"\n",
    "]\n",
    "# RNAfold/3str/f3.100.0.inp\n",
    "\n",
    "benchmark_targets = [\n",
    "'((((.((....)).)))).((.(((.((((.....(((..((((((.((..(((.(.....).)))..)).)).))))..)))..)))).))).))....',\n",
    "'..(((((.....(((.(((((((.....))))..))).))).....)))))..((((((((((...))).)....))))))...((((((....))))))',\n",
    "'......(((((.....(((...(((.((.((.(((....((......))...))).)).)))))..))).............))))).((((...)))).'\n",
    "]\n",
    "\n",
    "targets = toy_targets"
   ]
  },
  {
   "cell_type": "code",
   "execution_count": null,
   "id": "a37e1b87",
   "metadata": {},
   "outputs": [],
   "source": [
    "def construct_design_model(targets):\n",
    "    seqlen = len(targets[0])\n",
    "    ######\n",
    "    # construct the constraint model\n",
    "    model = ir.Model()\n",
    "\n",
    "    # one variable X_i per position i;\n",
    "    # the value of X_i encodes the nucleotide at position i   \n",
    "    model.add_variables( seqlen, 4, name='X' )\n",
    "\n",
    "    for i,target in enumerate(targets):\n",
    "        bps = rna.parse(target)\n",
    "\n",
    "        model.add_constraints( rna.BPComp( i, j ) for ( i, j ) in bps )\n",
    "\n",
    "        model.add_functions( [ rna.BPEnergy( i, j, False ) \n",
    "                               for ( i, j ) in bps ], group = f'bpenergy{i}' )\n",
    "\n",
    "        model.add_feature( f'E{i}', # feature name\n",
    "                           f'bpenergy{i}', # controlled group(s)\n",
    "                           #\n",
    "                           # function to evaluate the feature for a sample;\n",
    "                           # NOTE how we have to bind i\n",
    "                           lambda sample, i=i: RNA.energy_of_struct( rna.values_to_seq( sample.values() ),\n",
    "                                                  targets[i] )\n",
    "                         )\n",
    "\n",
    "    model.add_functions( [ rna.GCCont( i = i ) for i in range(seqlen) ], group = 'gc' )\n",
    "\n",
    "\n",
    "    model.write_graph('dependency_graph.dot', True)\n",
    "    ir.dotfile_to_pdf('dependency_graph.dot')\n",
    "\n",
    "    # the model generates automatic features 'bpenergyI', 'gc' from the function groups;\n",
    "    # as well as total feature combining all function groups;\n",
    "    # however, we want to diretly control Turner energy (instead of base pair energy).\n",
    "    # For this purpose, add additional features 'EI'\n",
    "\n",
    "    return model"
   ]
  },
  {
   "cell_type": "code",
   "execution_count": null,
   "id": "22f62214",
   "metadata": {},
   "outputs": [],
   "source": [
    "model = construct_design_model(targets)\n",
    "\n",
    "sampler = ir.Sampler(model)\n",
    "print(f'Treewidth(design): {sampler.treewidth()}')\n",
    "\n",
    "n= len(targets[0])\n",
    "model = automaton_model(n, Sigma, automaton, negated=True)\n",
    "\n",
    "sampler = ir.Sampler(model)\n",
    "print(f'Treewidth(design+automaton): {sampler.treewidth()}')"
   ]
  },
  {
   "cell_type": "code",
   "execution_count": null,
   "id": "cd09eb1b",
   "metadata": {},
   "outputs": [],
   "source": [
    "print(f'Length: {len(seq)}')\n",
    "for target in targets:\n",
    "    print(target)\n",
    "for sample in (sampler.sample() for _ in range(10)):\n",
    "    seq = a_to_seq(sample,n,\"ACGU\")\n",
    "    print(seq)"
   ]
  },
  {
   "cell_type": "code",
   "execution_count": null,
   "id": "3342d696",
   "metadata": {},
   "outputs": [],
   "source": [
    "from IPython.display import Image\n",
    "import re\n",
    "\n",
    "# Plot dependency graph\n",
    "filename = 'dependency_graph.dot'\n",
    "model.write_graph(filename, True)\n",
    "\n",
    "ir.dotfile_to_png(filename)\n",
    "filename = re.sub(r\"dot$\",\"png\",filename)\n",
    "Image(filename=filename,width=1200)"
   ]
  },
  {
   "cell_type": "code",
   "execution_count": null,
   "id": "67a96be1",
   "metadata": {},
   "outputs": [],
   "source": [
    "# Plot tree decomposition\n",
    "filename=\"treedecomp\"\n",
    "sampler.plot_td(filename,'png')\n",
    "Image(filename=filename+\".png\",width=600)"
   ]
  }
 ],
 "metadata": {
  "jupytext": {
   "formats": "ipynb,auto:light"
  },
  "kernelspec": {
   "display_name": "Python 3 (ipykernel)",
   "language": "python",
   "name": "python3"
  },
  "language_info": {
   "codemirror_mode": {
    "name": "ipython",
    "version": 3
   },
   "file_extension": ".py",
   "mimetype": "text/x-python",
   "name": "python",
   "nbconvert_exporter": "python",
   "pygments_lexer": "ipython3",
   "version": "3.10.9"
  }
 },
 "nbformat": 4,
 "nbformat_minor": 5
}
