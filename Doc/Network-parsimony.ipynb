{
 "cells": [
  {
   "cell_type": "markdown",
   "id": "6bf932ef",
   "metadata": {},
   "source": [
    "# Network parsimony\n",
    "\n",
    "The small parsimony problem is typically defined over phylogenetic trees. First assuming that traits are inherited independently of each other, we consider the problem for a single trait with possible characters in set $C$. The input of the small tree parsimony problem\n",
    "is a tree and a labeling of the leaves by characters in $C$. The \n",
    "problem asks for a labeling of all tree nodes that minimizes the number of label differences (\"mutations\") over all tree edges.\n",
    "\n",
    "Network parsimony generalizes the notion of parsimony from trees to networks.\n",
    "\n",
    "We consider three types of small network parsimony problems the literature:\n",
    "\n",
    "* hardwired parsimony\n",
    "* softwired parsimony\n",
    "* parental parsimony\n",
    "\n",
    "In all of these problems one is given a rooted network, i.e. a finite directed acyclic graph (DAG) $G=(V,E)$ with one distinct root node $v_r$ together with a labeling of the leaves (or generally a partial labeling $\\phi: V\\rightarrow 2^C$. The task is to find a labeling of the nodes that minimizes a specific parsimony criterion.\n",
    "\n",
    "In our considerations we follow the popular restriction to networks with indegree of at most two.\n",
    "\n",
    "## Hardwired parsimony\n",
    "\n",
    "Given a rooted network and partial node labeling, one minimizes the number of mutations over all directed edges of the network, i.e.\n",
    "\n",
    "$PS_{hardwired} = \\min_\\psi \\sum_{(u,v)\\in E} \\psi(u)\\neq\\psi(v)$\n",
    "\n",
    "where $\\psi: V\\rightarrow C$ s.t. $\\forall v\\in V: \\psi(v)\\in\\phi(v)$.\n",
    "\n",
    "This is a formal extension of tree parsimony to networks; one accounts for mutations along all edges.\n",
    "\n",
    "## Softwired parsimony\n",
    "\n",
    "Given a rooted network and partial node labeling, one minimizes the number of mutations over all directed edges of a spanning tree of the network, i.e.\n",
    "\n",
    "$PS_{softwired} = \\min_{\\psi, T} \\sum_{(u,v)\\in E_T} \\psi(u)\\neq\\psi(v),$\n",
    "\n",
    "where $\\psi: V\\rightarrow C$ s.t. $\\forall v\\in V: \\psi(v)\\in\\phi(v)$.\n",
    "\n",
    "The idea of this model is that the network specifies the set of potential phylogenetic trees over wich one solve the small tree parsimony problem. \n",
    "\n",
    "## Parental parsimony\n",
    "\n",
    "This model considers the inheritance of allels in a polyploid setting. Characters can be mutated in children and/or collected from the ancestors (by allopoloploidy). (We present the problem from the lineage perspective!)\n",
    "Consequently, nodes are labeled by sets of characters. \n",
    "\n",
    "$PS_{parental} = \\min_{f} \\sum_{v\\in V} \\operatorname{cost}_f(v),$\n",
    "\n",
    "where\n",
    " * $f: V\\rightarrow 2^C$\n",
    " * $f(v_r)| = 1$\n",
    " * $|f(v)| \\leq \\sum_{\\text{$u$ parent of $v$}} |f(v)|$ \n",
    " * $\\operatorname{cost}_f(v) = |f(v) \\setminus \n",
    "     \\bigcup_{\\text{$u$ parent of $v$}} f(u)|$"
   ]
  },
  {
   "cell_type": "code",
   "execution_count": null,
   "id": "51e011f6",
   "metadata": {},
   "outputs": [],
   "source": [
    "import infrared as ir"
   ]
  },
  {
   "cell_type": "code",
   "execution_count": null,
   "id": "3138c610",
   "metadata": {},
   "outputs": [],
   "source": [
    "class DAG:\n",
    "    \"\"\"A simple class reprenting a rooted DAG\n",
    "    \"\"\"\n",
    "    \n",
    "    def __init__(self, numnodes, edges, characters):\n",
    "        self._nodes = list(range(numnodes))\n",
    "        self._edges = edges\n",
    "        self._characters = characters\n",
    "        \n",
    "        # precompute parents, children, root\n",
    "        # and perform some checks for 'proper' DAG\n",
    "        self._parents=[[] for _ in self._nodes]\n",
    "        for u,v in self._edges:\n",
    "            self._parents[v].append(u)\n",
    "    \n",
    "        self._children=[[] for _ in self._nodes]\n",
    "        for u,v in self._edges:\n",
    "            self._children[u].append(v)\n",
    "    \n",
    "        assert(self._parents[0]==[])\n",
    "        for node in self._nodes[1:]:\n",
    "            assert(self._parents!=[])\n",
    "    \n",
    "        # find root\n",
    "        self._root = None\n",
    "        for v in self.nodes:\n",
    "            if self.parents(v) is []:\n",
    "                assert(self._root==None)\n",
    "                self._root = v\n",
    "    \n",
    "    def parents(self, node):\n",
    "        return self._parents[node]\n",
    "    \n",
    "    def children(self, node):\n",
    "        return self._children[node]\n",
    "        \n",
    "    @property\n",
    "    def root(self):\n",
    "        return self._root\n",
    "        \n",
    "    @property\n",
    "    def edges(self):\n",
    "        return self._edges\n",
    "\n",
    "    @property\n",
    "    def nodes(self):\n",
    "        return self._nodes\n",
    "\n",
    "    @property\n",
    "    def reticulation_nodes(self):\n",
    "        return [v for v in self._nodes if len(self.parents(v))>1]\n",
    "    \n",
    "    @property\n",
    "    def nonreticulation_nodes(self):\n",
    "        return [v for v in self._nodes if len(self.parents(v))==1]\n",
    "\n",
    "    @property\n",
    "    def leaves(self):\n",
    "        return [v for v in self._nodes if self.children(v)==[]]\n",
    "    \n",
    "    def show(self, labels):\n",
    "        import graphviz\n",
    "        \n",
    "        G=graphviz.Digraph(engine=\"dot\")\n",
    "        \n",
    "        for v in self.nodes:\n",
    "            G.node(str(v), label=self._characters[labels[v]])\n",
    "        for v,u in self.edges:\n",
    "            G.edge(str(v),str(u))\n",
    "        return G\n",
    "    \n",
    "    def print(self, labels):\n",
    "        for v in self.nodes:\n",
    "            print(f'{v}\\'{self._characters[labels[v]]}\\' -> {self.children(v)}')"
   ]
  },
  {
   "cell_type": "markdown",
   "id": "c10972f2",
   "metadata": {},
   "source": [
    "## An example input instance"
   ]
  },
  {
   "cell_type": "code",
   "execution_count": null,
   "id": "f548c4be",
   "metadata": {},
   "outputs": [],
   "source": [
    "characters = [\"A\",\"C\",\"G\",\"T\"]\n",
    "\n",
    "network = DAG(12,[(0,1),      (0,2),\n",
    "                  (1,3),      (1,4),(2,4),(2,5),\n",
    "                  (3,6),(3,7),(4,8),(4,9),(5,10),(5,11)],characters)\n",
    "\n",
    "leaves = ['A','T','T','C','G','G']"
   ]
  },
  {
   "cell_type": "markdown",
   "id": "877ad610",
   "metadata": {},
   "source": [
    "## Model hardwired parsimony"
   ]
  },
  {
   "cell_type": "markdown",
   "id": "7f0b9770",
   "metadata": {},
   "source": [
    "### Define a hamming distance function between nodes "
   ]
  },
  {
   "cell_type": "code",
   "execution_count": null,
   "id": "6437f487",
   "metadata": {},
   "outputs": [],
   "source": [
    "ir.def_function_class(\"HDistance\",\n",
    "    lambda u,v: [u,v],\n",
    "    lambda psi_u,psi_v: psi_u != psi_v\n",
    "    )"
   ]
  },
  {
   "cell_type": "markdown",
   "id": "503513cc",
   "metadata": {},
   "source": [
    "### Construct the model"
   ]
  },
  {
   "cell_type": "code",
   "execution_count": null,
   "id": "bb56bd51",
   "metadata": {},
   "outputs": [],
   "source": [
    "model = ir.Model()\n",
    "\n",
    "model.add_variables(len(network.nodes), len(characters))\n",
    "model.add_functions([HDistance(u,v) for u,v in network.edges],\n",
    "                   'score')\n",
    "\n",
    "model.set_feature_weight(-1, 'score') # -1, since we are minimizing\n",
    "\n",
    "# constrain leaves\n",
    "for i,leave in enumerate(network.leaves):\n",
    "    val = characters.index(leaves[i])\n",
    "    model.restrict_domains(leave, (val,val))"
   ]
  },
  {
   "cell_type": "markdown",
   "id": "037d0754",
   "metadata": {},
   "source": [
    "### Run optimization"
   ]
  },
  {
   "cell_type": "code",
   "execution_count": null,
   "id": "3915e348",
   "metadata": {},
   "outputs": [],
   "source": [
    "optimizer = ir.Optimizer(model)\n",
    "\n",
    "best_score = -optimizer.evaluate()\n",
    "best = optimizer.optimize()\n",
    "\n",
    "print(f'Score: {best_score}')\n",
    "\n",
    "network.show(best.values())"
   ]
  },
  {
   "cell_type": "markdown",
   "id": "efa1b82b",
   "metadata": {},
   "source": [
    "## Model softwired parsimony"
   ]
  },
  {
   "cell_type": "markdown",
   "id": "cc24a086",
   "metadata": {},
   "source": [
    "### Define hamming distance for reticualtions"
   ]
  },
  {
   "cell_type": "code",
   "execution_count": null,
   "id": "eda77dc0",
   "metadata": {},
   "outputs": [],
   "source": [
    "ir.def_function_class(\"ReticulationHDistance\",\n",
    "    lambda u0,u1,v: [u0, u1, v],\n",
    "    lambda psi_u0,psi_u1,psi_v: min(psi_u0 != psi_v,psi_u1 != psi_v)\n",
    "    )"
   ]
  },
  {
   "cell_type": "markdown",
   "id": "9ae8ec42",
   "metadata": {},
   "source": [
    "### Construct model"
   ]
  },
  {
   "cell_type": "code",
   "execution_count": null,
   "id": "4df1572c",
   "metadata": {},
   "outputs": [],
   "source": [
    "model = ir.Model()\n",
    "\n",
    "model.add_variables(len(network.nodes), len(characters))\n",
    "model.add_functions([HDistance(network.parents(v)[0],v)\n",
    "                     for v in network.nonreticulation_nodes],\n",
    "                    'score')\n",
    "\n",
    "model.add_functions([ReticulationHDistance(network.parents(v)[0],network.parents(v)[1],v)\n",
    "                     for v in network.reticulation_nodes],\n",
    "                    'score')\n",
    "\n",
    "model.set_feature_weight(-1, 'score')\n",
    "\n",
    "for i,leave in enumerate(network.leaves):\n",
    "    val = characters.index(leaves[i])\n",
    "    model.restrict_domains(leave, (val,val))"
   ]
  },
  {
   "cell_type": "markdown",
   "id": "fbc18bc3",
   "metadata": {},
   "source": [
    "### Run optimization"
   ]
  },
  {
   "cell_type": "code",
   "execution_count": null,
   "id": "d58b036b",
   "metadata": {},
   "outputs": [],
   "source": [
    "optimizer = ir.Optimizer(model)\n",
    "\n",
    "best_score = -optimizer.evaluate()\n",
    "best = optimizer.optimize()\n",
    "\n",
    "print(f'Score: {best_score}')\n",
    "network.print(best.values())"
   ]
  }
 ],
 "metadata": {
  "kernelspec": {
   "display_name": "Python 3 (ipykernel)",
   "language": "python",
   "name": "python3"
  },
  "language_info": {
   "codemirror_mode": {
    "name": "ipython",
    "version": 3
   },
   "file_extension": ".py",
   "mimetype": "text/x-python",
   "name": "python",
   "nbconvert_exporter": "python",
   "pygments_lexer": "ipython3",
   "version": "3.10.9"
  }
 },
 "nbformat": 4,
 "nbformat_minor": 5
}
