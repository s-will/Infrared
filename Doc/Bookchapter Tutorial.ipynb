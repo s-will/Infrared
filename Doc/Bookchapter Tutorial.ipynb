{
 "cells": [
  {
   "cell_type": "markdown",
   "id": "f4cd8224",
   "metadata": {},
   "source": [
    "# Bookchapter Tutorial\n",
    "\n",
    "This notebook contains code for the examples from the bookchapter \"Developing complex RNA design applications in the Infrared framework\"\n",
    "by Hua-Ting Yao, Yann Ponty, and Sebastian Will.\n",
    "\n",
    "The main purpose of this notebook is to allow readers of the chapter to easily run examples and possibly experiment with the code. Code is therefore given in the same order as in the bookchapter and under corresponding section titles.\n",
    "\n",
    "Compared to the code given in the chapter, we extended some code to make it even more illustrative, e.g. by plotting results. Finally, we provide code to generate figures of the bookchapter in the Appendix.\n",
    "\n",
    "\n",
    "## 1 Introduction"
   ]
  },
  {
   "cell_type": "code",
   "execution_count": null,
   "id": "595e2585",
   "metadata": {},
   "outputs": [],
   "source": [
    "from infrared import *\n",
    "from infrared.rna import *\n",
    "\n",
    "import matplotlib.pyplot as plt"
   ]
  },
  {
   "cell_type": "code",
   "execution_count": null,
   "id": "c803915b",
   "metadata": {},
   "outputs": [],
   "source": [
    "target = \"((((((((((...))))((((....))))))))))\"\n",
    "model = Model(len(target), 4)\n",
    "model.add_constraints(BPComp(i,j) for (i,j) in parse(target))\n",
    "sampler = Sampler(model)\n",
    "samples = [sampler.sample() for _ in range(10)]"
   ]
  },
  {
   "cell_type": "code",
   "execution_count": null,
   "id": "914a166b",
   "metadata": {},
   "outputs": [],
   "source": [
    "sequences = [ass_to_seq(x) for x in samples]\n",
    "sequences"
   ]
  },
  {
   "cell_type": "markdown",
   "id": "cbb94c39",
   "metadata": {},
   "source": [
    "We are going to visualize the nucleotide frequencies of the sampled sequences \n",
    "if module ```logomaker``` is availabe.\n",
    "(e.g. install by ```conda install logomaker```)"
   ]
  },
  {
   "cell_type": "code",
   "execution_count": null,
   "id": "78bfc79d",
   "metadata": {},
   "outputs": [],
   "source": [
    "def draw_logo(samples,name=None):\n",
    "    import logomaker as lm\n",
    "    \n",
    "    sequences = [ass_to_seq(x) for x in samples]\n",
    "    \n",
    "    matrix = lm.alignment_to_matrix(sequences = sequences)\n",
    "    logo = lm.Logo(matrix)\n",
    "    logo.style_xticks(rotation=90, fmt='%d', anchor=0)\n",
    "    logo.ax.xaxis.set_ticks_position('none')\n",
    "    if name is not None:\n",
    "        plt.savefig(name)\n",
    "    plt.show()\n",
    "    logo.ax.xaxis.set_tick_params(pad=-1)\n",
    "    return sequences\n",
    "\n",
    "def opt_draw_logo(samples,name=None,num=10):\n",
    "    try:\n",
    "        draw_logo(samples,name)\n",
    "    except ModuleNotFoundError as e:\n",
    "        print(e)\n",
    "    for x in samples[:num]:\n",
    "        print(ass_to_seq(x))\n",
    "    if len(samples)>num:\n",
    "        print(\"...\")\n",
    "\n",
    "def assignments_to_seqs(xs):\n",
    "    return [ass_to_seq(x) for x in xs]\n",
    "\n",
    "opt_draw_logo(samples)"
   ]
  },
  {
   "cell_type": "markdown",
   "id": "d92a6429",
   "metadata": {},
   "source": [
    "### Multiple targets"
   ]
  },
  {
   "cell_type": "code",
   "execution_count": null,
   "id": "9193a0ae",
   "metadata": {},
   "outputs": [],
   "source": [
    "#           01234567890123456789012345678901234\n",
    "targets = [\"((((((((((...))))((((....))))))))))\",\n",
    "           \"((((((.((((((((....))))..))))))))))\",\n",
    "           \".((((((...)))))).(((((((....)))))))\"]"
   ]
  },
  {
   "cell_type": "code",
   "execution_count": null,
   "id": "f2bd40fb",
   "metadata": {},
   "outputs": [],
   "source": [
    "for target in targets:\n",
    "    model.add_constraints(BPComp(i,j) for (i,j) in parse(target))"
   ]
  },
  {
   "cell_type": "code",
   "execution_count": null,
   "id": "680f3936",
   "metadata": {},
   "outputs": [],
   "source": [
    "sampler = Sampler(model)\n",
    "designs = [sampler.sample() for _ in range(10)]\n",
    "\n",
    "samples = [x for x in designs]\n",
    "opt_draw_logo(samples)"
   ]
  },
  {
   "cell_type": "markdown",
   "id": "af6403de",
   "metadata": {},
   "source": [
    "## 3 Methods"
   ]
  },
  {
   "cell_type": "markdown",
   "id": "e83112e6",
   "metadata": {},
   "source": [
    "### 3.1 Elementary use of Infrared - A simple design model"
   ]
  },
  {
   "cell_type": "code",
   "execution_count": null,
   "id": "0a99fe92",
   "metadata": {},
   "outputs": [],
   "source": [
    "n = 35"
   ]
  },
  {
   "cell_type": "code",
   "execution_count": null,
   "id": "39de39a9",
   "metadata": {},
   "outputs": [],
   "source": [
    "model = Model(n,4)"
   ]
  },
  {
   "cell_type": "code",
   "execution_count": null,
   "id": "c54d2e40",
   "metadata": {},
   "outputs": [],
   "source": [
    "target = \"((((((((((...))))((((....))))))))))\"\n",
    "model.add_constraints(BPComp(i,j) for (i,j) in parse(target))"
   ]
  },
  {
   "cell_type": "code",
   "execution_count": null,
   "id": "221d0446",
   "metadata": {},
   "outputs": [],
   "source": [
    "sampler = Sampler(model)\n",
    "samples = [sampler.sample() for _ in range(10)]\n",
    "\n",
    "opt_draw_logo(samples)"
   ]
  },
  {
   "cell_type": "markdown",
   "id": "84a75941",
   "metadata": {},
   "source": [
    "### 3.2 Sequence constraints in IUPAC code"
   ]
  },
  {
   "cell_type": "code",
   "execution_count": null,
   "id": "c28aa5ac",
   "metadata": {},
   "outputs": [],
   "source": [
    "iupac_sequence = \"SNNNNNNNNNRYYNNNNNNNNGNRANNNNNNNNNS\""
   ]
  },
  {
   "cell_type": "code",
   "execution_count": null,
   "id": "fa49b975",
   "metadata": {},
   "outputs": [],
   "source": [
    "for i, x in enumerate(iupac_sequence):\n",
    "    model.add_constraints(ValueIn(i, iupacvalues(x)))"
   ]
  },
  {
   "cell_type": "code",
   "execution_count": null,
   "id": "99eee94f",
   "metadata": {},
   "outputs": [],
   "source": [
    "sampler = Sampler(model)\n",
    "samples = [sampler.sample() for _ in range(20)]\n",
    "\n",
    "opt_draw_logo(samples)"
   ]
  },
  {
   "cell_type": "markdown",
   "id": "5edb17a9",
   "metadata": {},
   "source": [
    "### 3.3 Control of GC content"
   ]
  },
  {
   "cell_type": "code",
   "execution_count": null,
   "id": "44a9abfd",
   "metadata": {},
   "outputs": [],
   "source": [
    "# add functions for GC control\n",
    "model.add_functions([GCCont(i) for i in range(n)], 'gc')"
   ]
  },
  {
   "cell_type": "code",
   "execution_count": null,
   "id": "95986ae2",
   "metadata": {},
   "outputs": [],
   "source": [
    "# set a weight and sample\n",
    "model.set_feature_weight(0.15, 'gc')\n",
    "\n",
    "sampler = Sampler(model)\n",
    "samples = [sampler.sample() for _ in range(1000)]\n",
    "opt_draw_logo(samples)"
   ]
  },
  {
   "cell_type": "code",
   "execution_count": null,
   "id": "39b467e6",
   "metadata": {},
   "outputs": [],
   "source": [
    "## Code to produce the figures in the paper\n",
    "WRITEFIGS = False\n",
    "for name,weight in [('minus', -1), ('zero', 0), ('plus', 1)]:\n",
    "    \n",
    "    model.set_feature_weight(weight, 'gc')\n",
    "    sampler = Sampler(model)\n",
    "    samples = [sampler.sample() for _ in range(1000)]\n",
    "\n",
    "    opt_draw_logo(samples, f\"gc_content_{name}-logo.svg\")\n",
    "    sequences = assignments_to_seqs(samples)\n",
    "\n",
    "    gc_contents = [100*sum(x in \"GC\" for x in sequence)/len(sequence) for sequence in sequences]\n",
    "    h = plt.hist(gc_contents,bins=10,range=(0,100))\n",
    "    if WRITEFIGS:\n",
    "        plt.savefig(f\"gc_content_{name}-hist.svg\")"
   ]
  },
  {
   "cell_type": "markdown",
   "id": "3cdbcb98",
   "metadata": {},
   "source": [
    "Set a target of 75% GC content and then draw targeted samples"
   ]
  },
  {
   "cell_type": "code",
   "execution_count": null,
   "id": "ea210063",
   "metadata": {},
   "outputs": [],
   "source": [
    "sampler = Sampler(model)\n",
    "\n",
    "sampler.set_target( 0.75 * n, 0.01 * n, 'gc' )\n",
    "\n",
    "samples = [sampler.targeted_sample() for _ in range(1000)]\n",
    "opt_draw_logo(samples)\n",
    "sequences = assignments_to_seqs(samples)\n",
    "\n",
    "gc_contents = [100*sum(x in \"GC\" for x in sequence)/len(sequence) for sequence in sequences]\n",
    "gc_content = sum(gc_contents) / len(gc_contents)\n",
    "print(f\"GC content in samples: {gc_content:0.2f}%\")"
   ]
  },
  {
   "cell_type": "markdown",
   "id": "5fa98a8b",
   "metadata": {},
   "source": [
    "### 3.4 Controlling energy - Multiple features"
   ]
  },
  {
   "cell_type": "code",
   "execution_count": null,
   "id": "777b861b",
   "metadata": {},
   "outputs": [],
   "source": [
    "# recall current model\n",
    "model = Model(n,4) \n",
    "bps = parse(target)\n",
    "model.add_constraints(BPComp(i,j) for (i,j) in bps)\n",
    "model.add_functions([GCCont(i) for i in range(n)], 'gc')"
   ]
  },
  {
   "cell_type": "code",
   "execution_count": null,
   "id": "c9665287",
   "metadata": {},
   "outputs": [],
   "source": [
    "# add (base pair) energy control\n",
    "model.add_functions([BPEnergy(i, j, (i-1, j+1) not in bps)\n",
    "                     for (i,j) in bps], 'energy')"
   ]
  },
  {
   "cell_type": "code",
   "execution_count": null,
   "id": "e7c5f50c",
   "metadata": {},
   "outputs": [],
   "source": [
    "# target specific GC and low energy \n",
    "model.set_feature_weight(-2, 'energy')\n",
    "sampler = Sampler(model)\n",
    "sampler.set_target(0.75*n, 0.01*n, 'gc')\n",
    "samples = [sampler.targeted_sample() for _ in range(10)]"
   ]
  },
  {
   "cell_type": "code",
   "execution_count": null,
   "id": "2b07b795",
   "metadata": {},
   "outputs": [],
   "source": [
    "opt_draw_logo(samples)"
   ]
  },
  {
   "cell_type": "code",
   "execution_count": null,
   "id": "b4422988",
   "metadata": {},
   "outputs": [],
   "source": [
    "# add stacking energy control \n",
    "# - this could be used in place of defining base pair energy\n",
    "#   in the code above\n",
    "model.add_functions([StackEnergy(i, j)\n",
    "    for (i,j) in bps if (i+1,j-1) in bps], 'energy')"
   ]
  },
  {
   "cell_type": "markdown",
   "id": "7326eb7b",
   "metadata": {},
   "source": [
    "### 3.5 Targeting Turner energy - Customized features\n",
    "\n",
    "*Note:* From this point on, we require RNA energy evaluation based on the Vienna RNA library. Under Mac and Linux, the functionality is accessed via module RNA of the library. Since, this is typically unavailable on Windows, we provide a work around."
   ]
  },
  {
   "cell_type": "code",
   "execution_count": null,
   "id": "e76bca61",
   "metadata": {},
   "outputs": [],
   "source": [
    "try:\n",
    "    from RNA import energy_of_struct\n",
    "except:\n",
    "    print(\"*Warning*: the RNA Python bindings cannot be imported.\\n\\n\"\n",
    "          \"For Linux and MaxOS it is recommened to install viennarna via conda. \"\n",
    "          \"Windows users are asked to install the Vienna package using the provided Windows installer \"\n",
    "          \"and make sure that the command line tool RNAeval is found based on their search path.\"\n",
    "         )\n",
    "    def energy_of_struct(seq,struct):\n",
    "        try:\n",
    "            import subprocess\n",
    "            import re\n",
    "            p = subprocess.run([\"RNAeval\"], input=f\"{seq}\\n{struct}\".encode('utf-8'), capture_output=True)\n",
    "            m = re.search(r'([0-9-.]*)\\)$',p.stdout.decode('utf-8').split('\\n')[1])\n",
    "            res = float(m[1])\n",
    "        except Exception as e:\n",
    "            print(f\"Cannot evaluate energy of {seq}, {struct}\")\n",
    "            raise e\n",
    "        return res"
   ]
  },
  {
   "cell_type": "code",
   "execution_count": null,
   "id": "5c236ab6",
   "metadata": {},
   "outputs": [],
   "source": [
    "# Restate current model\n",
    "model = Model(n,4) \n",
    "bps = parse(target)\n",
    "model.add_constraints(BPComp(i,j) for (i,j) in bps)\n",
    "model.add_functions([GCCont(i) for i in range(n)], 'gc')\n",
    "model.add_functions([BPEnergy(i, j, (i-1, j+1) not in bps)\n",
    "                     for (i,j) in bps], 'energy')"
   ]
  },
  {
   "cell_type": "code",
   "execution_count": null,
   "id": "704fc4f7",
   "metadata": {},
   "outputs": [],
   "source": [
    "# add the Turner energy feature\n",
    "model.add_feature('Energy', 'energy',\n",
    "    lambda sample, target=target:\n",
    "        energy_of_struct(ass_to_seq(sample), target))"
   ]
  },
  {
   "cell_type": "code",
   "execution_count": null,
   "id": "1760c452",
   "metadata": {},
   "outputs": [],
   "source": [
    "# specify targets and draw targeted samples\n",
    "sampler = Sampler(model)\n",
    "sampler.set_target(0.75*n, 0.05*n, 'gc')\n",
    "sampler.set_target(-10, 0.5, 'Energy')\n",
    "samples = [sampler.targeted_sample() for _ in range(10)]\n",
    "\n",
    "opt_draw_logo(samples)\n",
    "sequences = assignments_to_seqs(samples)\n",
    "\n",
    "[(seq,energy_of_struct(seq,target)) for seq in sequences]"
   ]
  },
  {
   "cell_type": "markdown",
   "id": "eafed589",
   "metadata": {},
   "source": [
    "### 3.6 Multiple target targets"
   ]
  },
  {
   "cell_type": "code",
   "execution_count": null,
   "id": "f8821c6b",
   "metadata": {},
   "outputs": [],
   "source": [
    "# construct model\n",
    "model = Model(n,4) \n",
    "model.add_functions([GCCont(i) for i in range(n)], 'gc')\n",
    "\n",
    "for k, target in enumerate(targets):\n",
    "    bps = parse(target)\n",
    "    model.add_constraints(BPComp(i,j) for (i,j) in bps)\n",
    "    model.add_functions([BPEnergy(i, j, (i-1, j+1) not in bps)\n",
    "                         for (i,j) in bps], f'energy{k}')"
   ]
  },
  {
   "cell_type": "markdown",
   "id": "6b86e7e7",
   "metadata": {},
   "source": [
    "#### Target specific GC content and high affinity to all targets"
   ]
  },
  {
   "cell_type": "code",
   "execution_count": null,
   "id": "6e352983",
   "metadata": {},
   "outputs": [],
   "source": [
    "# set weights for energy targets\n",
    "for k,_ in enumerate(targets):\n",
    "    model.set_feature_weight(-2, f'energy{k}')\n",
    "\n",
    "# create sampler and set target\n",
    "sampler = Sampler(model)\n",
    "sampler.set_target(0.75*n, 0.05*n, 'gc')\n",
    "samples = [sampler.targeted_sample() for _ in range(5)]\n",
    "\n",
    "opt_draw_logo(samples)\n",
    "sequences = assignments_to_seqs(samples)\n",
    "\n",
    "# annotate sequences with energies (annotate with Turner energies only if RNA module is available)\n",
    "try:\n",
    "    import RNA\n",
    "    sequences = [\"\".join([seq]+[f\" {energy_of_struct(seq,target):5.1f}\" for target in targets]) for seq in sequences]\n",
    "except ModuleNotFoundError:\n",
    "    pass\n",
    "\n",
    "sequences"
   ]
  },
  {
   "cell_type": "markdown",
   "id": "006c33d7",
   "metadata": {},
   "source": [
    "#### Target specific GC content and specific Turner energies for all targets"
   ]
  },
  {
   "cell_type": "code",
   "execution_count": null,
   "id": "ac266b79",
   "metadata": {},
   "outputs": [],
   "source": [
    "# add Turner energy features for all target targets\n",
    "for k, target in enumerate(targets):\n",
    "    model.add_feature(f'Energy{k}', f'energy{k}',\n",
    "        lambda sample, target=target:\n",
    "            energy_of_struct(ass_to_seq(sample), target))\n",
    "\n",
    "sampler = Sampler(model)\n",
    "sampler.set_target(0.75*n, 0.01*n, 'gc')\n",
    "\n",
    "sampler.set_target( -15, 1, 'Energy0')\n",
    "sampler.set_target( -20, 1, 'Energy1')\n",
    "sampler.set_target( -20, 1, 'Energy2')\n",
    "\n",
    "samples = [sampler.targeted_sample() for _ in range(5)]\n",
    "\n",
    "opt_draw_logo(samples)\n",
    "sequences = assignments_to_seqs(samples)\n",
    "\n",
    "# annotate sequences with energies\n",
    "[\"\".join([seq]+[f\" {energy_of_struct(seq,target):5.1f}\" for target in targets]) for seq in sequences]"
   ]
  },
  {
   "cell_type": "markdown",
   "id": "c869e08d",
   "metadata": {},
   "source": [
    "### Plot dependencies and tree decomposition"
   ]
  },
  {
   "cell_type": "code",
   "execution_count": null,
   "id": "daf39d91",
   "metadata": {},
   "outputs": [],
   "source": [
    "from IPython.display import Image"
   ]
  },
  {
   "cell_type": "code",
   "execution_count": null,
   "id": "141eb5c3",
   "metadata": {},
   "outputs": [],
   "source": [
    "# Plot dependency graph\n",
    "\n",
    "filename = 'dependency_graph.dot'\n",
    "model.write_graph(filename, True)\n",
    "\n",
    "dotfile_to_png(filename)\n",
    "dotfile_to_pdf(filename)\n",
    "\n",
    "filename = re.sub(r\"dot$\",\"png\",filename)\n",
    "\n",
    "Image(filename=filename,width=600)"
   ]
  },
  {
   "cell_type": "code",
   "execution_count": null,
   "id": "7824ca48",
   "metadata": {},
   "outputs": [],
   "source": [
    "# Plot tree decomposition\n",
    "sampler = Sampler(model)\n",
    "print(f\"Tree width: {sampler.treewidth()}\")\n",
    "filename=\"treedecomp\"\n",
    "sampler.plot_td(filename,'png')\n",
    "sampler.plot_td(filename,'pdf')\n",
    "sampler.plot_td(filename+\".dot\",'dot')\n",
    "Image(filename=filename+\".png\",width=300)"
   ]
  },
  {
   "cell_type": "markdown",
   "id": "8be20ed0",
   "metadata": {},
   "source": [
    "### 3.7 Negative design by sampling"
   ]
  },
  {
   "cell_type": "code",
   "execution_count": null,
   "id": "02977be0",
   "metadata": {},
   "outputs": [],
   "source": [
    "target = targets[0]\n",
    "n = len(target)"
   ]
  },
  {
   "cell_type": "code",
   "execution_count": null,
   "id": "6d3572d9",
   "metadata": {},
   "outputs": [],
   "source": [
    "def is_mfe_design(sequence, target):\n",
    "    fc = RNA.fold_compound(sequence)\n",
    "    return fc.eval_structure(target) == fc.mfe()[1]"
   ]
  },
  {
   "cell_type": "code",
   "execution_count": null,
   "id": "7a34493e",
   "metadata": {},
   "outputs": [],
   "source": [
    "def single_target_design_model(target):\n",
    "    n, bps = len(target), parse(target)\n",
    "    model = Model(n, 4)\n",
    "    model.add_constraints(BPComp(i, j) for (i, j) in bps)\n",
    "    model.add_functions([GCCont(i) for i in range(n)], 'gc')\n",
    "    model.add_functions([BPEnergy(i, j, (i-1, j+1) not in bps)\n",
    "        for (i,j) in bps], 'energy')\n",
    "    model.set_feature_weight(-1.5, 'energy')\n",
    "    return model"
   ]
  },
  {
   "cell_type": "code",
   "execution_count": null,
   "id": "d52031a1",
   "metadata": {},
   "outputs": [],
   "source": [
    "# solve by direct sampling\n",
    "sampler = Sampler(single_target_design_model(target))\n",
    "sampler.set_target(0.7 * n, 0.1 * n, 'gc')\n",
    "for i in range(50):\n",
    "    seq = ass_to_seq(sampler.targeted_sample())\n",
    "    if is_mfe_design(seq,target):\n",
    "        print(f\"{i} {seq}\")"
   ]
  },
  {
   "cell_type": "code",
   "execution_count": null,
   "id": "7e2d7db3",
   "metadata": {},
   "outputs": [],
   "source": [
    "def target_frequency(sequence, target):\n",
    "    fc = RNA.fold_compound(sequence)\n",
    "    fc.pf()\n",
    "    return fc.pr_structure(target)"
   ]
  },
  {
   "cell_type": "code",
   "execution_count": null,
   "id": "054aadf0",
   "metadata": {},
   "outputs": [],
   "source": [
    "sampler = Sampler(single_target_design_model(target))\n",
    "sampler.set_target(0.7 * n, 0.1 * n, 'gc')\n",
    "best = 0\n",
    "for i in range(100):\n",
    "    seq = ass_to_seq(sampler.targeted_sample())\n",
    "    freq = target_frequency(seq,target)\n",
    "    if freq > best:\n",
    "        best = freq\n",
    "        print(f\"{i} {seq} {freq:.6f}\")"
   ]
  },
  {
   "cell_type": "markdown",
   "id": "50ac4915",
   "metadata": {},
   "source": [
    "### 3.8 Larger single-target designs by constraint generation\n",
    "\n",
    "RNAPOND-like negative design (generating constraints for disruptive base pairs)."
   ]
  },
  {
   "cell_type": "code",
   "execution_count": null,
   "id": "223de050",
   "metadata": {},
   "outputs": [],
   "source": [
    "from collections import Counter\n",
    "\n",
    "## A hard instance, eterna37\n",
    "# target = \"(((((.((((((.((((((.((((((.((((((.((((((....((((((......)))))).)))))).(((((...(((((((...)))))))))))).)))))).((((((((((((...)))))))...))))).))))))....))))))....))))))....)))))\"\n",
    "\n",
    "## a slightly harder instance\n",
    "target = \"..(((..((((.....)))).((...(((.....)))...))...)))..\"\n",
    "\n",
    "n = len(target)\n",
    "bps = parse(target)"
   ]
  },
  {
   "cell_type": "code",
   "execution_count": null,
   "id": "98033bb3",
   "metadata": {},
   "outputs": [],
   "source": [
    "def cg_design_iteration():\n",
    "    model = single_target_design_model(target)\n",
    "    model.add_constraints(NotBPComp(i, j) for (i, j) in dbps)\n",
    "    sampler = Sampler(model, lazy=True)\n",
    "    if sampler.treewidth() > 10 or not sampler.is_consistent():\n",
    "        return \"Not found\"\n",
    "    ctr = Counter()\n",
    "    found, sol = False, None\n",
    "    for i in range(100):\n",
    "        seq = ass_to_seq(sampler.targeted_sample())\n",
    "        fc = RNA.fold_compound(seq)\n",
    "        mfe, mfe_e = fc.mfe()\n",
    "        if fc.eval_structure(target) == mfe_e:\n",
    "            sol = seq\n",
    "        ctr.update(parse(mfe))\n",
    "    ndbps = [x[0] for x in ctr.most_common() if x[0] not in bps]\n",
    "    dbps.extend(ndbps[:2])\n",
    "    return sol\n",
    "i=0\n",
    "dbps, seq = [], None\n",
    "while seq is None:\n",
    "    i += 1\n",
    "    seq = cg_design_iteration()\n",
    "print(i,seq)"
   ]
  },
  {
   "cell_type": "markdown",
   "id": "d9e0bb56",
   "metadata": {},
   "source": [
    "### 3.9 Negative design by stochastic optimization with partial resampling"
   ]
  },
  {
   "cell_type": "code",
   "execution_count": null,
   "id": "7cc5099d",
   "metadata": {},
   "outputs": [],
   "source": [
    "## define multi-target design model for resampling of subsets \n",
    "def multi_design_model(subset=None, solution=None):\n",
    "    n = len(targets[0])\n",
    "    model = Model(n, 4)\n",
    "    if subset is None: subset = set(range(n))\n",
    "    for i in set(range(n))-subset:\n",
    "        value = solution.values()[i]\n",
    "        model.restrict_domains(i,(value,value))\n",
    "    model.add_functions([GCCont(i) for i in subset], 'gc')\n",
    "    for target in targets:\n",
    "        s = parse(target)\n",
    "        ss = [(i,j) for (i,j) in s if i in subset or j in subset]\n",
    "        model.add_constraints(BPComp(i, j) for (i, j) in ss)\n",
    "        model.add_functions([BPEnergy(i, j, (i-1, j+1) not in s)\n",
    "            for (i,j) in ss], 'energy')\n",
    "    model.set_feature_weight(-0.8, 'energy')\n",
    "    model.set_feature_weight(-0.3, 'gc')\n",
    "    return model"
   ]
  },
  {
   "cell_type": "code",
   "execution_count": null,
   "id": "cfc2e042",
   "metadata": {},
   "outputs": [],
   "source": [
    "def multi_defect(sequence, targets, xi=1):\n",
    "    k = len(targets)\n",
    "    fc = RNA.fold_compound(sequence)\n",
    "    ee = fc.pf()[1]\n",
    "    eos = [fc.eval_structure(target) for target in targets]\n",
    "    diff_ee = sum(1/k * (eos[i] - ee) for i in range(k))\n",
    "    diff_targets = sum(2/(k*(k-1)) * abs(eos[i]-eos[j])\n",
    "        for i in range(k) for j in range(k) if i<j)\n",
    "    return diff_ee + xi * diff_targets"
   ]
  },
  {
   "cell_type": "code",
   "execution_count": null,
   "id": "ca91b737",
   "metadata": {},
   "outputs": [],
   "source": [
    "from random import random, choices\n",
    "from math import exp"
   ]
  },
  {
   "cell_type": "code",
   "execution_count": null,
   "id": "4c5caddc",
   "metadata": {},
   "outputs": [],
   "source": [
    "# Return the sequence achieving the best defect within optimization\n",
    "def multi_design_optimize(steps, temp):\n",
    "    cc, cur, curval, bestval = None, None, math.inf, math.inf\n",
    "    for i in range(steps):\n",
    "        model = multi_design_model(cc, cur)\n",
    "        new = Sampler(model).sample()\n",
    "        newval = multi_defect(ass_to_seq(new),targets,1)\n",
    "        if (newval <= curval\n",
    "            or random() <= exp(-(newval-curval)/temp)):\n",
    "            cur, curval = new, newval\n",
    "            if curval < bestval:\n",
    "                best, bestval = cur, curval\n",
    "        if i==0:\n",
    "            ccs = model.connected_components()\n",
    "            weights = [1/len(cc) for cc in ccs]\n",
    "        cc = choices(ccs,weights)[0]\n",
    "    return (ass_to_seq(best), bestval)"
   ]
  },
  {
   "cell_type": "code",
   "execution_count": null,
   "id": "47ddefe8",
   "metadata": {},
   "outputs": [],
   "source": [
    "multi_design_optimize(1000,0.015)"
   ]
  },
  {
   "cell_type": "markdown",
   "id": "c3be8d06",
   "metadata": {},
   "source": [
    "### 3.10 A real world example: design of a Tandem-Riboswitch"
   ]
  },
  {
   "cell_type": "code",
   "execution_count": null,
   "id": "7d71fa3b",
   "metadata": {},
   "outputs": [],
   "source": [
    "seqTheo0 = \"AAGUGAUACCAGCAUCGUCUUGAUGCCCUUGGCAGCACUUCAGAAAUCUC\"\\\n",
    "           \"UGAAGUGCUGUUUUUUUU\"\n",
    "seqTet0  = \"GGCCUAAAACAUACCAGAGAAAUCUGGAGAGGUGAAGAAUACGACCACCU\"\\\n",
    "           \"AGGCCGACAGUGGCCUAGGUGGUCGUUUUUUUUU\""
   ]
  },
  {
   "cell_type": "code",
   "execution_count": null,
   "id": "8023e861",
   "metadata": {},
   "outputs": [],
   "source": [
    "seqTheo  = \"NNNNGAUACCAGCAUCGUCUUGAUGCCCUUGGCAGCNNNNNNNNNNNNNN\"\\\n",
    "           \"NNNNNNNNNNUUUUUUUU\"\n",
    "aptTheo  = \"(((((...((((((((.....)))))...)))...)))))..........\"\\\n",
    "           \"..................\"\n",
    "termTheo = \"...............................(((((((((((((....))\"\\\n",
    "           \"))))))))))).......\"\n",
    "\n",
    "\n",
    "seqTet   = \"NNNNNAAAACAUACCAGAGAAAUCUGGAGAGGUGAAGAAUACGACCACCU\"\\\n",
    "           \"ANNNNNNNNNNNNNNNNNNNNNNNNUUUUUUUUU\"\n",
    "termTet  = \"........................................((((((((((\"\\\n",
    "           \"(((((......)))))))))))))))........\"\n",
    "aptTet   = \"((((((.......(((((....)))))...((((...........)))))\"\\\n",
    "           \"))))).............................\"\n",
    "\n",
    "spacerLen = 30"
   ]
  },
  {
   "cell_type": "code",
   "execution_count": null,
   "id": "7d37a9df",
   "metadata": {},
   "outputs": [],
   "source": [
    "aptamers    = aptTheo  + \".\"*spacerLen + aptTet\n",
    "terminators = termTheo + \".\"*spacerLen + termTet\n",
    "sequence    = seqTheo  + \"N\"*spacerLen + seqTet\n",
    "\n",
    "n = len(aptTheo) + spacerLen + len(aptTet)"
   ]
  },
  {
   "cell_type": "code",
   "execution_count": null,
   "id": "03497dca",
   "metadata": {},
   "outputs": [],
   "source": [
    "variants = dict(\n",
    "    empty = '.'*n,\n",
    "    aptTheo = aptTheo + '.'*(n-len(aptTheo)),\n",
    "    aptTet = '.'*(n-len(aptTet)) + aptTet,\n",
    "    termTheo = termTheo + '.'*(n-len(aptTheo)),\n",
    "    termTet = '.'*(n-len(aptTet)) + termTet,\n",
    "    spacer = '.'*len(aptTheo) + 'x'*spacerLen + '.'*len(aptTet)\n",
    ")"
   ]
  },
  {
   "cell_type": "code",
   "execution_count": null,
   "id": "fd255ef0",
   "metadata": {},
   "outputs": [],
   "source": [
    "def constrained_efe(sequence,c):\n",
    "    fc = RNA.fold_compound(sequence)\n",
    "    fc.hc_add_from_db(c)\n",
    "    return fc.pf()[1]\n",
    "\n",
    "def rstd_objective(sequence):\n",
    "    efe = {k:constrained_efe(sequence,variants[k]) \n",
    "           for k in variants}\n",
    "        \n",
    "    term_stability = efe['termTheo'] + efe['termTet'] \\\n",
    "        - 2*efe['empty']\n",
    "    apt_target = abs(efe['aptTheo']-efe['empty']-7) \\\n",
    "        + abs(efe['aptTet']-efe['empty']-10)\n",
    "    spacer_unfolding = efe['spacer']-efe['empty']\n",
    "\n",
    "    return term_stability + apt_target + spacer_unfolding"
   ]
  },
  {
   "cell_type": "code",
   "execution_count": null,
   "id": "1b1ed02c",
   "metadata": {},
   "outputs": [],
   "source": [
    "def rstd_model(subset=None, solution=None):\n",
    "    rstd_targets = [aptamers, terminators]\n",
    "    n = len(rstd_targets[0])\n",
    "    model = Model(n, 4)\n",
    "    if subset is None: subset = set(range(n))\n",
    "    for i in set(range(n))-subset:\n",
    "        value = solution.values()[i]\n",
    "        model.restrict_domains(i,(value,value))\n",
    "        \n",
    "    for i, x in enumerate(sequence):\n",
    "        model.add_constraints(ValueIn(i, iupacvalues(x)))\n",
    "        \n",
    "    model.add_functions([GCCont(i) for i in subset], 'gc')\n",
    "    for k,target in enumerate(rstd_targets):\n",
    "        s = parse(target)\n",
    "        ss = [(i,j) for (i,j) in s if i in subset or j in subset]\n",
    "        model.add_constraints(BPComp(i, j) for (i, j) in ss)\n",
    "        model.add_functions([BPEnergy(i, j, (i-1, j+1) not in s)\n",
    "            for (i,j) in ss], f'energy{k}')\n",
    "    model.set_feature_weight(-0.6, 'energy0')\n",
    "    model.set_feature_weight(-1, 'energy1')\n",
    "    model.set_feature_weight(-0.3, 'gc')\n",
    "    return model\n",
    "\n",
    "def rstd_optimize(steps, temp):\n",
    "    cc, cur, curval, bestval = None, None, math.inf, math.inf\n",
    "    for i in range(steps):\n",
    "        model = rstd_model(cc, cur)\n",
    "        new = Sampler(model).sample()\n",
    "        newval = rstd_objective(ass_to_seq(new))\n",
    "        if (newval <= curval\n",
    "            or random() <= exp(-(newval-curval)/temp)):\n",
    "            cur, curval = new, newval\n",
    "            if curval < bestval:\n",
    "                best, bestval = cur, curval\n",
    "                #print(ass_to_seq(best),bestval)\n",
    "        if i==0:\n",
    "            ccs = model.connected_components()\n",
    "            weights = [1/len(cc) for cc in ccs]\n",
    "        cc = choices(ccs,weights)[0]\n",
    "    return (ass_to_seq(best), bestval)"
   ]
  },
  {
   "cell_type": "code",
   "execution_count": null,
   "id": "59a8a7df",
   "metadata": {},
   "outputs": [],
   "source": [
    "rstd_optimize(steps = 500, temp = 0.03)"
   ]
  },
  {
   "cell_type": "markdown",
   "id": "4ace03d5",
   "metadata": {},
   "source": [
    "#### Run optimzation in parallel"
   ]
  },
  {
   "cell_type": "code",
   "execution_count": null,
   "id": "a6cea227",
   "metadata": {},
   "outputs": [],
   "source": [
    "import concurrent.futures\n",
    "\n",
    "steps = 500\n",
    "jobs = 12\n",
    "\n",
    "def my_rstd_optimize(i):\n",
    "    seed(None)\n",
    "    return rstd_optimize(steps,0.03)\n",
    "\n",
    "with concurrent.futures.ProcessPoolExecutor() as executor:\n",
    "    res = executor.map(my_rstd_optimize, range(jobs))\n",
    "res = list(res)"
   ]
  },
  {
   "cell_type": "code",
   "execution_count": null,
   "id": "b3e8d722",
   "metadata": {},
   "outputs": [],
   "source": [
    "for seq, val in res:\n",
    "    print(f\"{seq} {val:.2f}\")\n",
    "    fc = RNA.fold_compound(seq)\n",
    "    for k,c in variants.items():\n",
    "        print(f\"{k:20} {fc.eval_structure(c):8.2f} {constrained_efe(seq,c):8.2f} {constrained_efe(seq,c)-constrained_efe(seq,variants['empty']):8.2f}\")"
   ]
  },
  {
   "cell_type": "markdown",
   "id": "a70ebf45",
   "metadata": {},
   "source": [
    "## APPENDIX"
   ]
  },
  {
   "cell_type": "markdown",
   "id": "ecfb3878",
   "metadata": {},
   "source": [
    "### Generate RNAPOND figures"
   ]
  },
  {
   "cell_type": "code",
   "execution_count": null,
   "id": "166d2b48",
   "metadata": {},
   "outputs": [],
   "source": [
    "from collections import Counter\n",
    "\n",
    "## a slightly harder instance\n",
    "target = \"..(((..((((.....)))).((...(((.....)))...))...)))..\"\n",
    "\n",
    "n = len(target)\n",
    "bps = parse(target)\n",
    "steps = 100"
   ]
  },
  {
   "cell_type": "code",
   "execution_count": null,
   "id": "a8455e1e",
   "metadata": {},
   "outputs": [],
   "source": [
    "import matplotlib.patches as patches\n",
    "import matplotlib.cm as cm\n",
    "import numpy as np\n",
    "import seaborn as sns\n",
    "\n",
    "tick = list(range(0,n,5))\n",
    "cmap = sns.light_palette((260, 75, 60), input=\"husl\", as_cmap=True)\n",
    "\n",
    "# Function to draw base pair counts for each sampling\n",
    "def draw_heatmap(ax, counter, bps, dbps, new_dbps, vmax, steps=steps, cbar=True):\n",
    "    # Initial count matrix\n",
    "    counts = np.zeros((n,n))\n",
    "    mask = np.tri(counts.shape[0], k=-1)\n",
    "    for bp, count in counter.items():\n",
    "        counts[bp[0]][bp[1]] = count\n",
    "    # Normalization\n",
    "    counts = counts/steps\n",
    "\n",
    "    sns.heatmap(counts, vmax=vmax/steps, mask=mask, square=True, cmap=cmap, ax=ax, cbar=cbar)\n",
    "    for i, j in bps:\n",
    "        ax.add_patch(patches.Rectangle((j,i), 1, 1, fc=\"none\", ec=\"blue\", lw=1))\n",
    "    for i, j in dbps:\n",
    "        ax.add_patch(patches.Rectangle((j,i), 1, 1, fc=\"none\", ec=\"red\", lw=1))\n",
    "    for i, j in new_dbps:\n",
    "        ax.add_patch(patches.Rectangle((j,i), 1, 1, fc=\"none\", ec=\"green\", lw=1))\n",
    "\n",
    "    ax.xaxis.tick_top()\n",
    "    ax.yaxis.tick_right()\n",
    "    ax.set_xticks(tick)\n",
    "    ax.set_xticklabels(tick)\n",
    "    ax.set_yticks(tick)\n",
    "    ax.set_yticklabels(tick)"
   ]
  },
  {
   "cell_type": "code",
   "execution_count": null,
   "id": "b213881b",
   "metadata": {},
   "outputs": [],
   "source": [
    "def cg_design_iteration():\n",
    "    model = single_target_design_model(target)\n",
    "    model.add_constraints(NotBPComp(i, j) for (i, j) in dbps)\n",
    "    sampler = Sampler(model, lazy=True)\n",
    "    if sampler.treewidth() > 10 or not sampler.is_consistent():\n",
    "        return \"Not found\"\n",
    "    ctr = Counter()\n",
    "    found, sol = False, None\n",
    "    for i in range(steps):\n",
    "        seq = ass_to_seq(sampler.targeted_sample())\n",
    "        fc = RNA.fold_compound(seq)\n",
    "        mfe, mfe_e = fc.mfe()\n",
    "        if fc.eval_structure(target) == mfe_e:\n",
    "            found, sol = True, seq\n",
    "        ctr.update(parse(mfe))\n",
    "    ndbps = [x[0] for x in ctr.most_common() if x[0] not in bps]\n",
    "    dbps.extend(ndbps[:2])\n",
    "    if found:\n",
    "        records.append((ctr, dbps[:], []))\n",
    "    else:\n",
    "        records.append((ctr, dbps[:], ndbps[:2]))\n",
    "    return found, sol\n",
    "\n",
    "# One can use seed() provided by infrared to reproduce the result\n",
    "seed(1000)\n",
    "found, records, dbps, seq = False, [], [], None\n",
    "while not found: found, seq = cg_design_iteration()\n",
    "print(seq)"
   ]
  },
  {
   "cell_type": "code",
   "execution_count": null,
   "id": "ed0532e9",
   "metadata": {},
   "outputs": [],
   "source": [
    "to_draw = [records[i] for i in [0, 1, -1]]\n",
    "vmax = max(map(lambda t: max(t[0].values()), to_draw))"
   ]
  },
  {
   "cell_type": "code",
   "execution_count": null,
   "id": "bf516ae3",
   "metadata": {},
   "outputs": [],
   "source": [
    "fig, axs = plt.subplots(1,3, figsize=(27,7))\n",
    "fig.tight_layout()\n",
    "for i in range(3):\n",
    "    ax = axs[i]\n",
    "    counter, disruptive, new_dbps = to_draw[i]\n",
    "    draw_heatmap(ax, counter, bps, disruptive, new_dbps, vmax, steps=100, cbar=i==2)\n",
    "\n",
    "axs[0].set_title('First Round', y=-0.01)\n",
    "axs[1].set_title('Second Round', y=-0.01)\n",
    "axs[2].set_title('Final Round', y=-0.01)\n",
    "\n",
    "plt.savefig('count_matrix.pdf', dpi=200, bbox_inches='tight')\n",
    "plt.show()"
   ]
  },
  {
   "cell_type": "markdown",
   "id": "85f7821a",
   "metadata": {},
   "source": [
    "### Generate stochastic optimization figure"
   ]
  },
  {
   "cell_type": "code",
   "execution_count": null,
   "id": "f7590a71",
   "metadata": {},
   "outputs": [],
   "source": [
    "import concurrent.futures\n",
    "\n",
    "def multi_design_optimize_allsteps(steps, temp):\n",
    "    res = list()\n",
    "    cc, cur, curval, bestval = None, None, math.inf, math.inf\n",
    "    for i in range(steps):\n",
    "        model = multi_design_model(cc, cur)\n",
    "        new = Sampler(model).sample()\n",
    "        newval = multi_defect(ass_to_seq(new),targets,1)\n",
    "        if (newval <= curval\n",
    "            or random() <= exp(-(newval-curval)/temp)):\n",
    "            cur, curval = new, newval\n",
    "            if curval < bestval:\n",
    "                best, bestval = cur, curval\n",
    "        if i==0:\n",
    "            ccs = model.connected_components()\n",
    "            weights = [1/len(cc) for cc in ccs]\n",
    "        cc = choices(ccs,weights)[0]\n",
    "        \n",
    "        res.append((ass_to_seq(best),bestval))\n",
    "    return res\n",
    "\n",
    "def my_multi_design_optimize_allsteps(i):\n",
    "    seed(None)\n",
    "    return multi_design_optimize_allsteps(5120,0.015)\n",
    "with concurrent.futures.ProcessPoolExecutor() as executor:\n",
    "    res = executor.map(my_multi_design_optimize_allsteps, range(48))\n",
    "res = list(res)"
   ]
  },
  {
   "cell_type": "code",
   "execution_count": null,
   "id": "9f96144b",
   "metadata": {},
   "outputs": [],
   "source": [
    "the_steps = [1]+[20*(2**i) for i in range(9)]\n",
    "res2 = [[r[steps-1][1] for r in res] for steps in the_steps]\n",
    "#print(res2)\n",
    "fig, ax = plt.subplots()\n",
    "box = ax.boxplot(res2,\n",
    "                 labels=the_steps,\n",
    "                 patch_artist=True,\n",
    "                 boxprops=dict(facecolor='lightgrey',linewidth=1.25),\n",
    "                 medianprops=dict(color='blue', linewidth=1.25)\n",
    "                )\n",
    "ax.set_ylabel(\"Multi-defect\")\n",
    "ax.set_xlabel(\"Iterations\")\n",
    "ax.yaxis.grid(True)\n",
    "plt.savefig(\"optimization.svg\")"
   ]
  }
 ],
 "metadata": {
  "jupytext": {
   "formats": "ipynb,py:light"
  },
  "kernelspec": {
   "display_name": "Python 3 (ipykernel)",
   "language": "python",
   "name": "python3"
  },
  "language_info": {
   "codemirror_mode": {
    "name": "ipython",
    "version": 3
   },
   "file_extension": ".py",
   "mimetype": "text/x-python",
   "name": "python",
   "nbconvert_exporter": "python",
   "pygments_lexer": "ipython3",
   "version": "3.9.7"
  }
 },
 "nbformat": 4,
 "nbformat_minor": 5
}
