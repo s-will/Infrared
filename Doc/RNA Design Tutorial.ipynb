{
 "cells": [
  {
   "cell_type": "markdown",
   "metadata": {},
   "source": [
    "# RNA Design Tutorial"
   ]
  },
  {
   "cell_type": "markdown",
   "metadata": {},
   "source": [
    "## Simple sampling of RNA sequences\n",
    "We start by importing the infrared module (and assign a shortname)."
   ]
  },
  {
   "cell_type": "code",
   "execution_count": null,
   "metadata": {},
   "outputs": [],
   "source": [
    "import infrared as ir"
   ]
  },
  {
   "cell_type": "markdown",
   "metadata": {},
   "source": [
    "Let's specify our first constraint network model. It is \n",
    "_very_ simple: we define 20 variables, each with 4 possible values, which encode a sequence of nucleotides. Our first model has no dependencies."
   ]
  },
  {
   "cell_type": "code",
   "execution_count": null,
   "metadata": {},
   "outputs": [],
   "source": [
    "model = ir.Model(20,4)"
   ]
  },
  {
   "cell_type": "markdown",
   "metadata": {},
   "source": [
    "From this model, we directly construct a sampler."
   ]
  },
  {
   "cell_type": "code",
   "execution_count": null,
   "metadata": {},
   "outputs": [],
   "source": [
    "sampler = ir.Sampler(model)"
   ]
  },
  {
   "cell_type": "markdown",
   "metadata": {},
   "source": [
    "Once initialized with a model, the sampler can prepare the sampling from this model. In particular, it computes a tree decomposition of the constraint network. In general, it is interesting to inspect the tree decomposition of a model's constraint network, since it guides the computation. \n",
    "\n",
    "We define a function to display information on the tree decomposition."
   ]
  },
  {
   "cell_type": "code",
   "execution_count": null,
   "metadata": {},
   "outputs": [],
   "source": [
    "def show_td_info(sampler,width=600):\n",
    "    td = sampler.td\n",
    "    print(\"tree width =\", td.treewidth())\n",
    "    print(\"bags =\", td.bags)\n",
    "    print(\"edges =\", td.edges)\n",
    "    \n",
    "    tmpfile=\"tmp_out.png\"\n",
    "    sampler.plot_td(tmpfile,'png')\n",
    "    from IPython.display import Image\n",
    "    return Image(filename=tmpfile,width=width)"
   ]
  },
  {
   "cell_type": "markdown",
   "metadata": {},
   "source": [
    "When we now call this function on our sampler, we will see that so far our model has a trivial tree decomposition (as expected, since we didn't add any constraints or functions to our model)."
   ]
  },
  {
   "cell_type": "code",
   "execution_count": null,
   "metadata": {},
   "outputs": [],
   "source": [
    "show_td_info(sampler)"
   ]
  },
  {
   "cell_type": "markdown",
   "metadata": {},
   "source": [
    "Nevertheless, we can evaluate the cluster tree.\n",
    "\n",
    "In this simple case, this will count the nucleotide sequences of length 20 (i.e. we expect to see a count of 4**20)."
   ]
  },
  {
   "cell_type": "code",
   "execution_count": null,
   "metadata": {},
   "outputs": [],
   "source": [
    "count = sampler.evaluate()\n",
    "print(\"# =\",int(count))"
   ]
  },
  {
   "cell_type": "markdown",
   "metadata": {},
   "source": [
    "Next, let's draw 10 samples. These samples encode uniformly drawn sequences of length 20. "
   ]
  },
  {
   "cell_type": "code",
   "execution_count": null,
   "metadata": {},
   "outputs": [],
   "source": [
    "samples = [sampler.sample().values() for i in range(10)]\n",
    "samples"
   ]
  },
  {
   "cell_type": "markdown",
   "metadata": {},
   "source": [
    "... and show them more pretty."
   ]
  },
  {
   "cell_type": "code",
   "execution_count": null,
   "metadata": {},
   "outputs": [],
   "source": [
    "from infrared import rna\n",
    "[rna.values_to_seq(s) for s in samples]"
   ]
  },
  {
   "cell_type": "markdown",
   "metadata": {},
   "source": [
    "## Adding complementarity constraints from an RNA secondary structure"
   ]
  },
  {
   "cell_type": "markdown",
   "metadata": {},
   "source": [
    "We define a toy RNA secondary structure (in dot-bracket notation)"
   ]
  },
  {
   "cell_type": "code",
   "execution_count": null,
   "metadata": {},
   "outputs": [],
   "source": [
    "structure = \"((((...))))(((...)))\""
   ]
  },
  {
   "cell_type": "markdown",
   "metadata": {},
   "source": [
    "... and parse it."
   ]
  },
  {
   "cell_type": "code",
   "execution_count": null,
   "metadata": {},
   "outputs": [],
   "source": [
    "bps = rna.parse(structure)\n",
    "print(bps)"
   ]
  },
  {
   "cell_type": "markdown",
   "metadata": {},
   "source": [
    "Next, we define the class of complementarity constraints; we call it\n",
    "BPComp for base pair complementarity. \n",
    "Each such constraint is constructed for two specific positions i and j. \n",
    "Then, the constraint is checked by testing whether the values x and y at the respective\n",
    "positions i and j correspond to complementary base pairs. "
   ]
  },
  {
   "cell_type": "code",
   "execution_count": null,
   "metadata": {},
   "outputs": [],
   "source": [
    "ir.def_constraint_class( \n",
    "    'BPComp',\n",
    "    lambda i,j: [i,j],\n",
    "    lambda x,y: rna.values_to_seq([x,y]) \n",
    "                  in [\"AU\",\"CG\",\"GC\",\"GU\",\"UA\",\"UG\"]\n",
    ")    "
   ]
  },
  {
   "cell_type": "markdown",
   "metadata": {},
   "source": [
    "Btw, there is already a pre-defined constraint rna.BPComp,\n",
    "which we could have used as well."
   ]
  },
  {
   "cell_type": "markdown",
   "metadata": {},
   "source": [
    "From the parsed structure, we generate a set of complementarity\n",
    "constraints - one for each base pair."
   ]
  },
  {
   "cell_type": "code",
   "execution_count": null,
   "metadata": {},
   "outputs": [],
   "source": [
    "cons = [ BPComp( i , j ) for (i,j) in bps ]"
   ]
  },
  {
   "cell_type": "markdown",
   "metadata": {},
   "source": [
    "For illustrations, let's also print the variables of the constraints."
   ]
  },
  {
   "cell_type": "code",
   "execution_count": null,
   "metadata": {
    "lines_to_next_cell": 2
   },
   "outputs": [],
   "source": [
    "[c.vars() for c in cons]"
   ]
  },
  {
   "cell_type": "markdown",
   "metadata": {},
   "source": [
    "Now, we are ready to construct the new constraint model, including the\n",
    "new constraints, and construct the corresponding sampler."
   ]
  },
  {
   "cell_type": "code",
   "execution_count": null,
   "metadata": {},
   "outputs": [],
   "source": [
    "seqlen = len(structure) # --> number of positions / variables in the CN\n",
    "model = ir.Model(seqlen,4)\n",
    "model.add_constraints(cons)\n",
    "\n",
    "sampler = ir.Sampler(model)"
   ]
  },
  {
   "cell_type": "markdown",
   "metadata": {},
   "source": [
    "Let's first see whether the tree decomposition looks more interesting\n",
    "this time."
   ]
  },
  {
   "cell_type": "code",
   "execution_count": null,
   "metadata": {},
   "outputs": [],
   "source": [
    "show_td_info(sampler)"
   ]
  },
  {
   "cell_type": "markdown",
   "metadata": {},
   "source": [
    "As expected, the tree decomposition reflects the dependencies due to the new constraints. "
   ]
  },
  {
   "cell_type": "markdown",
   "metadata": {},
   "source": [
    "When we evaluate the model, we obtain the number of sequences that are\n",
    "compatbile with our secondary structure (doing simple combinatorics, we\n",
    "expect $6^7 * 6^4$)."
   ]
  },
  {
   "cell_type": "code",
   "execution_count": null,
   "metadata": {
    "lines_to_next_cell": 1
   },
   "outputs": [],
   "source": [
    "count = sampler.evaluate()\n",
    "print(\"# =\",int(count))"
   ]
  },
  {
   "cell_type": "markdown",
   "metadata": {},
   "source": [
    "It's time to generate samples again. Before this get's boring, we quickly\n",
    "define a function to automatize this. For the fun of it, let's also draw sequence logos from the samples.\n",
    "\n",
    "**Note**: logos will be drawn only if the modules `logomaker` and `matplotlib.pyplot` are properly installed."
   ]
  },
  {
   "cell_type": "code",
   "execution_count": null,
   "metadata": {},
   "outputs": [],
   "source": [
    "def draw_logo(sequences):\n",
    "    \"\"\"Draw sequence logo for a set of sequences\"\"\"\n",
    "    import logomaker as lm\n",
    "    import matplotlib.pyplot as plt\n",
    "        \n",
    "    matrix = lm.alignment_to_matrix(sequences = sequences)\n",
    "    logo = lm.Logo(matrix)\n",
    "    logo.style_xticks(rotation=90, fmt='%d', anchor=0)\n",
    "    logo.ax.xaxis.set_ticks_position('none')\n",
    "    plt.savefig('test.svg')\n",
    "    plt.show()\n",
    "\n",
    "def opt_draw_logo(sequences):\n",
    "    \"\"\"Draw sequence logo, only if required modules are available\"\"\" \n",
    "    try:\n",
    "        draw_logo(sequences)\n",
    "    except ModuleNotFoundError:\n",
    "        pass\n",
    "\n",
    "def spit_them_samples_out(sampler,num,structure=None):\n",
    "    \"\"\"Generate and show samples\"\"\"\n",
    "    samples = [ sampler.sample() for i in range(num) ]\n",
    "    sequences =  [ rna.ass_to_seq(s) for s in samples ]\n",
    "    if structure: print(structure)\n",
    "    for s in sequences: print(s)\n",
    "    opt_draw_logo(sequences)"
   ]
  },
  {
   "cell_type": "markdown",
   "metadata": {},
   "source": [
    "Generate samples and print them with the given structure; we can see that the base pair constraints are satisfied by all samples."
   ]
  },
  {
   "cell_type": "code",
   "execution_count": null,
   "metadata": {},
   "outputs": [],
   "source": [
    "spit_them_samples_out(sampler,20,structure)"
   ]
  },
  {
   "cell_type": "markdown",
   "metadata": {},
   "source": [
    "## Controlling the GC content\n",
    "\n",
    "To control features of our samples like the GC content, we are going to\n",
    "add suitable functions to our model. For the GC control, we define the\n",
    "function class `GCCont`, which let us count the Gs and Cs in the\n",
    "encoded sequence. For a specific position i, the function returns 1 if\n",
    "the encoded nucleotide is G or C; otherwise, 0."
   ]
  },
  {
   "cell_type": "code",
   "execution_count": null,
   "metadata": {},
   "outputs": [],
   "source": [
    "ir.def_function_class(\n",
    "    'GCCont',\n",
    "    lambda i: [i],\n",
    "    lambda x: rna.value_to_nucleotide( x ) in \"GC\"\n",
    ")"
   ]
  },
  {
   "cell_type": "markdown",
   "metadata": {},
   "source": [
    "Btw, this function is as well pre-defined in Infrared's rna support module as\n",
    "`rna.GCCont`.\n",
    "\n",
    "GC-control is added to the sampler, simply by specifying the set of\n",
    "functions (`gc_funs`), adding them to the sampler as a function group\n",
    "`'gc'`, and setting the weight of the corresponding (automatically\n",
    "generated) feature of the same name.\n",
    "\n",
    "Note how the new functions can simply be added to the existing model with\n",
    "base pair complementarity constraints. This provides a first good example of the\n",
    "compositional construction of models in Infrared."
   ]
  },
  {
   "cell_type": "code",
   "execution_count": null,
   "metadata": {},
   "outputs": [],
   "source": [
    "gc_weight = 0.12 # <- try different weights: -0.1, 0, 0.1, ...\n",
    "\n",
    "# define set of GCCont functions\n",
    "gc_funs = [ GCCont( i )\n",
    "              for i in range( seqlen ) ]\n",
    "\n",
    "# add functions as group 'gc' \n",
    "model.add_functions(gc_funs, 'gc')\n",
    "\n",
    "# set the weight of the 'gc' feature\n",
    "model.set_feature_weight(gc_weight, 'gc')\n",
    "\n",
    "# construct sampler\n",
    "sampler = ir.Sampler( model )\n",
    "\n",
    "# generate samples\n",
    "spit_them_samples_out( sampler, 10, structure )"
   ]
  },
  {
   "cell_type": "markdown",
   "metadata": {},
   "source": [
    "## Controlling the BP energy\n",
    "\n",
    "Next, we are going to introduce functions to compute the energy our secondary structure \n",
    "for the enoded sequence. To express energy in the base pair energy model, \n",
    "we are going to define a set of functions of the pre-defined type\n",
    "`rna.BPEnergy`; one for each base pair."
   ]
  },
  {
   "cell_type": "code",
   "execution_count": null,
   "metadata": {},
   "outputs": [],
   "source": [
    "bpe_funs = [ rna.BPEnergy( i, j, False ) for (i,j) in bps ] "
   ]
  },
  {
   "cell_type": "markdown",
   "metadata": {},
   "source": [
    "These functions are added to the existing model, as the GC functions\n",
    "before. We put them into a new function group `'energy'`, which will\n",
    "immediately allow us to control them (in addition to the GC content) through the\n",
    "automatically generated feature `'energy'`."
   ]
  },
  {
   "cell_type": "code",
   "execution_count": null,
   "metadata": {},
   "outputs": [],
   "source": [
    "model.add_functions(bpe_funs, 'energy')"
   ]
  },
  {
   "cell_type": "markdown",
   "metadata": {},
   "source": [
    "Let's set weights of our two features and generate samples. By setting a negative weight for energy, we aim at low energy for the structure. The GC control allows us to counter-act the induced shift towards high GC content. For the latter purpose, we set a negative weight to aim at lower GC content."
   ]
  },
  {
   "cell_type": "code",
   "execution_count": null,
   "metadata": {},
   "outputs": [],
   "source": [
    "model.set_feature_weight(-0.5, 'gc')\n",
    "model.set_feature_weight(-1, 'energy')\n",
    "\n",
    "sampler = ir.Sampler(model)\n",
    "\n",
    "spit_them_samples_out(sampler, 10, structure)"
   ]
  },
  {
   "cell_type": "markdown",
   "metadata": {},
   "source": [
    "## Further constraints\n",
    "We can even extend the model by further constraints, while maintaining the ability to control the features. As example of additional hard constraints, we are going to avoid GG dinucleotides.\n",
    "Extending the model by such additional constraints, expectedly, goes through the steps of\n",
    "\n",
    "* defining the new constraint type\n",
    "\n",
    "* defining a set of constraints\n",
    "\n",
    "* adding the set to the model"
   ]
  },
  {
   "cell_type": "code",
   "execution_count": null,
   "metadata": {},
   "outputs": [],
   "source": [
    "ir.def_constraint_class('AvoidGGConstraint',\n",
    "                         lambda i: [i, i+1],\n",
    "                         lambda x,y: rna.values_to_seq([x,y]) != \"GG\")\n",
    "\n",
    "gg_cons = [ AvoidGGConstraint( i ) for i in range(seqlen-1) ]\n",
    "\n",
    "model.add_constraints(gg_cons)"
   ]
  },
  {
   "cell_type": "markdown",
   "metadata": {},
   "source": [
    "Finally, we construct the sampler for the extended model and generate samples."
   ]
  },
  {
   "cell_type": "code",
   "execution_count": null,
   "metadata": {},
   "outputs": [],
   "source": [
    "sampler = ir.Sampler(model)\n",
    "\n",
    "spit_them_samples_out(sampler, 10, structure)"
   ]
  },
  {
   "cell_type": "markdown",
   "metadata": {},
   "source": [
    "## Targeting specific GC content and energy\n",
    "\n",
    "The previous model allowed to control the mean GC content and base pair energy of the produced model by manually tweaking the weights.\n",
    "\n",
    "This leaves several challenges if we would want to produce samples with defined GC content and energy:\n",
    "\n",
    "* we would have to filter the generated samples for a specific tolerance range around the targeted values\n",
    "\n",
    "* the features are not independent, thus changing one weight requires changing the other - this would get even harder for more than two features.\n",
    "\n",
    "Infrared supports these goals in a general way by implementing a multi-dimensional Boltzmann sampling strategy.\n",
    "\n",
    "For this purpose, first set up the model and sampler as before."
   ]
  },
  {
   "cell_type": "code",
   "execution_count": null,
   "metadata": {},
   "outputs": [],
   "source": [
    "model =  ir.Model(seqlen, 4)\n",
    "model.add_constraints(cons)\n",
    "model.add_functions(bpe_funs, 'energy')\n",
    "model.add_functions(gc_funs, 'gc')\n",
    "\n",
    "sampler = ir.Sampler( model )"
   ]
  },
  {
   "cell_type": "markdown",
   "metadata": {},
   "source": [
    "Infrared now allows to set target values and tolerances for all (or selected) features and then produce targeted samples using the method `Sampler.targeted_sample()`.\n",
    "\n",
    "In the code below, we print samples with their energy and GC-content. Note how we obtain these values simply by asking the model to evaluate the features for the sample."
   ]
  },
  {
   "cell_type": "code",
   "execution_count": null,
   "metadata": {},
   "outputs": [],
   "source": [
    "sampler.set_target( -12, 1, 'energy' )\n",
    "sampler.set_target( 10, 2, 'gc' )\n",
    "\n",
    "samples = list()\n",
    "for i in range(20):\n",
    "    sample = sampler.targeted_sample()\n",
    "    sequence = rna.ass_to_seq(sample)\n",
    "    print(\"{} {:.2f} {:.2f}\".format(sequence, \n",
    "                                    model.eval_feature(sample,'energy'),\n",
    "                                    model.eval_feature(sample,'gc')))\n",
    "    samples.append(sequence)\n",
    "opt_draw_logo(samples)"
   ]
  },
  {
   "cell_type": "markdown",
   "metadata": {},
   "source": [
    "## Targeting Turner energy\n",
    "\n",
    "Finally, for real applications, it is typically much more relevant to target specific Turner energy than specific energy in the simple base pair model.\n",
    "In Infrared, we solve this by defining and adding a new feature `'Energy'` to the model that calculates Turner energy (by calling a function of the Vienna RNA package). In addition to defining this calculation, we specify as well that the new feature should control the function group `energy`. In this way, Infrared will use base pair energy as proxy of Turner energy.\n",
    "\n",
    "**Note:** this requires the Vienna RNA package with working Python bindings (currently, this fails in Windows even after installing the package from binaries)"
   ]
  },
  {
   "cell_type": "code",
   "execution_count": null,
   "metadata": {},
   "outputs": [],
   "source": [
    "import RNA\n",
    "\n",
    "model.add_feature( 'Energy', # feature name\n",
    "                   'energy', # controlled group(s)\n",
    "                   #\n",
    "                   # function to evaluate the feature for a sample;\n",
    "                   # NOTE how we have to bind i\n",
    "                   lambda sample, structure=structure:\n",
    "                      RNA.energy_of_struct( rna.ass_to_seq( sample ),\n",
    "                                            structure )\n",
    "                 )"
   ]
  },
  {
   "cell_type": "markdown",
   "metadata": {},
   "source": [
    "As before, we set targets and generate samples. Of course, this time, we set a target range for the new feature of Turner energy."
   ]
  },
  {
   "cell_type": "code",
   "execution_count": null,
   "metadata": {},
   "outputs": [],
   "source": [
    "sampler = ir.Sampler(model)\n",
    "\n",
    "sampler.set_target( -5, 1, 'Energy' )\n",
    "sampler.set_target( 10, 2, 'gc' )\n",
    "\n",
    "samples = list()\n",
    "for i in range(20):\n",
    "    sample = sampler.targeted_sample()\n",
    "    print(\"{} {:5.2f} {:5.2f} {:5.2f}\".format(rna.ass_to_seq(sample), \n",
    "                                    model.eval_feature(sample,'energy'),\n",
    "                                    model.eval_feature(sample,'Energy'),\n",
    "                                    model.eval_feature(sample,'gc')))\n",
    "    samples.append(rna.ass_to_seq(sample))\n",
    "\n",
    "opt_draw_logo(samples)"
   ]
  },
  {
   "cell_type": "markdown",
   "metadata": {},
   "source": [
    "## Add IUPAC constraints\n",
    "\n",
    "In many design applications, we have prior knowledge on the sequences, which can be encoded as IUPAC string. \n",
    "Below, we generate constraints from a IUPAC string and add them to the Infrared model for targeting Turner energy and GC content."
   ]
  },
  {
   "cell_type": "code",
   "execution_count": null,
   "metadata": {},
   "outputs": [],
   "source": [
    "sequence = \"RSSSUWWSSNNSNNNNMNYR\"\n",
    "\n",
    "for i,x in enumerate(sequence):\n",
    "    model.add_constraints(ir.ValueIn(i,rna.iupacvalues(x)))\n",
    "\n",
    "sampler = ir.Sampler(model)\n",
    "\n",
    "sampler.set_target( -5, 1, 'Energy' )\n",
    "sampler.set_target( 10, 2, 'gc' )\n",
    "\n",
    "samples = list()\n",
    "for i in range(20):\n",
    "    sample = rna.ass_to_seq(sampler.targeted_sample())\n",
    "    print(sample)\n",
    "    samples.append(sample)\n",
    "    \n",
    "opt_draw_logo(samples)"
   ]
  },
  {
   "cell_type": "markdown",
   "metadata": {},
   "source": [
    "**Remark:** At this point, we have implemented the full functionality of the RNA design approach IncaRNAtion (Reinharz et al., Bioinformatics 2013) in Infrared. In Infrared, we can easily extend the model further by including further constraints and going on to multi-target design. Infrared makes the latter, which extends functionality to the tool RNARedPrint (Hammer et al; BMC Bioinf 2021), look surprisingly simple. (We demonstrate this in a separate accompanying notebook, as well as in the Infrared-based application RNARedPrint 2)."
   ]
  }
 ],
 "metadata": {
  "jupytext": {
   "formats": "ipynb,py:light"
  },
  "kernelspec": {
   "display_name": "Python 3 (ipykernel)",
   "language": "python",
   "name": "python3"
  },
  "language_info": {
   "codemirror_mode": {
    "name": "ipython",
    "version": 3
   },
   "file_extension": ".py",
   "mimetype": "text/x-python",
   "name": "python",
   "nbconvert_exporter": "python",
   "pygments_lexer": "ipython3",
   "version": "3.9.13"
  }
 },
 "nbformat": 4,
 "nbformat_minor": 4
}
