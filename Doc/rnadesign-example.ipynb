{
 "cells": [
  {
   "cell_type": "code",
   "execution_count": null,
   "metadata": {},
   "outputs": [],
   "source": [
    "#########################################################\n",
    "####\n",
    "#### Tutorial: RNA Design with Infrared (for Developers)\n",
    "####\n",
    "#########################################################\n",
    "\n",
    "###############################################\n",
    "## Start with simple sampling of RNA sequences\n",
    "\n",
    "# -- _the_ main module of Infrared\n",
    "import infrared as ir"
   ]
  },
  {
   "cell_type": "code",
   "execution_count": null,
   "metadata": {},
   "outputs": [],
   "source": [
    "# -- specify a constraint network and it's tree decomp\n",
    "\n",
    "# our first CN is _very_ simple: 20 variables (=sequence positions), no dependencies\\\n",
    "model = ir.Model()\n",
    "model.add_variables(20,4)\n",
    "cn = ir.ConstraintNetwork(model)\n",
    "# produce cluster tree for the CN, using default tree decomposition\n",
    "ct = ir.ClusterTree(cn)"
   ]
  },
  {
   "cell_type": "code",
   "execution_count": null,
   "metadata": {},
   "outputs": [],
   "source": [
    "def show_td_info(ct,width):\n",
    "    td = ct.get_td()\n",
    "    print(\"tree width =\", td.treewidth())\n",
    "    print(\"bags =\", td.get_bags())\n",
    "    print(\"edges =\", td.get_edges())\n",
    "    \n",
    "    tmpfile=\"tmp_out\"\n",
    "    td.writeTD(open(tmpfile+\".dot\",\"w\"))\n",
    "    import treedecomp\n",
    "    treedecomp.dotfile_to_png(tmpfile+\".dot\")\n",
    "    from IPython.display import Image\n",
    "    return Image(filename=(tmpfile+\".png\"),width=width)\n",
    "    \n",
    "show_td_info(ct,500)"
   ]
  },
  {
   "cell_type": "code",
   "execution_count": null,
   "metadata": {},
   "outputs": [],
   "source": [
    "# -- evaluate the cluster tree\n",
    "#   -- in this simple case, this will count the structures\n",
    "count = ct.evaluate()\n",
    "print(\"# =\",int(count))\n",
    "# btw, of course, 'count' is the number of all possible seqs 4**20"
   ]
  },
  {
   "cell_type": "code",
   "execution_count": null,
   "metadata": {},
   "outputs": [],
   "source": [
    "# -- generate 10 samples\n",
    "samples = [ct.sample().values() for i in range(10)]"
   ]
  },
  {
   "cell_type": "code",
   "execution_count": null,
   "metadata": {},
   "outputs": [],
   "source": [
    "samples"
   ]
  },
  {
   "cell_type": "code",
   "execution_count": null,
   "metadata": {},
   "outputs": [],
   "source": [
    "# -- and show them (pretty)\n",
    "from infrared import rna\n",
    "[rna.values_to_sequence(s) for s in samples]"
   ]
  },
  {
   "cell_type": "code",
   "execution_count": null,
   "metadata": {},
   "outputs": [],
   "source": [
    "##################################################\n",
    "## add constraints from an RNA secondary structure\n",
    "structure = \"((((...))))(((...)))\"\n",
    "bps = rna.parseRNAStructureBps(structure)"
   ]
  },
  {
   "cell_type": "code",
   "execution_count": null,
   "metadata": {},
   "outputs": [],
   "source": [
    "bps"
   ]
  },
  {
   "cell_type": "code",
   "execution_count": null,
   "metadata": {
    "scrolled": true
   },
   "outputs": [],
   "source": [
    "complementary_nucleotides = [\"AU\",\"CG\",\"GC\",\"GU\",\"UA\",\"UG\"]\n",
    "# -- define complementarity constraints\n",
    "ir.def_constraint_class( \n",
    "    'ComplConstraint',\n",
    "    lambda i,j: [i,j],\n",
    "    lambda x,y: rna.values_to_sequence([x,y]) \n",
    "                  in complementary_nucleotides\n",
    ")    \n",
    "    \n",
    "## btw, there is already a pre-defined constraint rna.ComplConstraint,\n",
    "## which we could have used as well\n",
    "\n",
    "cons = [ ComplConstraint( i , j ) for (i,j) in bps ]\n",
    "deps = [ x.vars() for x in cons ]\n",
    "\n",
    "cons, deps"
   ]
  },
  {
   "cell_type": "code",
   "execution_count": null,
   "metadata": {},
   "outputs": [],
   "source": [
    "# -- reinitialize constraint network, rebuild tree decomp and cluster tree\n",
    "#complementary_nucleotides = [\"AU\"]\n",
    "\n",
    "seqlen = len(structure) # --> number of positions / variables in the CN\n",
    "model = ir.Model()\n",
    "model.add_variables(seqlen,4)\n",
    "model.add_constraints(cons)\n",
    "cn = ir.ConstraintNetwork(model)\n",
    "ct = ir.ClusterTree(cn)\n",
    "\n",
    "show_td_info(ct,500)"
   ]
  },
  {
   "cell_type": "code",
   "execution_count": null,
   "metadata": {},
   "outputs": [],
   "source": [
    "# generate samples (with complementarity constraints)\n",
    "def spit_them_samples_out(ct,num):\n",
    "    samples = [ ct.sample().values() for i in range(num) ]\n",
    "    return [ rna.values_to_sequence(s) for s in samples ]\n",
    "\n",
    "count = ct.evaluate()\n",
    "print(\"# =\",int(count))\n",
    "# btw, count == 6**7 * 4**6, by simple combinatorics\n",
    "\n",
    "print(\"  \"+structure)\n",
    "spit_them_samples_out(ct,10)"
   ]
  },
  {
   "cell_type": "code",
   "execution_count": null,
   "metadata": {},
   "outputs": [],
   "source": [
    "##########################\n",
    "## Control the GC content\n",
    "\n",
    "# -- define function for GC Control\n",
    "ir.def_function_class(\n",
    "    'GCControl',\n",
    "    lambda i: [i],\n",
    "    lambda x: rna.value_to_nucleotide( x ) in \"GC\"\n",
    ")\n",
    "\n",
    "## btw, there is predefined rna.GCControl"
   ]
  },
  {
   "cell_type": "code",
   "execution_count": null,
   "metadata": {},
   "outputs": [],
   "source": [
    "## -- setup functions\n",
    "gc_weight = 1 ## <- try different weights: 0.1, 10, ...\n",
    "\n",
    "gc_funs = [ GCControl( i )\n",
    "              for i in range( seqlen ) ]\n",
    "\n",
    "model.add_functions(gc_funs, 'gc')\n",
    "\n",
    "# -- reinitialize constraint network, rebuild tree decomp and cluster tree\n",
    "cn = ir.ConstraintNetwork( model )\n",
    "ct = ir.ClusterTree( cn )\n",
    "\n",
    "spit_them_samples_out( ct, 10 )"
   ]
  },
  {
   "cell_type": "code",
   "execution_count": null,
   "metadata": {},
   "outputs": [],
   "source": [
    "##########################\n",
    "## Control the BP energy\n",
    "\n",
    "rna.set_bpenergy_table() # set bp energies to magic numbers\n",
    "\n",
    "bpe_funs = [ rna.BPEnergy( i, j, False ) for (i,j) in bps ] \n",
    "\n",
    "model.add_functions(bpe_funs, 'bpenergy')\n",
    "\n",
    "model.set_feature_weight(0, 'bpenergy')\n",
    "\n",
    "cn = ir.ConstraintNetwork(model)\n",
    "\n",
    "ct = ir.ClusterTree(cn)\n",
    "\n",
    "\n",
    "print(\"  \"+structure)\n",
    "spit_them_samples_out(ct, 10)"
   ]
  },
  {
   "cell_type": "code",
   "execution_count": null,
   "metadata": {},
   "outputs": [],
   "source": [
    "### as example of additional hard constraints: avoid GG dinucleotides\n",
    "\n",
    "ir.def_constraint_class('AvoidGGConstraint',\n",
    "                         lambda i: [i, i+1],\n",
    "                         lambda x,y: rna.values_to_sequence([x,y]) != \"GG\")\n",
    "\n",
    "gg_cons = [ AvoidGGConstraint( i ) for i in range(seqlen-1) ]"
   ]
  },
  {
   "cell_type": "code",
   "execution_count": null,
   "metadata": {},
   "outputs": [],
   "source": [
    "model.add_constraints(gg_cons)\n",
    "\n",
    "cn = ir.ConstraintNetwork(model)\n",
    "\n",
    "ct = ir.ClusterTree(cn)\n",
    "\n",
    "print(\"  \"+structure)\n",
    "spit_them_samples_out(ct, 10)"
   ]
  },
  {
   "cell_type": "code",
   "execution_count": null,
   "metadata": {},
   "outputs": [],
   "source": [
    "# -- from this, construct the sampler\n",
    "\n",
    "model =  ir.Model()\n",
    "model.add_variables(seqlen, 4)\n",
    "model.add_constraints(cons)\n",
    "model.add_functions(bpe_funs, 'bpenergy')\n",
    "model.add_functions(gc_funs, 'gc')\n",
    "\n",
    "sampler = ir.MultiDimensionalBoltzmannSampler(model)\n",
    "\n",
    "sampler.set_target( -12, 1, 'bpenergy' )\n",
    "sampler.set_target( 10, 2, 'gc' )\n",
    "\n",
    "def s2s(sample):\n",
    "    return rna.values_to_sequence(sample.values())\n",
    "\n",
    "\n",
    "# -- and sample away\n",
    "\n",
    "for i in range(10):\n",
    "    sample = sampler.targeted_sample()\n",
    "    print(\"{} {:.2f} {:.2f}\".format(s2s(sample), \n",
    "                                    model.eval_feature(sample,'bpenergy'),\n",
    "                                    model.eval_feature(sample,'gc')))"
   ]
  },
  {
   "cell_type": "code",
   "execution_count": null,
   "metadata": {},
   "outputs": [],
   "source": [
    "## similar but with control of Turner energy\n",
    "import RNA\n",
    "\n",
    "model.add_feature( 'Energy', # feature name\n",
    "                   'bpenergy', # controlled group(s)\n",
    "                   #\n",
    "                   # function to evaluate the feature for a sample;\n",
    "                   # NOTE how we have to bind i\n",
    "                   lambda sample, structure=structure:\n",
    "                      RNA.energy_of_struct( rna.values_to_sequence( sample.values() ),\n",
    "                                            structure )\n",
    "                 )\n",
    "\n",
    "sampler = ir.MultiDimensionalBoltzmannSampler(model)\n",
    "\n",
    "#sampler.set_target( -11, 1, 'bpenergy' )\n",
    "sampler.set_target( -5, 1, 'Energy' )\n",
    "#sampler.set_target( 10, 2, 'gc' )\n",
    "\n",
    "# -- and sample away\n",
    "\n",
    "for i in range(10):\n",
    "    sample = sampler.targeted_sample()\n",
    "    print(\"{} {:5.2f} {:5.2f} {:5.2f}\".format(s2s(sample), \n",
    "                                    model.eval_feature(sample,'bpenergy'),\n",
    "                                    model.eval_feature(sample,'Energy'),\n",
    "                                    model.eval_feature(sample,'gc')))"
   ]
  },
  {
   "cell_type": "markdown",
   "metadata": {},
   "source": [
    "# Multiple target design a la RNARedPrint in new syntax"
   ]
  },
  {
   "cell_type": "code",
   "execution_count": null,
   "metadata": {
    "scrolled": true
   },
   "outputs": [],
   "source": [
    "import infrared as ir\n",
    "from infrared import rna\n",
    "import RNA\n",
    "\n",
    "##################################################\n",
    "## our target RNA secondary structure\n",
    "#             01234567890123456789\n",
    "structures = list()\n",
    "structures.append( \"((((...)))).(((...)))\" )\n",
    "structures.append( \"((((((......)))...)))\" )\n",
    "#structures.append( \"......(((...)))......\" )\n",
    "\n",
    "seqlen = len(structures[0])\n",
    "\n",
    "######\n",
    "# construct the constraint model\n",
    "model = ir.Model()\n",
    "\n",
    "# one variable X_i per position i;\n",
    "# the value of X_i encodes the nucleotide at position i   \n",
    "model.add_variables( seqlen, 4 )\n",
    "\n",
    "\n",
    "for i,structure in enumerate(structures):\n",
    "    bps = rna.parseRNAStructureBps(structure)\n",
    "\n",
    "    model.add_constraints( rna.ComplConstraint( i = i, j = j ) for ( i, j ) in bps )\n",
    "    \n",
    "    model.add_functions( [ rna.BPEnergy( i = i, j = j, is_terminal = False ) \n",
    "                           for ( i, j ) in bps ], group = f'bpenergy{i}' )\n",
    "    \n",
    "    model.add_feature( f'E{i}', # feature name\n",
    "                       f'bpenergy{i}', # controlled group(s)\n",
    "                       #\n",
    "                       # function to evaluate the feature for a sample;\n",
    "                       # NOTE how we have to bind i\n",
    "                       lambda sample, i=i: RNA.energy_of_struct( rna.values_to_sequence( sample.values() ),\n",
    "                                              structures[i] )\n",
    "                     )\n",
    "\n",
    "model.add_functions( [ rna.GCControl( i = i ) for i in range(seqlen) ], group = 'gc' )\n",
    "\n",
    "# the model generates automatic features 'bpenergyI', 'gc' from the function groups;\n",
    "# as well as total feature combining all function groups;\n",
    "# however, we want to diretly control Turner energy (instead of base pair energy).\n",
    "# For this purpose, add additional features 'EI'\n",
    "\n",
    "\n",
    "def print_sample(sample):    \n",
    "    seq = rna.values_to_sequence( sample.values() )\n",
    "    \n",
    "    print(\"{} GC={:.2f}\".format( seq,\n",
    "                              model.eval_feature(sample, 'gc')*100/seqlen ),end=\"\"\n",
    "         )\n",
    "    for i,s in enumerate(structures):\n",
    "        print(f\" E{i}={model.eval_feature(sample, f'E{i}'):.2f}\",end=\"\")\n",
    "    print()\n",
    "    \n",
    "\n",
    "\n",
    "print(\"###########################################\")    \n",
    "## Sampling at specific weights\n",
    "\n",
    "sampler = ir.BoltzmannSampler( model )\n",
    "\n",
    "print( \"Tree width:\", sampler.treewidth() )\n",
    "\n",
    "sampler.plot_td(\"treedecomp.pdf\")\n",
    "\n",
    "######\n",
    "# set targets\n",
    "\n",
    "model.set_feature_weight( -5, 'E0' )\n",
    "model.set_feature_weight( -2, 'gc' )\n",
    "\n",
    "######\n",
    "# and draw samples\n",
    "for i in range(10):\n",
    "    sample = sampler.sample()\n",
    "    print_sample(sample)\n",
    "    \n",
    "    \n",
    "print(\"###########################################\")    \n",
    "## MDBS\n",
    "\n",
    "model.set_feature_weight( 0, 'E0' )\n",
    "model.set_feature_weight( 0, 'E1' )\n",
    "#model.set_feature_weight( 0, 'E2' )\n",
    "model.set_feature_weight( 0, 'gc' )\n",
    "\n",
    "######\n",
    "# create sampler\n",
    "sampler = ir.MultiDimensionalBoltzmannSampler( model )\n",
    "\n",
    "######\n",
    "# set targets\n",
    "\n",
    "# control number of gc's; we target 70% +/- 15% GC-content\n",
    "sampler.set_target( 0.85 * seqlen, 0.02 * seqlen, 'gc' )\n",
    "\n",
    "# control Turner energy, target -2 +/- 1 kcal/mol\n",
    "sampler.set_target( -2, 0.2, 'E0' )\n",
    "\n",
    "# control Turner energy, target -2 +/- 1 kcal/mol\n",
    "sampler.set_target( -3, 0.2, 'E1' )\n",
    "\n",
    "# control Turner energy, target -2 +/- 1 kcal/mol\n",
    "#sampler.set_target( -1.5, 0.2, 'E2' )\n",
    "\n",
    "######\n",
    "# and draw samples\n",
    "for i in range(10):\n",
    "    sample = sampler.targeted_sample()\n",
    "    print_sample(sample)"
   ]
  }
 ],
 "metadata": {
  "kernelspec": {
   "display_name": "Python 3 (ipykernel)",
   "language": "python",
   "name": "python3"
  },
  "language_info": {
   "codemirror_mode": {
    "name": "ipython",
    "version": 3
   },
   "file_extension": ".py",
   "mimetype": "text/x-python",
   "name": "python",
   "nbconvert_exporter": "python",
   "pygments_lexer": "ipython3",
   "version": "3.9.6"
  }
 },
 "nbformat": 4,
 "nbformat_minor": 4
}
