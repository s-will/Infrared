{
 "cells": [
  {
   "cell_type": "markdown",
   "id": "35f62281",
   "metadata": {},
   "source": [
    "# Introduction"
   ]
  },
  {
   "cell_type": "code",
   "execution_count": null,
   "id": "77ebf004",
   "metadata": {},
   "outputs": [],
   "source": [
    "from infrared import *\n",
    "from infrared.rna import *"
   ]
  },
  {
   "cell_type": "code",
   "execution_count": null,
   "id": "e4ba315f",
   "metadata": {},
   "outputs": [],
   "source": [
    "target = \"((((((((((...))))((((....))))))))))\"\n",
    "model = Model(len(target), 4)\n",
    "model.add_constraints(BPComp(i,j) for (i,j) in parse(target))\n",
    "sampler = Sampler(model)\n",
    "samples = [sampler.sample() for _ in range(10)]"
   ]
  },
  {
   "cell_type": "code",
   "execution_count": null,
   "id": "569343b8",
   "metadata": {},
   "outputs": [],
   "source": [
    "sequences = [ass_to_seq(x) for x in samples]\n",
    "sequences"
   ]
  },
  {
   "cell_type": "markdown",
   "id": "cebb81e7",
   "metadata": {},
   "source": [
    "We are going to visualize the nucleotide frequencies of the sampled sequences \n",
    "if module ```logomaker``` is availabe.\n",
    "(e.g. install by ```conda install logomaker```)"
   ]
  },
  {
   "cell_type": "code",
   "execution_count": null,
   "id": "d58174d9",
   "metadata": {},
   "outputs": [],
   "source": [
    "def draw_logo(samples,name=None):\n",
    "    import logomaker as lm\n",
    "    import matplotlib.pyplot as plt\n",
    "    \n",
    "    sequences = [ass_to_seq(x) for x in samples]\n",
    "    \n",
    "    matrix = lm.alignment_to_matrix(sequences = sequences)\n",
    "    logo = lm.Logo(matrix)\n",
    "    logo.style_xticks(rotation=90, fmt='%d', anchor=0)\n",
    "    logo.ax.xaxis.set_ticks_position('none')\n",
    "    if name is not None:\n",
    "        plt.savefig(name)\n",
    "    plt.show()\n",
    "    logo.ax.xaxis.set_tick_params(pad=-1)\n",
    "    return sequences\n",
    "\n",
    "def opt_draw_logo(samples,name=None):\n",
    "    try:\n",
    "        draw_logo(samples,name)\n",
    "    except ModuleNotFoundError:\n",
    "        pass\n",
    "    return [ass_to_seq(x) for x in samples]\n",
    "\n",
    "\n",
    "opt_draw_logo(samples)"
   ]
  },
  {
   "cell_type": "markdown",
   "id": "c7e9ca79",
   "metadata": {},
   "source": [
    "### Multiple targets"
   ]
  },
  {
   "cell_type": "code",
   "execution_count": null,
   "id": "f3d79b26",
   "metadata": {},
   "outputs": [],
   "source": [
    "#           01234567890123456789012345678901234\n",
    "targets = [\"((((((((((...))))((((....))))))))))\",\n",
    "           \"((((((.((((((((....))))..))))))))))\",\n",
    "           \".((((((...)))))).(((((((....)))))))\"]"
   ]
  },
  {
   "cell_type": "code",
   "execution_count": null,
   "id": "a2a079b7",
   "metadata": {},
   "outputs": [],
   "source": [
    "for target in targets:\n",
    "    model.add_constraints(BPComp(i,j) for (i,j) in parse(target))"
   ]
  },
  {
   "cell_type": "code",
   "execution_count": null,
   "id": "87f20553",
   "metadata": {},
   "outputs": [],
   "source": [
    "sampler = Sampler(model)\n",
    "designs = [sampler.sample() for _ in range(10)]\n",
    "\n",
    "samples = [x for x in designs]\n",
    "opt_draw_logo(samples)"
   ]
  },
  {
   "cell_type": "markdown",
   "id": "1c745cd7",
   "metadata": {},
   "source": [
    "# Methods"
   ]
  },
  {
   "cell_type": "markdown",
   "id": "8f327873",
   "metadata": {},
   "source": [
    "## Elementary use of Infrared"
   ]
  },
  {
   "cell_type": "code",
   "execution_count": null,
   "id": "88cfdab5",
   "metadata": {},
   "outputs": [],
   "source": [
    "n = 35"
   ]
  },
  {
   "cell_type": "code",
   "execution_count": null,
   "id": "4bf8b5ac",
   "metadata": {},
   "outputs": [],
   "source": [
    "model = Model(n,4)"
   ]
  },
  {
   "cell_type": "code",
   "execution_count": null,
   "id": "839c85f0",
   "metadata": {},
   "outputs": [],
   "source": [
    "target = \"((((((((((...))))((((....))))))))))\"\n",
    "model.add_constraints(BPComp(i,j) for (i,j) in parse(target))"
   ]
  },
  {
   "cell_type": "code",
   "execution_count": null,
   "id": "4a1e1453",
   "metadata": {},
   "outputs": [],
   "source": [
    "sampler = Sampler(model)\n",
    "samples = [sampler.sample() for _ in range(10)]\n",
    "\n",
    "opt_draw_logo(samples)"
   ]
  },
  {
   "cell_type": "markdown",
   "id": "29b5caf1",
   "metadata": {},
   "source": [
    "## Sequence constraints in IUPAC code"
   ]
  },
  {
   "cell_type": "code",
   "execution_count": null,
   "id": "d89ae30a",
   "metadata": {},
   "outputs": [],
   "source": [
    "iupac_sequence = \"SNNNNNNNNNRYYNNNNNNNNGNRANNNNNNNNNS\""
   ]
  },
  {
   "cell_type": "code",
   "execution_count": null,
   "id": "0ca8fed6",
   "metadata": {},
   "outputs": [],
   "source": [
    "for i, x in enumerate(iupac_sequence):\n",
    "    model.add_constraints(ValueIn(i, iupacvalues(x)))"
   ]
  },
  {
   "cell_type": "code",
   "execution_count": null,
   "id": "cde68ae4",
   "metadata": {},
   "outputs": [],
   "source": [
    "sampler = Sampler(model)\n",
    "samples = [sampler.sample() for _ in range(20)]\n",
    "\n",
    "opt_draw_logo(samples)"
   ]
  },
  {
   "cell_type": "markdown",
   "id": "76b2e5e7",
   "metadata": {},
   "source": [
    "## Control of GC content"
   ]
  },
  {
   "cell_type": "code",
   "execution_count": null,
   "id": "82421562",
   "metadata": {},
   "outputs": [],
   "source": [
    "# add functions for GC control\n",
    "model.add_functions([GCCont(i) for i in range(n)], 'gc')"
   ]
  },
  {
   "cell_type": "code",
   "execution_count": null,
   "id": "3fdf68bf",
   "metadata": {},
   "outputs": [],
   "source": [
    "# set a weight and sample\n",
    "model.set_feature_weight(0.15, 'gc')\n",
    "\n",
    "sampler = Sampler(model)\n",
    "samples = [sampler.sample() for _ in range(1000)]\n",
    "opt_draw_logo(samples)"
   ]
  },
  {
   "cell_type": "code",
   "execution_count": null,
   "id": "c953ccee",
   "metadata": {},
   "outputs": [],
   "source": [
    "## Code to produce the figures in the paper\n",
    "WRITEFIGS = False\n",
    "for name,weight in [('minus', -1), ('zero', 0), ('plus', 1)]:\n",
    "    \n",
    "    model.set_feature_weight(weight, 'gc')\n",
    "    sampler = Sampler(model)\n",
    "    samples = [sampler.sample() for _ in range(1000)]\n",
    "\n",
    "    sequences = opt_draw_logo(samples, f\"gc_content_{name}-logo.svg\")\n",
    "\n",
    "    gc_contents = [100*sum(x in \"GC\" for x in sequence)/len(sequence) for sequence in sequences]\n",
    "    import matplotlib.pyplot as plt\n",
    "    h = plt.hist(gc_contents,bins=10,range=(0,100))\n",
    "    if WRITEFIGS:\n",
    "        plt.savefig(f\"gc_content_{name}-hist.svg\")"
   ]
  },
  {
   "cell_type": "markdown",
   "id": "bd24f11a",
   "metadata": {},
   "source": [
    "Set a target of 75% GC content and then draw targeted samples"
   ]
  },
  {
   "cell_type": "code",
   "execution_count": null,
   "id": "977cea24",
   "metadata": {},
   "outputs": [],
   "source": [
    "sampler = Sampler(model)\n",
    "\n",
    "sampler.set_target( 0.75 * n, 0.01 * n, 'gc' )\n",
    "\n",
    "samples = [sampler.targeted_sample() for _ in range(1000)]\n",
    "sequences = opt_draw_logo(samples)\n",
    "\n",
    "gc_contents = [100*sum(x in \"GC\" for x in sequence)/len(sequence) for sequence in sequences]\n",
    "gc_content = sum(gc_contents) / len(gc_contents)\n",
    "print(f\"GC content in samples: {gc_content:0.2f}%\")"
   ]
  },
  {
   "cell_type": "markdown",
   "id": "d37e19b1",
   "metadata": {},
   "source": [
    "# Controlling energy - Multiple features"
   ]
  },
  {
   "cell_type": "code",
   "execution_count": null,
   "id": "d22bf980",
   "metadata": {},
   "outputs": [],
   "source": [
    "# recall current model\n",
    "model = Model(n,4) \n",
    "bps = parse(target)\n",
    "model.add_constraints(BPComp(i,j) for (i,j) in bps)\n",
    "model.add_functions([GCCont(i) for i in range(n)], 'gc')"
   ]
  },
  {
   "cell_type": "code",
   "execution_count": null,
   "id": "ccf30653",
   "metadata": {},
   "outputs": [],
   "source": [
    "# add (base pair) energy control\n",
    "model.add_functions([BPEnergy(i, j, (i-1, j+1) not in bps)\n",
    "                     for (i,j) in bps], 'energy')"
   ]
  },
  {
   "cell_type": "code",
   "execution_count": null,
   "id": "86840227",
   "metadata": {},
   "outputs": [],
   "source": [
    "# target specific GC and low energy \n",
    "model.set_feature_weight(-2, 'energy')\n",
    "sampler = Sampler(model)\n",
    "sampler.set_target(0.75*n, 0.01*n, 'gc')\n",
    "samples = [sampler.targeted_sample() for _ in range(10)]"
   ]
  },
  {
   "cell_type": "code",
   "execution_count": null,
   "id": "cdee3189",
   "metadata": {},
   "outputs": [],
   "source": [
    "opt_draw_logo(samples)"
   ]
  },
  {
   "cell_type": "code",
   "execution_count": null,
   "id": "0a40f777",
   "metadata": {},
   "outputs": [],
   "source": [
    "# add stacking energy control \n",
    "# - this could be used in place of defining base pair energy\n",
    "#   in the code above\n",
    "model.add_functions([StackEnergy(i, j)\n",
    "    for (i,j) in bps if (i+1,j-1) in bps], 'energy')"
   ]
  },
  {
   "cell_type": "markdown",
   "id": "b367b28e",
   "metadata": {},
   "source": [
    "## Targeting Turner energy\n",
    "\n",
    "NOTE: here we make use of the Vienna RNA library.\n",
    "The code in this section won't work,\n",
    "if the library is not installed."
   ]
  },
  {
   "cell_type": "code",
   "execution_count": null,
   "id": "665d9b70",
   "metadata": {},
   "outputs": [],
   "source": [
    "import RNA"
   ]
  },
  {
   "cell_type": "code",
   "execution_count": null,
   "id": "0ab5e18b",
   "metadata": {},
   "outputs": [],
   "source": [
    "# Restate current model\n",
    "model = Model(n,4) \n",
    "bps = parse(target)\n",
    "model.add_constraints(BPComp(i,j) for (i,j) in bps)\n",
    "model.add_functions([GCCont(i) for i in range(n)], 'gc')\n",
    "model.add_functions([BPEnergy(i, j, (i-1, j+1) not in bps)\n",
    "                     for (i,j) in bps], 'energy')"
   ]
  },
  {
   "cell_type": "code",
   "execution_count": null,
   "id": "4bd6b83a",
   "metadata": {},
   "outputs": [],
   "source": [
    "# add the Turner energy feature\n",
    "model.add_feature('Energy', 'energy',\n",
    "    lambda sample, target=target:\n",
    "        RNA.energy_of_struct(ass_to_seq(sample), target))"
   ]
  },
  {
   "cell_type": "code",
   "execution_count": null,
   "id": "785dfa62",
   "metadata": {},
   "outputs": [],
   "source": [
    "# specify targets and draw targeted samples\n",
    "sampler = Sampler(model)\n",
    "sampler.set_target(0.75*n, 0.05*n, 'gc')\n",
    "sampler.set_target(-10, 0.5, 'Energy')\n",
    "samples = [sampler.targeted_sample() for _ in range(10)]\n",
    "\n",
    "sequences = opt_draw_logo(samples)\n",
    "\n",
    "[(seq,RNA.energy_of_struct(seq,target)) for seq in sequences]"
   ]
  },
  {
   "cell_type": "markdown",
   "id": "509503b4",
   "metadata": {},
   "source": [
    "# Multiple target targets"
   ]
  },
  {
   "cell_type": "code",
   "execution_count": null,
   "id": "f97f1de3",
   "metadata": {},
   "outputs": [],
   "source": [
    "# construct model\n",
    "model = Model(n,4) \n",
    "model.add_functions([GCCont(i) for i in range(n)], 'gc')\n",
    "\n",
    "for k, target in enumerate(targets):\n",
    "    bps = parse(target)\n",
    "    model.add_constraints(BPComp(i,j) for (i,j) in bps)\n",
    "    model.add_functions([BPEnergy(i, j, (i-1, j+1) not in bps)\n",
    "                         for (i,j) in bps], f'energy{k}')"
   ]
  },
  {
   "cell_type": "markdown",
   "id": "9e64c2fd",
   "metadata": {},
   "source": [
    "### Target specific GC content and high affinity to all targets"
   ]
  },
  {
   "cell_type": "code",
   "execution_count": null,
   "id": "2ad17935",
   "metadata": {},
   "outputs": [],
   "source": [
    "# set weights for energy targets\n",
    "for k,_ in enumerate(targets):\n",
    "    model.set_feature_weight(-2, f'energy{k}')\n",
    "\n",
    "# create sampler and set target\n",
    "sampler = Sampler(model)\n",
    "sampler.set_target(0.75*n, 0.05*n, 'gc')\n",
    "samples = [sampler.targeted_sample() for _ in range(5)]\n",
    "\n",
    "sequences = opt_draw_logo(samples)\n",
    "\n",
    "# annotate sequences with energies (annotate with Turner energies only if RNA module is available)\n",
    "try:\n",
    "    import RNA\n",
    "    sequences = [\"\".join([seq]+[f\" {RNA.energy_of_struct(seq,target):5.1f}\" for target in targets]) for seq in sequences]\n",
    "except ModuleNotFoundError:\n",
    "    pass\n",
    "\n",
    "sequences"
   ]
  },
  {
   "cell_type": "markdown",
   "id": "9376a754",
   "metadata": {},
   "source": [
    "### Target specific GC content and specific Turner energies for all targets\n",
    "\n",
    "Note: this will again require the Vienna RNA library"
   ]
  },
  {
   "cell_type": "code",
   "execution_count": null,
   "id": "79bb29b5",
   "metadata": {},
   "outputs": [],
   "source": [
    "# add Turner energy features for all target targets\n",
    "for k, target in enumerate(targets):\n",
    "    model.add_feature(f'Energy{k}', f'energy{k}',\n",
    "        lambda sample, target=target:\n",
    "            RNA.energy_of_struct(ass_to_seq(sample), target))\n",
    "\n",
    "sampler = Sampler(model)\n",
    "sampler.set_target(0.75*n, 0.01*n, 'gc')\n",
    "\n",
    "sampler.set_target( -15, 1, 'Energy0')\n",
    "sampler.set_target( -20, 1, 'Energy1')\n",
    "sampler.set_target( -20, 1, 'Energy2')\n",
    "\n",
    "samples = [sampler.targeted_sample() for _ in range(5)]\n",
    "\n",
    "sequences = opt_draw_logo(samples)\n",
    "\n",
    "# annotate sequences with energies\n",
    "[\"\".join([seq]+[f\" {RNA.energy_of_struct(seq,target):5.1f}\" for target in targets]) for seq in sequences]"
   ]
  },
  {
   "cell_type": "markdown",
   "id": "37c63b91",
   "metadata": {},
   "source": [
    "## Plot dependencies and tree decomposition"
   ]
  },
  {
   "cell_type": "code",
   "execution_count": null,
   "id": "ba80625e",
   "metadata": {},
   "outputs": [],
   "source": [
    "from IPython.display import Image"
   ]
  },
  {
   "cell_type": "code",
   "execution_count": null,
   "id": "39247b5e",
   "metadata": {},
   "outputs": [],
   "source": [
    "# Plot dependency graph\n",
    "\n",
    "filename = 'dependency_graph.dot'\n",
    "model.write_graph(filename, True)\n",
    "\n",
    "dotfile_to_png(filename)\n",
    "dotfile_to_pdf(filename)\n",
    "\n",
    "filename = re.sub(r\"dot$\",\"png\",filename)\n",
    "\n",
    "Image(filename=filename,width=600)"
   ]
  },
  {
   "cell_type": "code",
   "execution_count": null,
   "id": "e34d071b",
   "metadata": {},
   "outputs": [],
   "source": [
    "# Plot tree decomposition\n",
    "sampler = Sampler(model)\n",
    "print(f\"Tree width: {sampler.treewidth()}\")\n",
    "filename=\"treedecomp\"\n",
    "sampler.plot_td(filename,'png')\n",
    "sampler.plot_td(filename,'pdf')\n",
    "sampler.plot_td(filename+\".dot\",'dot')\n",
    "Image(filename=filename+\".png\",width=300)"
   ]
  },
  {
   "cell_type": "markdown",
   "id": "c158b0d7",
   "metadata": {},
   "source": [
    "# Negative design by sampling"
   ]
  },
  {
   "cell_type": "code",
   "execution_count": null,
   "id": "acaa1506",
   "metadata": {},
   "outputs": [],
   "source": [
    "target = targets[0]\n",
    "n = len(target)"
   ]
  },
  {
   "cell_type": "code",
   "execution_count": null,
   "id": "a2d736b5",
   "metadata": {},
   "outputs": [],
   "source": [
    "def is_mfe_design(sequence, target):\n",
    "    fc = RNA.fold_compound(sequence)\n",
    "    return fc.eval_structure(target) == fc.mfe()[1]"
   ]
  },
  {
   "cell_type": "code",
   "execution_count": null,
   "id": "5fae0b8d",
   "metadata": {},
   "outputs": [],
   "source": [
    "def single_target_design_model(target):\n",
    "    n, bps = len(target), parse(target)\n",
    "    model = Model(n, 4)\n",
    "    model.add_constraints(BPComp(i, j) for (i, j) in bps)\n",
    "    model.add_functions([GCCont(i) for i in range(n)], 'gc')\n",
    "    model.add_functions([BPEnergy(i, j, (i-1, j+1) not in bps)\n",
    "        for (i,j) in bps], 'energy')\n",
    "    model.set_feature_weight(-1.5, 'energy')\n",
    "    return model"
   ]
  },
  {
   "cell_type": "code",
   "execution_count": null,
   "id": "c70de4d6",
   "metadata": {},
   "outputs": [],
   "source": [
    "# solve by direct sampling\n",
    "sampler = Sampler(single_target_design_model(target))\n",
    "sampler.set_target(0.7 * n, 0.1 * n, 'gc')\n",
    "for i in range(50):\n",
    "    seq = ass_to_seq(sampler.targeted_sample())\n",
    "    if is_mfe_design(seq,target):\n",
    "        print(f\"{i} {seq}\")"
   ]
  },
  {
   "cell_type": "code",
   "execution_count": null,
   "id": "429e1d76",
   "metadata": {},
   "outputs": [],
   "source": [
    "def target_frequency(sequence, target):\n",
    "    fc = RNA.fold_compound(sequence)\n",
    "    fc.pf()\n",
    "    return fc.pr_structure(target)"
   ]
  },
  {
   "cell_type": "code",
   "execution_count": null,
   "id": "79a5a4a9",
   "metadata": {},
   "outputs": [],
   "source": [
    "sampler = Sampler(single_target_design_model(target))\n",
    "sampler.set_target(0.7 * n, 0.1 * n, 'gc')\n",
    "best = 0\n",
    "for i in range(100):\n",
    "    seq = ass_to_seq(sampler.targeted_sample())\n",
    "    freq = target_frequency(seq,target)\n",
    "    if freq > best:\n",
    "        best = freq\n",
    "        print(f\"{i} {seq} {freq:.6f}\")"
   ]
  },
  {
   "cell_type": "markdown",
   "id": "40c7a626",
   "metadata": {},
   "source": [
    "## Disruptive base pairs - RNAPOND-like negative design"
   ]
  },
  {
   "cell_type": "code",
   "execution_count": null,
   "id": "d0e0569a",
   "metadata": {},
   "outputs": [],
   "source": [
    "## a slightly harder instance\n",
    "target = \"(((((.((((((.((((((.((((((.((((((.((((((....((((((......)))))).)))))).(((((...(((((((...)))))))))))).)))))).((((((((((((...)))))))...))))).))))))....))))))....))))))....)))))\" #Eterna100 39\n",
    "n = len(target)\n",
    "bps = parse(target)\n",
    "steps = 50\n",
    "from collections import Counter"
   ]
  },
  {
   "cell_type": "code",
   "execution_count": null,
   "id": "7d774849",
   "metadata": {},
   "outputs": [],
   "source": [
    "def cg_design_iteration(dbps):\n",
    "    model = single_target_design_model(target)\n",
    "    model.add_constraints(NotBPComp(i, j) for (i, j) in dbps)\n",
    "    sampler = Sampler(model, lazy=True)\n",
    "    sampler.set_target(0.7 * n, 0.1 * n, 'gc' )\n",
    "    if sampler.treewidth() > 10 or not sampler.is_consistent():\n",
    "        return dbps, \"Not found\"\n",
    "    ctr = Counter()    \n",
    "    for i in range(steps):\n",
    "        seq = ass_to_seq(sampler.targeted_sample())\n",
    "        fc = RNA.fold_compound(seq)\n",
    "        mfe, mfe_e = fc.mfe()\n",
    "        if fc.eval_structure(target) == mfe_e:\n",
    "            return dbps, seq\n",
    "        ctr.update(parse(mfe))\n",
    "    ndbps = [x[0] for x in ctr.most_common() if x[0] not in bps]\n",
    "    return dbps + ndbps[:3], None\n",
    "dbps, seq = [], None\n",
    "while seq is None: dbps, seq = cg_design_iteration(dbps)\n",
    "print(seq)"
   ]
  },
  {
   "cell_type": "markdown",
   "id": "68cc7219",
   "metadata": {},
   "source": [
    "# Negative design optimization with resampling"
   ]
  },
  {
   "cell_type": "code",
   "execution_count": null,
   "id": "d0b953d6",
   "metadata": {},
   "outputs": [],
   "source": [
    "## define multi-target design model for resampling of subsets \n",
    "def multi_design_model(targets, solution=None, subset=None):\n",
    "    n = len(targets[0])\n",
    "    model = Model(n, 4)\n",
    "    if subset is None: subset = set(range(n))\n",
    "    for i in set(range(n))-subset:\n",
    "        value = solution.values()[i]\n",
    "        model.restrict_domains(i,(value,value))\n",
    "    model.add_functions([GCCont(i) for i in subset], 'gc')\n",
    "    for target in targets:\n",
    "        s = parse(target)\n",
    "        ss = [(i, j) for (i, j) in s if i in subset or j in subset]\n",
    "        model.add_constraints(BPComp(i, j) for (i, j) in ss)\n",
    "        model.add_functions([BPEnergy(i, j, (i-1, j+1) not in s)\n",
    "            for (i,j) in ss], 'energy')\n",
    "    model.set_feature_weight(-1, 'energy')\n",
    "    model.set_feature_weight(-0.3, 'gc')\n",
    "    return model"
   ]
  },
  {
   "cell_type": "code",
   "execution_count": null,
   "id": "8cacfe73",
   "metadata": {},
   "outputs": [],
   "source": [
    "def multi_defect(sequence, targets, xi=1):\n",
    "    k = len(targets)\n",
    "    fc = RNA.fold_compound(sequence)\n",
    "    ee = fc.pf()[1]\n",
    "    eos = [fc.eval_structure(target) for target in targets]\n",
    "    diff_ee = sum(1/k * (eos[i] - ee) for i in range(k))\n",
    "    diff_targets = sum(2/(k*(k-1)) * abs(eos[i]-eos[j])\n",
    "        for i in range(k) for j in range(k) if i<j)\n",
    "    return diff_ee + xi * diff_targets"
   ]
  },
  {
   "cell_type": "code",
   "execution_count": null,
   "id": "9a829d9f",
   "metadata": {},
   "outputs": [],
   "source": [
    "from random import random, choices\n",
    "from math import exp"
   ]
  },
  {
   "cell_type": "code",
   "execution_count": null,
   "id": "ff9a5688",
   "metadata": {},
   "outputs": [],
   "source": [
    "def optimize(create_model, objective, steps, temp):\n",
    "    model = create_model(None, None)\n",
    "    cur = Sampler(model).sample()\n",
    "    curval = objective(cur)\n",
    "    ccs = model.connected_components()\n",
    "    weights = [1/len(cc) for cc in ccs]\n",
    "    bestval = math.inf\n",
    "    for i in range(steps):\n",
    "        cc = choices(ccs,weights)[0]\n",
    "        new = Sampler(create_model(cur, cc)).sample()\n",
    "        newval = objective(new)\n",
    "        if (newval <= curval\n",
    "            or random() <= exp(-(newval - curval ) / temp)):\n",
    "            cur, curval = new, newval\n",
    "            if curval < bestval:\n",
    "                best, bestval = cur, curval            \n",
    "    return (best, bestval)"
   ]
  },
  {
   "cell_type": "code",
   "execution_count": null,
   "id": "83981210",
   "metadata": {},
   "outputs": [],
   "source": [
    "def optimize_md(targets):\n",
    "    best, bestval = \\\n",
    "        optimize(lambda sol, ss:\n",
    "                 multi_design_model(targets, sol, ss),\n",
    "                 lambda ass:\n",
    "                 multi_defect(ass_to_seq(ass), targets, xi = 1),\n",
    "                 1000, 0.015)\n",
    "    best = ass_to_seq(best)\n",
    "    \n",
    "    fc = RNA.fold_compound(best)\n",
    "    print(best, bestval, fc.mfe(),\n",
    "          [fc.eval_structure(t) for t in targets],\n",
    "          f'{100*sum(x in \"GC\" for x in best)/len(best):0.1f}%'\n",
    "    )\n",
    "optimize_md(targets)"
   ]
  },
  {
   "cell_type": "code",
   "execution_count": null,
   "id": "fa5b0f37",
   "metadata": {},
   "outputs": [],
   "source": [
    "# good solutions for the running 3-target example\n",
    "\n",
    "seq = \"AGGGUCCGGGGGGCCCGGGGGUUGACCCCGACCCU\" # all mfe; GC 65.7% (1000 steps; ~6s)\n",
    "seq = \"GGGGCCCGGGGGGCCCGGGGGUUGACCCCGGCCCC\"\n",
    "seq = \"CCCCUUGCCUCAAGGGCCCUCUUCAGAGGAAGGGG\"\n",
    "fc = RNA.fold_compound(seq)\n",
    "print(fc.mfe())\n",
    "print(fc.pf())\n",
    "print([fc.eval_structure(t) for t in targets])\n",
    "print([fc.pr_structure(t) for t in targets])\n",
    "print(multi_defect(seq,targets,xi=1))"
   ]
  },
  {
   "cell_type": "code",
   "execution_count": null,
   "id": "6ee8d245",
   "metadata": {},
   "outputs": [],
   "source": [
    "#01234567890123456789012345678901234\n",
    "#GGGGCCCGGGGGGCCCGGGGGUUGACCCCGGCCCC"
   ]
  }
 ],
 "metadata": {
  "kernelspec": {
   "display_name": "Python 3 (ipykernel)",
   "language": "python",
   "name": "python3"
  },
  "language_info": {
   "codemirror_mode": {
    "name": "ipython",
    "version": 3
   },
   "file_extension": ".py",
   "mimetype": "text/x-python",
   "name": "python",
   "nbconvert_exporter": "python",
   "pygments_lexer": "ipython3",
   "version": "3.9.6"
  }
 },
 "nbformat": 4,
 "nbformat_minor": 5
}
