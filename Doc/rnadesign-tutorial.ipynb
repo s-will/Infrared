{
 "cells": [
  {
   "cell_type": "code",
   "execution_count": null,
   "metadata": {},
   "outputs": [],
   "source": [
    "#########################################################\n",
    "####\n",
    "#### Tutorial: RNA Design with Infrared (for Developers)\n",
    "####\n",
    "#######################################################|##\n",
    "\n",
    "###############################################\n",
    "## Start with simple sampling of RNA sequences\n",
    "\n",
    "# -- _the_ main module of Infrared\n",
    "import infrared as ir"
   ]
  },
  {
   "cell_type": "code",
   "execution_count": null,
   "metadata": {},
   "outputs": [],
   "source": [
    "# -- specify a constraint network model\n",
    "\n",
    "# our first model is _very_ simple: 20 variables (=sequence positions), no dependencies\\\n",
    "model = ir.Model()\n",
    "model.add_variables(20,4)\n",
    "# construct sampler for the Model (using default tree decomposition)\n",
    "sampler = ir.Sampler(model)"
   ]
  },
  {
   "cell_type": "code",
   "execution_count": null,
   "metadata": {},
   "outputs": [],
   "source": [
    "def show_td_info(sampler,width=600):\n",
    "    td = sampler.td\n",
    "    print(\"tree width =\", td.treewidth())\n",
    "    print(\"bags =\", td.bags)\n",
    "    print(\"edges =\", td.edges)\n",
    "    \n",
    "    tmpfile=\"tmp_out.png\"\n",
    "    sampler.plot_td(tmpfile,'png')\n",
    "    from IPython.display import Image\n",
    "    return Image(filename=tmpfile,width=width)"
   ]
  },
  {
   "cell_type": "code",
   "execution_count": null,
   "metadata": {},
   "outputs": [],
   "source": [
    "show_td_info(sampler)"
   ]
  },
  {
   "cell_type": "code",
   "execution_count": null,
   "metadata": {},
   "outputs": [],
   "source": [
    "# -- evaluate the cluster tree\n",
    "#   -- in this simple case, this will count the structures\n",
    "count = sampler.evaluate()\n",
    "print(\"# =\",int(count))\n",
    "# btw, of course, 'count' is the number of all possible seqs 4**20"
   ]
  },
  {
   "cell_type": "code",
   "execution_count": null,
   "metadata": {},
   "outputs": [],
   "source": [
    "# -- generate 10 samples\n",
    "samples = [sampler.sample().values() for i in range(10)]\n",
    "\n",
    "samples"
   ]
  },
  {
   "cell_type": "code",
   "execution_count": null,
   "metadata": {},
   "outputs": [],
   "source": [
    "# -- and show them (pretty)\n",
    "from infrared import rna\n",
    "[rna.values_to_seq(s) for s in samples]"
   ]
  },
  {
   "cell_type": "code",
   "execution_count": null,
   "metadata": {},
   "outputs": [],
   "source": [
    "##################################################\n",
    "## add constraints from an RNA secondary structure\n",
    "structure = \"((((...))))(((...)))\"\n",
    "bps = rna.parse_RNA(structure)"
   ]
  },
  {
   "cell_type": "code",
   "execution_count": null,
   "metadata": {},
   "outputs": [],
   "source": [
    "bps"
   ]
  },
  {
   "cell_type": "code",
   "execution_count": null,
   "metadata": {},
   "outputs": [],
   "source": [
    "complementary_nucleotides = [\"AU\",\"CG\",\"GC\",\"GU\",\"UA\",\"UG\"]\n",
    "# -- define complementarity constraints\n",
    "ir.def_constraint_class( \n",
    "    'ComplConstraint',\n",
    "    lambda i,j: [i,j],\n",
    "    lambda x,y: rna.values_to_seq([x,y]) \n",
    "                  in complementary_nucleotides\n",
    ")    \n",
    "    \n",
    "## btw, there is already a pre-defined constraint rna.ComplConstraint,\n",
    "## which we could have used as well\n",
    "\n",
    "cons = [ ComplConstraint( i , j ) for (i,j) in bps ]\n",
    "deps = [ x.vars() for x in cons ]\n",
    "\n",
    "deps"
   ]
  },
  {
   "cell_type": "code",
   "execution_count": null,
   "metadata": {},
   "outputs": [],
   "source": [
    "# -- reinitialize constraint model, rebuild tree decomp and cluster tree\n",
    "#complementary_nucleotides = [\"AU\"]\n",
    "\n",
    "seqlen = len(structure) # --> number of positions / variables in the CN\n",
    "model = ir.Model()\n",
    "model.add_variables(seqlen,4)\n",
    "model.add_constraints(cons)\n",
    "\n",
    "sampler = ir.Sampler(model)\n",
    "\n",
    "show_td_info(sampler)"
   ]
  },
  {
   "cell_type": "code",
   "execution_count": null,
   "metadata": {},
   "outputs": [],
   "source": [
    "# generate samples (with complementarity constraints)\n",
    "def spit_them_samples_out(sampler,num):\n",
    "    samples = [ sampler.sample() for i in range(num) ]\n",
    "    return [ rna.ass_to_seq(s) for s in samples ]\n",
    "\n",
    "count = sampler.evaluate()\n",
    "print(\"# =\",int(count))\n",
    "# btw, count == 6**7 * 4**6, by simple combinatorics\n",
    "\n",
    "print(\"  \"+structure)\n",
    "spit_them_samples_out(sampler,10)"
   ]
  },
  {
   "cell_type": "code",
   "execution_count": null,
   "metadata": {},
   "outputs": [],
   "source": [
    "##########################\n",
    "## Control the GC content\n",
    "\n",
    "# -- define function for GC Control\n",
    "ir.def_function_class(\n",
    "    'GCControl',\n",
    "    lambda i: [i],\n",
    "    lambda x: rna.value_to_nucleotide( x ) in \"GC\"\n",
    ")\n",
    "\n",
    "## btw, there is predefined rna.GCControl"
   ]
  },
  {
   "cell_type": "code",
   "execution_count": null,
   "metadata": {},
   "outputs": [],
   "source": [
    "## -- setup functions\n",
    "gc_weight = 1 ## <- try different weights: 0.1, 10, ...\n",
    "\n",
    "gc_funs = [ GCControl( i )\n",
    "              for i in range( seqlen ) ]\n",
    "\n",
    "model.add_functions(gc_funs, 'gc')\n",
    "\n",
    "# -- reinitialize sampler\n",
    "sampler = ir.Sampler( model )\n",
    "\n",
    "spit_them_samples_out( sampler, 10 )"
   ]
  },
  {
   "cell_type": "code",
   "execution_count": null,
   "metadata": {},
   "outputs": [],
   "source": [
    "##########################\n",
    "## Control the BP energy\n",
    "\n",
    "rna.set_bpenergy_table() # set bp energies to magic numbers\n",
    "\n",
    "bpe_funs = [ rna.BPEnergy( i, j, False ) for (i,j) in bps ] \n",
    "\n",
    "model.add_functions(bpe_funs, 'bpenergy')\n",
    "\n",
    "model.set_feature_weight(0, 'gc')\n",
    "model.set_feature_weight(0, 'bpenergy')\n",
    "\n",
    "sampler = ir.Sampler(model)\n",
    "\n",
    "\n",
    "print(\"  \"+structure)\n",
    "spit_them_samples_out(sampler, 10)"
   ]
  },
  {
   "cell_type": "code",
   "execution_count": null,
   "metadata": {},
   "outputs": [],
   "source": [
    "### as example of additional hard constraints: avoid GG dinucleotides\n",
    "\n",
    "ir.def_constraint_class('AvoidGGConstraint',\n",
    "                         lambda i: [i, i+1],\n",
    "                         lambda x,y: rna.values_to_seq([x,y]) != \"GG\")\n",
    "\n",
    "gg_cons = [ AvoidGGConstraint( i ) for i in range(seqlen-1) ]"
   ]
  },
  {
   "cell_type": "code",
   "execution_count": null,
   "metadata": {},
   "outputs": [],
   "source": [
    "model.add_constraints(gg_cons)\n",
    "\n",
    "sampler = ir.Sampler(model)\n",
    "\n",
    "print(\"  \"+structure)\n",
    "spit_them_samples_out(sampler, 10)"
   ]
  },
  {
   "cell_type": "code",
   "execution_count": null,
   "metadata": {},
   "outputs": [],
   "source": [
    "# IncARNation-like model and sampler\n",
    "\n",
    "model =  ir.Model()\n",
    "model.add_variables(seqlen, 4)\n",
    "model.add_constraints(cons)\n",
    "model.add_functions(bpe_funs, 'bpenergy')\n",
    "model.add_functions(gc_funs, 'gc')\n",
    "\n",
    "sampler = ir.Sampler(model)\n",
    "\n",
    "sampler.set_target( -12, 1, 'bpenergy' )\n",
    "sampler.set_target( 10, 2, 'gc' )\n",
    "\n",
    "# -- and sample away\n",
    "\n",
    "for i in range(10):\n",
    "    sample = sampler.targeted_sample()\n",
    "    print(\"{} {:.2f} {:.2f}\".format(rna.ass_to_seq(sample), \n",
    "                                    model.eval_feature(sample,'bpenergy'),\n",
    "                                    model.eval_feature(sample,'gc')))"
   ]
  },
  {
   "cell_type": "code",
   "execution_count": null,
   "metadata": {},
   "outputs": [],
   "source": [
    "## similar but with control of Turner energy\n",
    "##\n",
    "## ATTENTION: this requires the Vienna RNA package with working Python bindings \n",
    "## (currently, this fails in Windows even after installing the package from binaries)\n",
    "import RNA\n",
    "\n",
    "model.add_feature( 'Energy', # feature name\n",
    "                   'bpenergy', # controlled group(s)\n",
    "                   #\n",
    "                   # function to evaluate the feature for a sample;\n",
    "                   # NOTE how we have to bind i\n",
    "                   lambda sample, structure=structure:\n",
    "                      RNA.energy_of_struct( rna.ass_to_seq( sample ),\n",
    "                                            structure )\n",
    "                 )\n",
    "\n",
    "sampler = ir.Sampler(model)\n",
    "\n",
    "sampler.set_target( -5, 1, 'Energy' )\n",
    "sampler.set_target( 10, 2, 'gc' )\n",
    "\n",
    "# -- and sample away\n",
    "\n",
    "for i in range(10):\n",
    "    sample = sampler.targeted_sample()\n",
    "    print(\"{} {:5.2f} {:5.2f} {:5.2f}\".format(rna.ass_to_seq(sample), \n",
    "                                    model.eval_feature(sample,'bpenergy'),\n",
    "                                    model.eval_feature(sample,'Energy'),\n",
    "                                    model.eval_feature(sample,'gc')))"
   ]
  },
  {
   "cell_type": "code",
   "execution_count": null,
   "metadata": {},
   "outputs": [],
   "source": [
    "## Samplers from the same model can be used in parallel\n",
    "\n",
    "## for demonstration, produce K samplers of the model\n",
    "## with different target energies\n",
    "\n",
    "K = 3\n",
    "\n",
    "samplers = list()\n",
    "\n",
    "model.set_feature_weight( 0, 'Energy' )\n",
    "\n",
    "for i in range(K):\n",
    "    samplers.append( ir.Sampler(model) )\n",
    "\n",
    "for k,sampler in enumerate(samplers):\n",
    "    sampler.set_target( -3*k, 0.01, 'Energy' )\n",
    "\n",
    "for i in range(5):\n",
    "    for k,sampler in enumerate(samplers):\n",
    "        sample = sampler.targeted_sample()\n",
    "        print(\"target={:2} {} {:5.2f}\".format( sampler.model.features['Energy'].target,\n",
    "                                              rna.ass_to_seq(sample), \n",
    "                                              model.eval_feature(sample,'Energy')))\n",
    "        \n",
    "for k,sampler in enumerate(samplers):\n",
    "    print(f\"weight_{k} = {sampler.model.features['Energy'].weight}\")"
   ]
  },
  {
   "cell_type": "code",
   "execution_count": null,
   "metadata": {},
   "outputs": [],
   "source": []
  }
 ],
 "metadata": {
  "kernelspec": {
   "display_name": "Python 3 (ipykernel)",
   "language": "python",
   "name": "python3"
  },
  "language_info": {
   "codemirror_mode": {
    "name": "ipython",
    "version": 3
   },
   "file_extension": ".py",
   "mimetype": "text/x-python",
   "name": "python",
   "nbconvert_exporter": "python",
   "pygments_lexer": "ipython3",
   "version": "3.9.6"
  }
 },
 "nbformat": 4,
 "nbformat_minor": 4
}
