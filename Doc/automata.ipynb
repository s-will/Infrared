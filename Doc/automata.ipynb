{
 "cells": [
  {
   "cell_type": "markdown",
   "id": "539bdb14",
   "metadata": {},
   "source": [
    "# Use of Automata in Infrared models: forbid/enforce sequence motifs\n",
    "\n",
    "We showcase an Infrared feature network model that forbids (or enforces) the occurrence of any (respectively one) of several given input motifs in randomly generated sequences.\n",
    "The Infrared model is be based on a finite automaton that we construct from the input motifs/words."
   ]
  },
  {
   "cell_type": "code",
   "execution_count": null,
   "id": "ac7c140c",
   "metadata": {},
   "outputs": [],
   "source": [
    "import infrared as ir\n",
    "from collections import defaultdict"
   ]
  },
  {
   "cell_type": "markdown",
   "id": "bcf5b3ad",
   "metadata": {},
   "source": [
    "A *Deterministic Finite Automaton (DFA)* is a $5$-tuple $(\\mathcal{Q},\\Sigma,\\delta,q_0,\\mathcal{Q}_F)$ with\n",
    "\n",
    "* Finite set of states $\\mathcal{Q}$;\n",
    "* Finite set of symbols $\\Sigma$;\n",
    "* Transition function $\\delta:\\mathcal{Q}\\times\\Sigma\\to\\mathcal{Q}$;\n",
    "* Initial state $q_0\\in\\mathcal{Q}$;\n",
    "* Set of final, accepting states $\\mathcal{Q}_F\\subset\\mathcal{Q}$.\n"
   ]
  },
  {
   "cell_type": "markdown",
   "id": "f25123f7",
   "metadata": {},
   "source": [
    "## Construction of an Aho-Corasick automaton\n",
    "\n",
    "We construct a specific DFA, called *Aho-Corasick automaton*, that accepts strings that contain one of several given words. The general idea of this construction is that the automaton contains one state for every true word prefix; in addition there is a terminal state $. Then, we introduce transitions from states so that the automaton always remembers the longest infix up to current position that can still be extended to an accepted word."
   ]
  },
  {
   "cell_type": "code",
   "execution_count": null,
   "id": "90d23ba8",
   "metadata": {},
   "outputs": [],
   "source": [
    "def maxoverlap(s,t):\n",
    "    for i in reversed(range(min(len(s),(len(t)))+1)):\n",
    "        if s[-i:] == t[:i]:\n",
    "            return i\n",
    "    return 0\n",
    "\n",
    "def construct_automaton(words):\n",
    "    #\n",
    "    Sigma = set()\n",
    "    for w in words:\n",
    "        Sigma = Sigma.union(w)\n",
    "\n",
    "    states = set()\n",
    "    for w in words:\n",
    "        for i in range(0,len(w)):\n",
    "            states.add(w[:i])\n",
    "\n",
    "    states.add(\"$\")\n",
    "\n",
    "    # construct transition table as dictionary delta[state][c] = nextstate\n",
    "    delta = defaultdict(dict)\n",
    "\n",
    "    for state in states:\n",
    "        if state==\"$\":\n",
    "            for c in Sigma:\n",
    "                delta[state][c]=\"$\"\n",
    "            continue\n",
    "        for c in Sigma:\n",
    "            s = state+c\n",
    "\n",
    "            if s in words:\n",
    "                delta[state][c] = \"$\"\n",
    "                continue\n",
    "\n",
    "            if s in states:\n",
    "                delta[state][c] = s\n",
    "                continue\n",
    "\n",
    "            # find smallest state with largest overlap\n",
    "            xs = []\n",
    "            for state2 in states:\n",
    "                k = maxoverlap(s,state2)\n",
    "                xs.append((state2,k))\n",
    "            if len(xs)>0:\n",
    "                maxk = max(x[1] for x in xs)\n",
    "                maxstates = [x[0] for x in xs if x[1]==maxk]\n",
    "                state2=min(maxstates, key=lambda x: len(x))\n",
    "                delta[state][c]=state2\n",
    "    return (states,delta)"
   ]
  },
  {
   "cell_type": "markdown",
   "id": "bfbb6658",
   "metadata": {},
   "source": [
    "### Construct for specific instance and visualize\n",
    "\n",
    "In our example, we are going to forbid a list of restriction sites"
   ]
  },
  {
   "cell_type": "code",
   "execution_count": null,
   "id": "df631dbc",
   "metadata": {},
   "outputs": [],
   "source": [
    "words = [\"GAATTC\", \"GGATCC\", \"AAGCTT\"]\n",
    "\n",
    "automaton = construct_automaton(words)"
   ]
  },
  {
   "cell_type": "code",
   "execution_count": null,
   "id": "97ac22f8",
   "metadata": {},
   "outputs": [],
   "source": [
    "import graphviz\n",
    "\n",
    "def draw_automaton(automaton):\n",
    "    states,delta = automaton\n",
    "    \n",
    "    G=graphviz.Digraph(engine=\"dot\",\n",
    "    graph_attr=dict(),\n",
    "    node_attr=dict(fontsize=\"22pt\", fontname=\"Helvetica\",\n",
    "                   penwidth=\"3.0\", fontcolor=\"black\",\n",
    "                   shape=\"rectangle\", style=\"rounded\",\n",
    "                   height=\"0.4\", margin=\"0.03\"),\n",
    "    edge_attr=dict(color=\"gray30\", penwidth=\"1.5\", arrowsize=\"0.8\"))\n",
    "    \n",
    "    for state in states:\n",
    "        G.node(state)\n",
    "    for src in delta:\n",
    "        tgts = defaultdict(list)\n",
    "        for c in delta[src]:\n",
    "            tgt = delta[src][c]\n",
    "            tgts[tgt].append(c)\n",
    "        for tgt,c in tgts.items():\n",
    "            G.edge(src,tgt,label=','.join(sorted(c)))\n",
    "    \n",
    "    return G"
   ]
  },
  {
   "cell_type": "code",
   "execution_count": null,
   "id": "6e86951b",
   "metadata": {},
   "outputs": [],
   "source": [
    "draw_automaton(automaton)"
   ]
  },
  {
   "cell_type": "markdown",
   "id": "ba775d9b",
   "metadata": {},
   "source": [
    "## Automaton feature network"
   ]
  },
  {
   "cell_type": "code",
   "execution_count": null,
   "id": "67283306",
   "metadata": {},
   "outputs": [],
   "source": [
    "ir.def_constraint_class('Trans',\n",
    "    lambda i,delta,var: var([('X',i),('Y',i),('Y',i+1)]),\n",
    "    lambda xi,yi,yip1,delta: yip1 == delta[yi][xi])\n",
    "\n",
    "def automaton_model(n, Sigma, automaton, model=None, negated=False):\n",
    "    Sigma = sorted(Sigma)\n",
    "    if model is None:\n",
    "        model = ir.Model(n,len(Sigma))\n",
    "    \n",
    "    states, delta = automaton\n",
    "    states=list(states)\n",
    "    termidx = states.index('$')\n",
    "    states[termidx],states[-1] = states[-1],states[termidx]\n",
    "    \n",
    "    numstates = len(states)\n",
    "    \n",
    "    intstates = {x:state for x,state in enumerate(states)}\n",
    "    revintstates = {state:x for x,state in intstates.items()}\n",
    "        \n",
    "    intdelta = defaultdict(dict)\n",
    "    for src in delta:\n",
    "        for c in delta[src]:\n",
    "            tgt = delta[src][c]\n",
    "            intdelta[revintstates[src]][Sigma.index(c)] = revintstates[tgt]\n",
    "        \n",
    "    q0 = revintstates['']\n",
    "    qf = revintstates['$']\n",
    "    \n",
    "    numstates = len(states)\n",
    "    \n",
    "    model.add_variables(1,   (q0,q0),'Y')\n",
    "    model.add_variables(n-1, numstates ,'Y')\n",
    "    if not negated:\n",
    "        model.add_variables(1,   (qf,qf), 'Y')\n",
    "    else:\n",
    "        model.add_variables(1,   (0,qf-1), 'Y')\n",
    "    \n",
    "    model.add_constraints( Trans(i,intdelta,model.idx) for i in range(n) )\n",
    "    \n",
    "    return model"
   ]
  },
  {
   "cell_type": "markdown",
   "id": "af8cd527",
   "metadata": {},
   "source": [
    "## Model for our example\n",
    "\n",
    "Construct the model for our example input words and use it to generate (uniformly drawn) sequences that avoid the input words!"
   ]
  },
  {
   "cell_type": "code",
   "execution_count": null,
   "id": "16ff83a3",
   "metadata": {},
   "outputs": [],
   "source": [
    "Sigma = \"ACGT\"\n",
    "n=100\n",
    "def a_to_seq(assignment, n, Sigma):\n",
    "    return \"\".join([Sigma[i] for i in sample.values()[:n]])\n",
    "\n",
    "model = automaton_model(n, Sigma, automaton, negated=True)"
   ]
  },
  {
   "cell_type": "markdown",
   "id": "707f657e",
   "metadata": {},
   "source": [
    "generate sequences and test whether they contain any input word (if above negated=True, then they must not occur; otherwise one of them must occur)"
   ]
  },
  {
   "cell_type": "code",
   "execution_count": null,
   "id": "60c523b4",
   "metadata": {},
   "outputs": [],
   "source": [
    "sampler = ir.Sampler(model)\n",
    "\n",
    "for _ in range(10):\n",
    "    sample = sampler.sample()\n",
    "    seq = a_to_seq(sample,n,Sigma)\n",
    "    print(seq)\n",
    "    ## Test whether input words are contained\n",
    "    for w in words:\n",
    "        if w in seq: \n",
    "            print(f\"    {w} occurs\")"
   ]
  }
 ],
 "metadata": {
  "kernelspec": {
   "display_name": "Python 3 (ipykernel)",
   "language": "python",
   "name": "python3"
  },
  "language_info": {
   "codemirror_mode": {
    "name": "ipython",
    "version": 3
   },
   "file_extension": ".py",
   "mimetype": "text/x-python",
   "name": "python",
   "nbconvert_exporter": "python",
   "pygments_lexer": "ipython3",
   "version": "3.10.9"
  }
 },
 "nbformat": 4,
 "nbformat_minor": 5
}
