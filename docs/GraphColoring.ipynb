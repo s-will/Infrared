{
 "cells": [
  {
   "cell_type": "markdown",
   "id": "a04d5330",
   "metadata": {},
   "source": [
    "# Graph coloring"
   ]
  },
  {
   "cell_type": "markdown",
   "id": "e2407b5e",
   "metadata": {},
   "source": [
    "------------------------------------------------------------\n",
    "## Online resources and software environment\n",
    "\n",
    "This document is hosted online as [Jupyter notebook](https://www.lix.polytechnique.fr/~will/Software/Infrared/current/Doc/GraphColoring.ipynb) with precomputed results. Download this file to view, edit and run examples in Jupyter.\n",
    "\n",
    "We recommend to install all required software using Mamba (or Conda) and PIP.\n",
    "```\n",
    "mamba create -n infrared -c conda-forge infrared jupyter jupytext matplotlib seaborn graphviz\n",
    "mamba activate infrared\n",
    "pip install graphviz\n",
    "mamba deactivate infrared\n",
    "```\n",
    "\n",
    "Start the Jupyter notebook server after activating the environment\n",
    "```\n",
    "mamba activate infrared\n",
    "jupyter notebook\n",
    "```\n",
    "The [original sources](https://gitlab.inria.fr/amibio/Infrared/-/tree/master/Doc/Examples) are part of the Infrared distribution and hosted on Gitlab (in Jupytext light Script format).\n",
    "\n",
    "------------------------------------------------------------"
   ]
  },
  {
   "cell_type": "markdown",
   "id": "247a2644",
   "metadata": {},
   "source": [
    "## The graph coloring problem\n",
    "As a toy example for the use of Infrared, we model (a small instance) of graph coloring. The graph coloring model\n",
    "defines variables for the graph nodes, whose possible values are the colors. Furthermore, we define inequality constraints for every edge, to ensure that connected nodes receive different colors in valid solutions.\n",
    "\n",
    "This model is then extended by an objective function that counts the different colors in cycles of size four.\n",
    "From the model, we create an Infrared solver to find optimal solutions. \n",
    "\n",
    "For instructional purposes, we furthermore show the dependency graph of the model and the tree decomposition used by the solver."
   ]
  },
  {
   "cell_type": "code",
   "execution_count": null,
   "id": "cce0a21a",
   "metadata": {},
   "outputs": [],
   "source": [
    "import infrared as ir\n",
    "\n",
    "# specify the graph coloring instance\n",
    "numcolors = 4 # colors 0..3\n",
    "numnodes = 9 # nodes 1..9\n",
    "edges = [(1,5),(2,3),(2,5),(2,7),(3,6),(5,6),(5,7),(5,8),(5,9),(6,8),(6,9),(7,8)]\n",
    "\n",
    "# recall that we extend the standard graph coloring problem by counting different colors in cycles\n",
    "cycles = [(2,3,5,6),(2,5,7,8),(5,6,7,8),(5,6,8,9)]"
   ]
  },
  {
   "cell_type": "markdown",
   "id": "a36fe049",
   "metadata": {},
   "source": [
    "## Modeling in Infrared\n",
    "Setup the model and construct a solver. Report the treewidth."
   ]
  },
  {
   "cell_type": "code",
   "execution_count": null,
   "id": "34040d26",
   "metadata": {},
   "outputs": [],
   "source": [
    "model = ir.Model()\n",
    "\n",
    "# Note: to keep this example simple, we add a dummy variable\n",
    "# with index 0. In this way, we can use the 1-based node indices\n",
    "# as variable indices (without the need for index transformations)\n",
    "model.add_variables(1,(0,0))\n",
    "\n",
    "# Add one variable per node\n",
    "model.add_variables(numnodes,numcolors)\n",
    "\n",
    "# define NotEquals constraints in Python\n",
    "ir.def_constraint_class('NotEquals',\n",
    "    lambda i,j: [i,j], # signature and dependencies\n",
    "    lambda x, y: x!=y)  # constraint semantics\n",
    "\n",
    "# add one inequality constraint per edge \n",
    "model.add_constraints(NotEquals(i,j) for i,j in edges)\n",
    "\n",
    "# define cardinality for sets of 4 variables\n",
    "ir.def_function_class('Card', # define \"cardinality\"\n",
    "    lambda i, j, k, l: [i,j,k,l], # signature, dependencies\n",
    "    lambda x,y,z,w: len({x,y,z,w}))  # function evaluation\n",
    "\n",
    "# add the cardinality function for every cycle\n",
    "model.add_functions([Card(i,j,k,l) for i,j,k,l in cycles], 'card')\n",
    "\n",
    "model.set_feature_weight(-1,'card') # set up in order to *minimize*\n",
    "\n",
    "solver = ir.Optimizer(model)\n",
    "print(f'Tree width: {solver.treewidth()}')"
   ]
  },
  {
   "cell_type": "markdown",
   "id": "5fb8a2ca",
   "metadata": {},
   "source": [
    "## Drawing the dependency graph of the model\n",
    "\n",
    "Please ignore the dummy node 0 - we don't suppress it to keep things simple. Otherwise, the dependency graph is identical to the input graph as specified above."
   ]
  },
  {
   "cell_type": "code",
   "execution_count": null,
   "id": "94e1a019",
   "metadata": {},
   "outputs": [],
   "source": [
    "from IPython.display import Image\n",
    "import re\n",
    "\n",
    "# Plot dependency graph\n",
    "filename = 'dependency_graph.dot'\n",
    "model.write_graph(filename, True)\n",
    "\n",
    "ir.dotfile_to_png(filename)\n",
    "filename = re.sub(r\"dot$\",\"png\",filename)\n",
    "\n",
    "Image(filename=filename,width=300)"
   ]
  },
  {
   "cell_type": "markdown",
   "id": "3c2134c3",
   "metadata": {},
   "source": [
    "## Plotting the tree decomposition\n",
    "\n",
    "This shows the tree decomposition of the dependency graph that is internally generated by the solver as basis for the efficient computation."
   ]
  },
  {
   "cell_type": "code",
   "execution_count": null,
   "id": "c872854a",
   "metadata": {},
   "outputs": [],
   "source": [
    "filename=\"treedecomp\"\n",
    "solver.plot_td(filename,'png')\n",
    "Image(filename=filename+\".png\",width=400)"
   ]
  },
  {
   "cell_type": "markdown",
   "id": "b7d5c6d7",
   "metadata": {},
   "source": [
    "## Interpreting assignents (as colorings)\n",
    "### Conversion of assignments to coloring dictionaries\n",
    "\n",
    "Note that the engine returns solutions as (variable to value) assignments. Since the interpretation of such assignments is typically problem-specific, it is left to the user. To display it, we translate the assignment into a printable dictionary (and remove the dummy variable)."
   ]
  },
  {
   "cell_type": "code",
   "execution_count": null,
   "id": "2ff4b2d2",
   "metadata": {},
   "outputs": [],
   "source": [
    "def assignment_to_coloring(a):\n",
    "        colors=[\"red\",\"cyan\",\"yellow\",\"orange\",\"magenta\",\"green\",\"blue\",\"grey\"]\n",
    "        coloring = {i:colors[v] for i,v in enumerate(a.values())}\n",
    "        del coloring[0]\n",
    "        return coloring"
   ]
  },
  {
   "cell_type": "markdown",
   "id": "373326a9",
   "metadata": {},
   "source": [
    "## Generating colorings"
   ]
  },
  {
   "cell_type": "markdown",
   "id": "abdbd63e",
   "metadata": {},
   "source": [
    "### Retreiving a best coloring"
   ]
  },
  {
   "cell_type": "code",
   "execution_count": null,
   "id": "774be2e1",
   "metadata": {},
   "outputs": [],
   "source": [
    "solver = ir.Optimizer(model)\n",
    "best_assignment = solver.optimize()\n",
    "best_coloring = assignment_to_coloring(best_assignment)\n",
    "\n",
    "print('Optimal coloring:', best_coloring)\n",
    "print('Colors in cycles:', model.eval_feature(best_assignment,'card'))"
   ]
  },
  {
   "cell_type": "markdown",
   "id": "1b046115",
   "metadata": {},
   "source": [
    "### Sampling of colorings\n",
    "\n",
    "Use the weight to control 'optimality'"
   ]
  },
  {
   "cell_type": "code",
   "execution_count": null,
   "id": "061f2efa",
   "metadata": {},
   "outputs": [],
   "source": [
    "model.set_feature_weight(0,'card') # weight 0: uniform\n",
    "solver = ir.Sampler(model)\n",
    "assignment = solver.sample()\n",
    "coloring = assignment_to_coloring(assignment)\n",
    "\n",
    "print('Sampled coloring:', coloring)\n",
    "print('Colors in cycles:', model.eval_feature(assignment,'card'))"
   ]
  },
  {
   "cell_type": "markdown",
   "id": "895c246e",
   "metadata": {},
   "source": [
    "## Plotting colorings"
   ]
  },
  {
   "cell_type": "code",
   "execution_count": null,
   "id": "e6cd5af1",
   "metadata": {},
   "outputs": [],
   "source": [
    "def plot_coloring(coloring):\n",
    "    import graphviz\n",
    "\n",
    "    G = graphviz.Graph('coloring', engine=\"fdp\")\n",
    "\n",
    "    for i in range(1,numnodes+1):\n",
    "        G.node(f'{i}', style=\"filled\", color=coloring[i])\n",
    "    for i,j in edges:\n",
    "        G.edge(f'{i}',f'{j}')\n",
    "\n",
    "    return G"
   ]
  },
  {
   "cell_type": "code",
   "execution_count": null,
   "id": "0d3aae7f",
   "metadata": {},
   "outputs": [],
   "source": [
    "print(cycles)\n",
    "plot_coloring(best_coloring)"
   ]
  },
  {
   "cell_type": "code",
   "execution_count": null,
   "id": "d540506e",
   "metadata": {},
   "outputs": [],
   "source": [
    "plot_coloring(coloring)"
   ]
  }
 ],
 "metadata": {
  "jupytext": {
   "formats": "ipynb,py:light"
  },
  "kernelspec": {
   "display_name": "Python 3 (ipykernel)",
   "language": "python",
   "name": "python3"
  },
  "language_info": {
   "codemirror_mode": {
    "name": "ipython",
    "version": 3
   },
   "file_extension": ".py",
   "mimetype": "text/x-python",
   "name": "python",
   "nbconvert_exporter": "python",
   "pygments_lexer": "ipython3",
   "version": "3.10.9"
  }
 },
 "nbformat": 4,
 "nbformat_minor": 5
}
