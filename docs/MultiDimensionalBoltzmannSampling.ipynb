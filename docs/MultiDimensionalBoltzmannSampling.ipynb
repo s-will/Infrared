{
 "cells": [
  {
   "cell_type": "markdown",
   "id": "46a7e186",
   "metadata": {},
   "source": [
    "# Multi-dimensional Boltzmann sampling"
   ]
  },
  {
   "cell_type": "markdown",
   "id": "108ae0b5",
   "metadata": {},
   "source": [
    "------------------------------------------------------------\n",
    "\n",
    "## Online resources and software environment\n",
    "\n",
    "​\n",
    "\n",
    "This document is hosted online as [Jupyter notebook](https://www.lix.polytechnique.fr/~will/Software/Infrared/current/Doc/MultiDimensionalBoltzmannSampling.ipynb) with precomputed results. Download this file to view, edit and run examples in Jupyter.\n",
    "\n",
    "​\n",
    "\n",
    "We recommend to install all required software using Mamba (or Conda) and PIP.\n",
    "\n",
    "```\n",
    "\n",
    "mamba create -n infrared -c conda-forge infrared jupyter jupytext matplotlib seaborn graphviz\n",
    "\n",
    "mamba activate infrared\n",
    "\n",
    "pip install graphviz\n",
    "\n",
    "mamba deactivate infrared\n",
    "\n",
    "```\n",
    "\n",
    "​\n",
    "\n",
    "Start the Jupyter notebook server after activating the environment\n",
    "\n",
    "```\n",
    "\n",
    "mamba activate infrared\n",
    "\n",
    "jupyter notebook\n",
    "\n",
    "```\n",
    "\n",
    "The [original sources](https://gitlab.inria.fr/amibio/Infrared/-/tree/master/Doc/Examples) are part of the Infrared distribution and hosted on Gitlab (in Jupytext light Script format).\n",
    "\n",
    "​\n",
    "\n",
    "------------------------------------------------------------"
   ]
  },
  {
   "cell_type": "markdown",
   "id": "4603fbb7",
   "metadata": {},
   "source": [
    "## Targeting dinucleotide frequencies by MDBS\n",
    "We demonstrate sampling of sequences targeting specific dinucleotide frequences and additional requirements; \n",
    "in this example, compatibility with an RNA target structure.\n",
    "\n",
    "The targeting of dinucleotide frequencies is performed using the multi-dimensional Boltzmann sampling functionality of Infrared's Sampler (aka MultiDimensionalBoltzmannSampler) class."
   ]
  },
  {
   "cell_type": "markdown",
   "id": "8f5052da",
   "metadata": {},
   "source": [
    "## Import modules + define timing function"
   ]
  },
  {
   "cell_type": "code",
   "execution_count": null,
   "id": "d4fa7cb4",
   "metadata": {},
   "outputs": [],
   "source": [
    "import infrared as ir\n",
    "import infrared.rna as rna\n",
    "from collections import Counter\n",
    "import random\n",
    "\n",
    "import time\n",
    "def report_time(f,desc=\"\"):\n",
    "    start=time.time()\n",
    "    res=f()\n",
    "    desc = \"\" if desc==\"\" else f' ({desc})'\n",
    "    print(f'Time{desc}: {time.time()-start:0.2f}s')\n",
    "    return res"
   ]
  },
  {
   "cell_type": "markdown",
   "id": "7eb571d1",
   "metadata": {},
   "source": [
    "## Preliminaries"
   ]
  },
  {
   "cell_type": "code",
   "execution_count": null,
   "id": "8654985c",
   "metadata": {},
   "outputs": [],
   "source": [
    "alphabet = \"ACGU\"\n",
    "dimers = [ x+y for x in alphabet for y in alphabet ]"
   ]
  },
  {
   "cell_type": "markdown",
   "id": "10ff4581",
   "metadata": {},
   "source": [
    "## Network function for dinucleotide counting\n",
    "\n",
    "For use in the model, define counting of dinucleotide frequencies. The generated class will be constructed by the position $i$ (to count the dimer at positions $i$, $i+1$) and the respective dimer as string (\"AA\", \"AC\", ...).\n",
    "\n",
    "Note how the dimer argument is passed from the first lambda function (`init'), which specified the construction and returns the dependency list [$i,i+1$] , to the second one (`value'), which evaluates the function given the values of variables $i$ and $i+1$."
   ]
  },
  {
   "cell_type": "code",
   "execution_count": null,
   "id": "c4c47793",
   "metadata": {},
   "outputs": [],
   "source": [
    "ir.def_function_class('DinuclFreq',\n",
    "    lambda i,dimer: [i,i+1],\n",
    "    lambda x,y,dimer: rna.values_to_seq([x,y])==dimer\n",
    ")"
   ]
  },
  {
   "cell_type": "markdown",
   "id": "9d7c2466",
   "metadata": {},
   "source": [
    "## Input instance(s)"
   ]
  },
  {
   "cell_type": "code",
   "execution_count": null,
   "id": "c5606a14",
   "metadata": {},
   "outputs": [],
   "source": [
    "#>CP000576.1:c381532-381475 Prochlorococcus marinus str. MIT 9301, complete genome\n",
    "#UUUCGUUCACCCUCAUUUGAGGGCGCAGUUCGAGUCAUACCAUGGAACGGGGGAUGGC\n",
    "seq0    = \"UUUCGUUCACCCUCAUUUGAGGGCGCAGUUCGAGUCAUACCAUGGAACGGGGGAUGGC\"\n",
    "struct0 = \"...[[[[[.(((((....)))))..........(((((.((...]]]]]))..)))))\"\n",
    "\n",
    "## Yann's example\n",
    "seq = \"CACUGUCGACUCAGUCAGUGAGUCGCGACUGACUGCAUCGCGACUACGUCAGUCGUACGAUCUAUUGUGCGAUAUCGCGCGAUAUAGCUAUGCG\"\n",
    "struct = None\n",
    "\n",
    "# SAM (RF00162)\n",
    "#>AP006840.1:c2688754-2688649 Symbiobacterium thermophilum IAM 14863 DNA, complete genome\n",
    "#GGUUCAUCGAGAGUGGCGGAGGGACUGGCCCCAUGAUGCCACGGCAACCUCUCCCGCGGGGAGAACGGUGCCAAAUCCAGCGGACACUCGGUCCGAGAGAUGAAGC\n",
    "seq    = \"GGUUCAUCGAGAGUGGCGGAGGGACUGGCCCCAUGAUGCCACGGCAACCUCUCCCGCGGGGAGAACGGUGCCAAAUCCAGCGGACACUCGGUCCGAGAGAUGAAGC\"\n",
    "struct = \"(.((((((....((((((..(((.[[[[.)))....))))))((((.((((((((...))))))..))))))....]]]](((((.....)))))...)))))).)\"\n",
    "print(\"Sequence length\",len(seq))"
   ]
  },
  {
   "cell_type": "markdown",
   "id": "18a638aa",
   "metadata": {},
   "source": [
    "Obtain target frequencies from the sequence; print the counts"
   ]
  },
  {
   "cell_type": "code",
   "execution_count": null,
   "id": "2cf6078b",
   "metadata": {},
   "outputs": [],
   "source": [
    "tgtfreqs = Counter(seq[i]+seq[i+1] for i in range(len(seq)-1))\n",
    "print(tgtfreqs)"
   ]
  },
  {
   "cell_type": "markdown",
   "id": "add5dd42",
   "metadata": {},
   "source": [
    "## Feature network model for the design task"
   ]
  },
  {
   "cell_type": "markdown",
   "id": "af11af42",
   "metadata": {},
   "source": [
    "## Generate model\n",
    "\n",
    "The model consists of\n",
    "\n",
    "* $n$ (sequence length) many variables, each with domains 0..3 (enconding the nucleotides);\n",
    "\n",
    "* constraints to guarantee compatibility with the given structure;\n",
    "\n",
    "* functions counting the different dinucleotides; defining one feature per dimer."
   ]
  },
  {
   "cell_type": "code",
   "execution_count": null,
   "id": "55439cfb",
   "metadata": {},
   "outputs": [],
   "source": [
    "n = len(seq)\n",
    "model = ir.Model(n,4)\n",
    "\n",
    "# complementarity constraints\n",
    "if struct is not None:\n",
    "    model.add_constraints(rna.BPComp(*bp) for bp in rna.parse(struct))\n",
    "\n",
    "# dinucleotide frequency functions\n",
    "for dimer in dimers:\n",
    "    model.add_functions([DinuclFreq(i,dimer) for i in range(n-1)],dimer)"
   ]
  },
  {
   "cell_type": "markdown",
   "id": "e0d604fb",
   "metadata": {},
   "source": [
    "## Draw samples (without targeting)\n",
    "\n",
    "This is mainly done, to check run-times for generating a number of samples (as is done by the multi-dimensional Boltzmann sampling strategy in every iteration). As well report the treewidth of the network (as determined by the sampler)."
   ]
  },
  {
   "cell_type": "code",
   "execution_count": null,
   "id": "1d85ec1b",
   "metadata": {},
   "outputs": [],
   "source": [
    "nsamples=100\n",
    "sampler = report_time(lambda:ir.Sampler(model,lazy=False),'Construction')\n",
    "print(\"Treewidth:\",sampler.treewidth())\n",
    "_ = report_time(lambda:[rna.ass_to_seq(sampler.sample()) for _ in range(n)],'Sampling')"
   ]
  },
  {
   "cell_type": "markdown",
   "id": "e48185df",
   "metadata": {},
   "source": [
    "## Draw targeted samples"
   ]
  },
  {
   "cell_type": "markdown",
   "id": "63f36e92",
   "metadata": {},
   "source": [
    "Generate sampler, set parameters for the multi-dimensional Boltzmann sampling strategy and set the targets."
   ]
  },
  {
   "cell_type": "code",
   "execution_count": null,
   "id": "7391b752",
   "metadata": {},
   "outputs": [],
   "source": [
    "sampler = ir.Sampler(model,lazy=True)\n",
    "sampler.samples_per_round = 200\n",
    "sampler.tweak_factor = 0.05\n",
    "\n",
    "tolerance = 2\n",
    "\n",
    "for dimer in dimers:\n",
    "    sampler.set_target(tgtfreqs[dimer],tolerance=tolerance,featureid=dimer)"
   ]
  },
  {
   "cell_type": "code",
   "execution_count": null,
   "id": "e6615dab",
   "metadata": {},
   "outputs": [],
   "source": [
    "## collect some statistics\n",
    "def callback(total,accepted,fstats):\n",
    "    rmsd = sampler.rmsd(fstats.means(),sampler.model.features)\n",
    "    the_statistics.append({'samples':total, 'rmsd':rmsd, 'accepted':accepted})\n",
    "    #print(fstats.report(),rmsd)\n",
    "    \n",
    "sampler.callback = callback"
   ]
  },
  {
   "cell_type": "markdown",
   "id": "62c5a23c",
   "metadata": {},
   "source": [
    "Actually, draw the targeted samples (and stop run time.)"
   ]
  },
  {
   "cell_type": "code",
   "execution_count": null,
   "id": "99dacc0c",
   "metadata": {},
   "outputs": [],
   "source": [
    "sampler.verbose = False\n",
    "\n",
    "the_statistics = list()\n",
    "the_samples = list() ## store the produced samples\n",
    "\n",
    "print_samples = None\n",
    "\n",
    "stats = ir.FeatureStatistics()\n",
    "def draw_samples(n):\n",
    "    for i in range(n):\n",
    "        sample = sampler.targeted_sample()\n",
    "        feature_values = {dimer:model.eval_feature(sample,dimer) for dimer in dimers}\n",
    "        stats.record_features(model.features,feature_values)\n",
    "\n",
    "        if print_samples:\n",
    "            line = rna.ass_to_seq(sample)\n",
    "            for dimer,freq in feature_values.items(): line += f\" {dimer}:{freq}\"\n",
    "            if type(print_samples)!=int or (i+1)%print_samples==0: \n",
    "                print(i+1, line)\n",
    "        the_samples.append(sample)\n",
    "        \n",
    "report_time(lambda:draw_samples(1000))"
   ]
  },
  {
   "cell_type": "markdown",
   "id": "5ab2243f",
   "metadata": {},
   "source": [
    "Finally, report some statistics and learned weights"
   ]
  },
  {
   "cell_type": "code",
   "execution_count": null,
   "id": "8a1e4cc9",
   "metadata": {},
   "outputs": [],
   "source": [
    "print(\"Targets\",[f\"{dimer}:{tgtfreqs[dimer]}\" for dimer in dimers])\n",
    "print(\"Stats  \",stats.report())\n",
    "print(\"Weights\",{k:f'{f.weight:.3f}' for k,f in sampler.model.features.items()})    "
   ]
  },
  {
   "cell_type": "markdown",
   "id": "6d89394f",
   "metadata": {},
   "source": [
    "## Plots sampling effectivity "
   ]
  },
  {
   "cell_type": "code",
   "execution_count": null,
   "id": "68eb1030",
   "metadata": {},
   "outputs": [],
   "source": [
    "import matplotlib.pyplot as plt\n",
    "import seaborn as sns\n",
    "\n",
    "fig, (ax1, ax2) = plt.subplots(2, 1, figsize=(2.5,5))\n",
    "\n",
    "sns.scatterplot(x=[row['samples'] for row in the_statistics], y=[100*row['accepted']/row['samples'] for row in the_statistics],ax=ax1)\n",
    "ax1.set_ylabel(\"Accepted percentage\")\n",
    "#sns.scatterplot(x=[row['samples'] for row in the_statistics], y=[row['accepted'] for row in the_statistics],ax=ax1)\n",
    "#ax1.set_ylabel(\"Accepted samples\")\n",
    "sns.scatterplot(x=[row['samples'] for row in the_statistics], y=[row['rmsd'] for row in the_statistics],ax=ax2)\n",
    "ax2.set_xlabel(\"Total samples\")\n",
    "ax2.set_ylabel(\"RMSD\")\n",
    "fig.tight_layout()\n",
    "plt.savefig('mdbs_run.pdf')\n",
    "plt.show()"
   ]
  },
  {
   "cell_type": "markdown",
   "id": "2ba97dff",
   "metadata": {},
   "source": [
    "## Distribution plots"
   ]
  },
  {
   "cell_type": "code",
   "execution_count": null,
   "id": "0cac4d50",
   "metadata": {},
   "outputs": [],
   "source": [
    "import math\n",
    "def distribution_heatmaps(model,n,feature_list,fig,*,limits,labels=None,targets=None,ax=None,cmap=\"Blues\"):\n",
    "    sampler = ir.Sampler(model)\n",
    "    samples = [sampler.sample() for _ in range(n)]\n",
    "    \n",
    "    def eval_features(sample):\n",
    "        return {f:model.eval_feature(sample,f) for f in feature_list}\n",
    "    \n",
    "    features = [eval_features(sample) for sample in samples]\n",
    "\n",
    "    if labels is None:\n",
    "        labels = feature_list\n",
    "    \n",
    "    k = len(feature_list)\n",
    "    \n",
    "    the_plots = [(i,j) for i in range(1,k) for j in range(0,i)]\n",
    "    nplots = len(the_plots)\n",
    "    dimx = int(math.sqrt(nplots))\n",
    "    dimy = nplots // dimx\n",
    "    \n",
    "    the_cells = [(i,j) for i in range(0,dimx) for j in range(0,dimy)]\n",
    "    \n",
    "    if ax is None:\n",
    "        ax = fig.subplots(dimx,dimy+1,\n",
    "                          squeeze=False,\n",
    "                          width_ratios=[1]*dimy+[1]\n",
    "                         )\n",
    "            #sharex=True, sharey=True)\n",
    "            \n",
    "    for x in range(dimx):\n",
    "        for y in range(dimy+1):\n",
    "            if (x,y) not in the_cells[:nplots]:\n",
    "                ax[x][y].axis(\"off\")\n",
    "\n",
    "    for idx,(i,j) in enumerate(the_plots):\n",
    "\n",
    "        fi = feature_list[i]\n",
    "        fj = feature_list[j]\n",
    "        \n",
    "        cax = ax[the_cells[idx][0]][the_cells[idx][1]]\n",
    "        \n",
    "        sns.kdeplot(x=[f[fj] for f in features],y=[f[fi] for f in features], ax = cax,\n",
    "                cmap=cmap, levels=8, thresh=0.2, cbar = False, fill=True)\n",
    "        if targets:\n",
    "            cax.axhline(y = targets[fi], color = 'red', linestyle = 'dashed')\n",
    "            cax.axvline(x = targets[fj], color = 'red', linestyle = 'dashed')\n",
    "\n",
    "        cax.set_ylabel(labels[i])\n",
    "        cax.set_xlabel(labels[j])\n",
    "\n",
    "        cax.set_ylim(limits[i])\n",
    "        cax.set_xlim(limits[j])\n",
    "\n",
    "    plt.colorbar(plt.cm.ScalarMappable(cmap=cmap),ax=ax[0][dimy],\n",
    "        pad=0.4,\n",
    "        location=\"left\",\n",
    "        boundaries=[0.2+i/10 for i in range(9)],\n",
    "        values=[i/8 for i in range(1,9)])\n",
    "    \n",
    "    return ax"
   ]
  },
  {
   "cell_type": "code",
   "execution_count": null,
   "id": "e7863861",
   "metadata": {},
   "outputs": [],
   "source": [
    "sel_dimers = dimers #[\"CC\",\"GU\", \"GG\", \"UU\"]\n",
    "\n",
    "limits=[(-0.5,18)]*len(sel_dimers)\n",
    "\n",
    "n = 500\n",
    "\n",
    "k=len(sel_dimers)\n",
    "\n",
    "#fig = plt.figure(figsize=(10,5))\n",
    "fig = plt.figure(figsize=(20,16))\n",
    "\n",
    "ax = distribution_heatmaps(model,n,sel_dimers,fig,limits=limits,cmap=\"Blues\")\n",
    "distribution_heatmaps(sampler.model,n,sel_dimers,fig,limits=limits,\n",
    "                      targets=tgtfreqs,\n",
    "                      ax=ax,cmap=\"Reds\")\n",
    "fig.tight_layout()\n",
    "plt.savefig('mdbs_heatmaps.pdf')\n",
    "plt.show()"
   ]
  }
 ],
 "metadata": {
  "jupytext": {
   "formats": "ipynb,py:light"
  },
  "kernelspec": {
   "display_name": "Python 3 (ipykernel)",
   "language": "python",
   "name": "python3"
  },
  "language_info": {
   "codemirror_mode": {
    "name": "ipython",
    "version": 3
   },
   "file_extension": ".py",
   "mimetype": "text/x-python",
   "name": "python",
   "nbconvert_exporter": "python",
   "pygments_lexer": "ipython3",
   "version": "3.10.9"
  }
 },
 "nbformat": 4,
 "nbformat_minor": 5
}
