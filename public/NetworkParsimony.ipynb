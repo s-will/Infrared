{
 "cells": [
  {
   "cell_type": "markdown",
   "id": "fcb90f1f",
   "metadata": {},
   "source": [
    "# Network parsimony"
   ]
  },
  {
   "cell_type": "markdown",
   "id": "e067d1cd",
   "metadata": {},
   "source": [
    "------------------------------------------------------------\n",
    "\n",
    "## Online resources and software environment\n",
    "\n",
    "​\n",
    "\n",
    "This document is hosted online as [Jupyter notebook](https://www.lix.polytechnique.fr/~will/Software/Infrared/current/Doc/NetworkParsimony.ipynb) with precomputed results. Download this file to view, edit and run examples in Jupyter.\n",
    "\n",
    "​\n",
    "\n",
    "We recommend to install all required software using Mamba (or Conda) and PIP.\n",
    "\n",
    "```\n",
    "\n",
    "mamba create -n infrared -c conda-forge infrared jupyter jupytext matplotlib seaborn graphviz\n",
    "\n",
    "mamba activate infrared\n",
    "\n",
    "pip install graphviz\n",
    "\n",
    "mamba deactivate infrared\n",
    "\n",
    "```\n",
    "\n",
    "​\n",
    "\n",
    "Start the Jupyter notebook server after activating the environment\n",
    "\n",
    "```\n",
    "\n",
    "mamba activate infrared\n",
    "\n",
    "jupyter notebook\n",
    "\n",
    "```\n",
    "\n",
    "The [original sources](https://gitlab.inria.fr/amibio/Infrared/-/tree/master/Doc/Examples) are part of the Infrared distribution and hosted on Gitlab (in Jupytext light Script format).\n",
    "\n",
    "​\n",
    "\n",
    "------------------------------------------------------------"
   ]
  },
  {
   "cell_type": "markdown",
   "id": "597ea531",
   "metadata": {},
   "source": [
    "## The problem(s) of network parsimony\n",
    "\n",
    "The small parsimony problem is typically defined over phylogenetic trees. First assuming that traits are inherited independently of each other, we consider the problem for a single trait with possible characters in set $C$. The input of the small tree parsimony problem\n",
    "is a tree and a labeling of the leaves by characters in $C$. The \n",
    "problem asks for a labeling of all tree nodes that minimizes the number of label differences (\"mutations\") over all tree edges.\n",
    "\n",
    "Network parsimony generalizes the notion of parsimony from trees to networks.\n",
    "\n",
    "We consider three types of small network parsimony problems the literature:\n",
    "\n",
    "* hardwired parsimony\n",
    "* softwired parsimony\n",
    "* parental parsimony\n",
    "\n",
    "In all of these problems one is given a rooted network, i.e. a finite directed acyclic graph (DAG) $G=(V,E)$ with one distinct root node $v_r$ together with a labeling of the leaves (or generally a partial labeling $\\phi: V\\rightarrow 2^C$. The task is to find a labeling of the nodes that minimizes a specific parsimony criterion.\n",
    "\n",
    "In our considerations we follow the popular restriction to networks with indegree of at most two.\n",
    "\n",
    "## Hardwired parsimony\n",
    "\n",
    "Given a rooted network and partial node labeling, one minimizes the number of mutations over all directed edges of the network, i.e.\n",
    "\n",
    "$PS_{hardwired} = \\min_\\psi \\sum_{(u,v)\\in E} \\psi(u)\\neq\\psi(v)$\n",
    "\n",
    "where $\\psi: V\\rightarrow C$ s.t. $\\forall v\\in V: \\psi(v)\\in\\phi(v)$.\n",
    "\n",
    "This is a formal extension of tree parsimony to networks; one accounts for mutations along all edges.\n",
    "\n",
    "## Softwired parsimony\n",
    "\n",
    "Given a rooted network and partial node labeling, one minimizes the number of mutations over all directed edges of a directed spanning tree of the network (which effectively selects a single parent for every reticulation node), i.e.\n",
    "\n",
    "$PS_{softwired} = \\min_{\\psi, T} \\sum_{(u,v)\\in E_T} \\psi(u)\\neq\\psi(v),$\n",
    "\n",
    "where $\\psi: V\\rightarrow C$ s.t. $\\forall v\\in V: \\psi(v)\\in\\phi(v)$.\n",
    "\n",
    "The idea of this model is that the network specifies the set of potential phylogenetic trees over which one solves the small tree parsimony problem.\n",
    "\n",
    "## Parental parsimony\n",
    "\n",
    "This model considers the inheritance of allels in a polyploid setting. Characters can be mutated in children and/or collected from the ancestors (by allopoloploidy). (We present the problem from the lineage perspective!)\n",
    "Consequently, nodes are labeled by sets of characters.\n",
    "\n",
    "$PS_{parental} = \\min_{f} \\sum_{v\\in V} \\textrm{cost}_f(v),$\n",
    "\n",
    "where\n",
    " * $f: V\\rightarrow 2^C$\n",
    " * $f(v_r) = 1$\n",
    " * $|f(v)| \\leq \\sum_{u\\text{ parent of }v} |f(u)|$ \n",
    " * $\\textrm{cost}_f(v) = |f(v) \\setminus \n",
    "     \\bigcup_{u\\textrm{ parent of }v} f(u)|$"
   ]
  },
  {
   "cell_type": "code",
   "execution_count": null,
   "id": "c90a8c6c",
   "metadata": {},
   "outputs": [],
   "source": [
    "import infrared as ir\n",
    "from collections import defaultdict\n",
    "import random"
   ]
  },
  {
   "cell_type": "code",
   "execution_count": null,
   "id": "700927f5",
   "metadata": {},
   "outputs": [],
   "source": [
    "class DAG:\n",
    "    \"\"\"A simple class reprenting a rooted DAG\n",
    "    \"\"\"\n",
    "    \n",
    "    def __init__(self, adjacency):\n",
    "        adjacency = {k:(v if type(v)==list else [v]) for k,v in adjacency.items()}\n",
    "    \n",
    "        nodes = set(adjacency.keys())\n",
    "        edges = []\n",
    "        for x in adjacency:\n",
    "            nodes.update(adjacency[x])\n",
    "            edges.extend((x,y) for y in adjacency[x])\n",
    "            \n",
    "        self._nodes = nodes\n",
    "        self._edges = edges\n",
    "        \n",
    "        # precompute parents, children, root\n",
    "        # and perform some checks for 'proper' DAG\n",
    "        self._parents=defaultdict(list)\n",
    "        for u,v in self._edges:\n",
    "            self._parents[v].append(u)\n",
    "    \n",
    "        self._children=defaultdict(list)\n",
    "        for u,v in self._edges:\n",
    "            self._children[u].append(v)\n",
    "    \n",
    "        # find root\n",
    "        self._root = None\n",
    "        for v in self.nodes:\n",
    "            if self.parents(v)==[]:\n",
    "                assert(self._root==None)\n",
    "                self._root = v\n",
    "        assert(self._root!=None)\n",
    "\n",
    "    \n",
    "        assert(self._parents[self._root]==[])\n",
    "        for node in self._nodes:\n",
    "            if node==self._root: continue\n",
    "            assert(self._parents[node]!=[])\n",
    "    \n",
    "    \n",
    "    def parents(self, node):\n",
    "        return self._parents[node]\n",
    "    \n",
    "    def children(self, node):\n",
    "        return self._children[node]\n",
    "        \n",
    "    @property\n",
    "    def root(self):\n",
    "        return self._root\n",
    "        \n",
    "    @property\n",
    "    def edges(self):\n",
    "        return self._edges\n",
    "\n",
    "    @property\n",
    "    def nodes(self):\n",
    "        return self._nodes\n",
    "\n",
    "    @property\n",
    "    def reticulation_nodes(self):\n",
    "        return [v for v in self._nodes if len(self.parents(v))>1]\n",
    "    \n",
    "    @property\n",
    "    def nonreticulation_nodes(self):\n",
    "        return [v for v in self._nodes if len(self.parents(v))==1]\n",
    "\n",
    "    @property\n",
    "    def leaves(self):\n",
    "        return [v for v in self._nodes if self.children(v)==[]]\n",
    "    \n",
    "    def show(self, labels=None, shownames=False):\n",
    "        import graphviz\n",
    "        \n",
    "        G=graphviz.Digraph(engine=\"dot\",\n",
    "            graph_attr=dict(),\n",
    "            node_attr=dict(fontsize=\"22pt\", fontname=\"Helvetica\",\n",
    "                           penwidth=\"3.0\", fontcolor=\"black\",\n",
    "                           shape=\"rectangle\", style=\"rounded\",\n",
    "                           height=\"0.4\", margin=\"0.03\"),\n",
    "            edge_attr=dict(color=\"gray30\", penwidth=\"1.5\", arrowsize=\"0.8\"))\n",
    "        \n",
    "        for v in self.nodes:\n",
    "            try:\n",
    "                label = labels[v]\n",
    "                assert(label!=None)\n",
    "            except:\n",
    "                label = \"\"\n",
    "            if type(label)==set:\n",
    "                label='{'+','.join(sorted(map(str,label)))+'}'\n",
    "            if shownames:\n",
    "                label = f\"{v}:{label}\"\n",
    "                \n",
    "            color = \"gray30\"\n",
    "            if len(self._parents[v])>1: color=\"red\"\n",
    "            if len(self._children[v])==0: color=\"blue\"\n",
    "        \n",
    "            G.node(str(v), label=str(label), color=color)\n",
    "        for v,u in self.edges:\n",
    "            G.edge(str(v),str(u))\n",
    "        return G\n",
    "    \n",
    "    def print(self, labels):\n",
    "        for v in self.nodes:\n",
    "            print(f'{v}\\'{labels[v]}\\' -> {self.children(v)}')"
   ]
  },
  {
   "cell_type": "markdown",
   "id": "ad5e83d9",
   "metadata": {},
   "source": [
    "## An example input instance"
   ]
  },
  {
   "cell_type": "code",
   "execution_count": null,
   "id": "e11f3b47",
   "metadata": {},
   "outputs": [],
   "source": [
    "characters = [\"A\",\"C\",\"G\",\"T\"]\n",
    "def a_to_cs(assignment):\n",
    "    \"\"\"Assignement to characters\"\"\"\n",
    "    return [characters[x] for x in assignment.values()]\n",
    "\n",
    "## note: for building the model from our graph definition, we require that nodes are consecutive integers 0,1,2,3...\n",
    "\n",
    "network = DAG({0:[1,2], 1:[3,4], 2:[4,5], 4:6, 3:[7,8], 6:[9,10], 5:[11,12]})\n",
    "\n",
    "leaves = ['A','T','T','C','G','G']\n",
    "leaves = {k:v for k,v in zip(network.leaves,leaves)}"
   ]
  },
  {
   "cell_type": "code",
   "execution_count": null,
   "id": "b6f665a7",
   "metadata": {},
   "outputs": [],
   "source": [
    "dot = network.show(leaves)\n",
    "dot.render('input-network')\n",
    "dot"
   ]
  },
  {
   "cell_type": "markdown",
   "id": "5310726c",
   "metadata": {},
   "source": [
    "## Model hardwired parsimony"
   ]
  },
  {
   "cell_type": "markdown",
   "id": "cda8c106",
   "metadata": {},
   "source": [
    "### Define a hamming distance function between nodes "
   ]
  },
  {
   "cell_type": "code",
   "execution_count": null,
   "id": "03fb6bfc",
   "metadata": {},
   "outputs": [],
   "source": [
    "ir.def_function_class(\"Distance\",\n",
    "    lambda u,v: [u,v],\n",
    "    lambda psi_u,psi_v: psi_u != psi_v\n",
    "    )"
   ]
  },
  {
   "cell_type": "markdown",
   "id": "d22908c2",
   "metadata": {},
   "source": [
    "### Construct the model"
   ]
  },
  {
   "cell_type": "code",
   "execution_count": null,
   "id": "be22a1c6",
   "metadata": {},
   "outputs": [],
   "source": [
    "model = ir.Model()\n",
    "\n",
    "model.add_variables(len(network.nodes), len(characters))\n",
    "model.add_functions([Distance(u,v) for u,v in network.edges],\n",
    "                   'score')\n",
    "\n",
    "model.set_feature_weight(-1, 'score') # -1, since we are minimizing\n",
    "\n",
    "# constrain leaves\n",
    "for k,v in leaves.items():\n",
    "    val = characters.index(v)\n",
    "    model.restrict_domains(k, (val,val))"
   ]
  },
  {
   "cell_type": "markdown",
   "id": "2d0f76c1",
   "metadata": {},
   "source": [
    "### Run optimization"
   ]
  },
  {
   "cell_type": "code",
   "execution_count": null,
   "id": "68b38fd3",
   "metadata": {},
   "outputs": [],
   "source": [
    "optimizer = ir.Optimizer(model)\n",
    "\n",
    "best_score = -optimizer.evaluate()\n",
    "best = optimizer.optimize()\n",
    "\n",
    "print(f'Score: {best_score}')\n",
    "\n",
    "dot = network.show(a_to_cs(best))\n",
    "dot.render(\"hardwired-network\",view=False)\n",
    "dot"
   ]
  },
  {
   "cell_type": "markdown",
   "id": "ac27bbac",
   "metadata": {},
   "source": [
    "## Model softwired parsimony with additional state (effectively keeps tree width!)"
   ]
  },
  {
   "cell_type": "markdown",
   "id": "d06485f1",
   "metadata": {},
   "source": [
    "### Define hamming distance for reticualtions"
   ]
  },
  {
   "cell_type": "code",
   "execution_count": null,
   "id": "1c64cd92",
   "metadata": {},
   "outputs": [],
   "source": [
    "ir.def_function_class(\"ReticulationDistance\",\n",
    "    lambda u,v,x,y: [u, v, x],  # u is the parent!, x is the selector variable, boolean y distinguishs between parents\n",
    "    lambda psi_u, psi_v, valx, y: (psi_u != psi_v) and valx==y\n",
    "    )"
   ]
  },
  {
   "cell_type": "markdown",
   "id": "6633e207",
   "metadata": {},
   "source": [
    "### Construct model"
   ]
  },
  {
   "cell_type": "code",
   "execution_count": null,
   "id": "e6018c45",
   "metadata": {},
   "outputs": [],
   "source": [
    "model = ir.Model()\n",
    "\n",
    "n=len(network.nodes)\n",
    "\n",
    "model.add_variables(n, len(characters))\n",
    "model.add_functions([Distance(network.parents(v)[0],v)\n",
    "                     for v in network.nonreticulation_nodes],\n",
    "                    'score')\n",
    "\n",
    "r = len(network.reticulation_nodes)\n",
    "# add boolean selector variables (one for each reticulation nodes); indices n+1,...,n+r\n",
    "model.add_variables(r,2)\n",
    "\n",
    "\n",
    "for parent in range(2):\n",
    "    model.add_functions([ReticulationDistance(network.parents(v)[parent],v,n+i,parent)\n",
    "                         for i,v in enumerate(network.reticulation_nodes)],\n",
    "                        'score')\n",
    "\n",
    "\n",
    "model.set_feature_weight(-1, 'score')\n",
    "\n",
    "# constrain leaves\n",
    "for k,v in leaves.items():\n",
    "    val = characters.index(v)\n",
    "    model.restrict_domains(k, (val,val))"
   ]
  },
  {
   "cell_type": "markdown",
   "id": "d8c61071",
   "metadata": {},
   "source": [
    "### Run optimization"
   ]
  },
  {
   "cell_type": "code",
   "execution_count": null,
   "id": "9743fa17",
   "metadata": {},
   "outputs": [],
   "source": [
    "## attention: currently, the default tree demposer of infrared might not yield the optimal result, since we added\n",
    "## state variables. Here, we refrain from correcting this to keep things simple. Future versions of Infrared\n",
    "## should address this properly.\n",
    "\n",
    "optimizer = ir.Optimizer(model)\n",
    "\n",
    "best_score = -optimizer.evaluate()\n",
    "best = optimizer.optimize()\n",
    "\n",
    "print(f'Score: {best_score}')\n",
    "\n",
    "dot = network.show(a_to_cs(best))\n",
    "dot.render(\"softwired-network\",view=False)\n",
    "dot"
   ]
  },
  {
   "cell_type": "markdown",
   "id": "f6bf0467",
   "metadata": {},
   "source": [
    "## Model softwired parsimony with ternary constraint"
   ]
  },
  {
   "cell_type": "markdown",
   "id": "9b5b442b",
   "metadata": {},
   "source": [
    "### Define hamming distance for reticualtions"
   ]
  },
  {
   "cell_type": "code",
   "execution_count": null,
   "id": "96ee5ec8",
   "metadata": {},
   "outputs": [],
   "source": [
    "ir.def_function_class(\"ReticulationDistance\",\n",
    "    lambda u0,u1,v: [u0, u1, v],\n",
    "    lambda psi_u0,psi_u1,psi_v: min(psi_u0 != psi_v,psi_u1 != psi_v)\n",
    "    )"
   ]
  },
  {
   "cell_type": "markdown",
   "id": "875b7563",
   "metadata": {},
   "source": [
    "### Construct model"
   ]
  },
  {
   "cell_type": "code",
   "execution_count": null,
   "id": "41e018ee",
   "metadata": {},
   "outputs": [],
   "source": [
    "model = ir.Model()\n",
    "\n",
    "model.add_variables(len(network.nodes), len(characters))\n",
    "model.add_functions([Distance(network.parents(v)[0],v)\n",
    "                     for v in network.nonreticulation_nodes],\n",
    "                    'score')\n",
    "\n",
    "model.add_functions([ReticulationDistance(network.parents(v)[0],network.parents(v)[1],v)\n",
    "                     for v in network.reticulation_nodes],\n",
    "                    'score')\n",
    "\n",
    "model.set_feature_weight(-1, 'score')\n",
    "\n",
    "# constrain leaves\n",
    "for k,v in leaves.items():\n",
    "    val = characters.index(v)\n",
    "    model.restrict_domains(k, (val,val))\n"
   ]
  },
  {
   "cell_type": "markdown",
   "id": "d686f433",
   "metadata": {},
   "source": [
    "### Run optimization"
   ]
  },
  {
   "cell_type": "code",
   "execution_count": null,
   "id": "34e9bab0",
   "metadata": {},
   "outputs": [],
   "source": [
    "optimizer = ir.Optimizer(model)\n",
    "\n",
    "best_score = -optimizer.evaluate()\n",
    "best = optimizer.optimize()\n",
    "\n",
    "print(f'Score: {best_score}')\n",
    "network.show(a_to_cs(best))"
   ]
  },
  {
   "cell_type": "markdown",
   "id": "46ec2b56",
   "metadata": {},
   "source": [
    "## Model parental parsimony"
   ]
  },
  {
   "cell_type": "markdown",
   "id": "fbbf8c2e",
   "metadata": {},
   "source": [
    "### Model character sets as integer values"
   ]
  },
  {
   "cell_type": "code",
   "execution_count": null,
   "id": "3e22c486",
   "metadata": {},
   "outputs": [],
   "source": [
    "def cs2v(cset):\n",
    "    val=0\n",
    "    for i,c in enumerate(characters):\n",
    "        if c in cset:\n",
    "            val += 2**i\n",
    "    return val\n",
    "    \n",
    "def v2cs(val):\n",
    "    x=set()\n",
    "    for c in characters:\n",
    "        if val & 1:\n",
    "            x.add(c)\n",
    "        val = val >> 1\n",
    "    return x\n",
    "\n",
    "def a_to_csets(assignment):\n",
    "    \"\"\"Assignment to characters sets\"\"\"\n",
    "    return [v2cs(val) for val in assignment.values()]"
   ]
  },
  {
   "cell_type": "markdown",
   "id": "bde6f66d",
   "metadata": {},
   "source": [
    "### Define distances on set labels"
   ]
  },
  {
   "cell_type": "code",
   "execution_count": null,
   "id": "63d9320f",
   "metadata": {},
   "outputs": [],
   "source": [
    "ir.def_function_class(\"SetDistance\",\n",
    "    lambda u,v: [u, v],\n",
    "    lambda f_u, f_v: len(v2cs(f_v)-v2cs(f_u)))\n",
    "ir.def_function_class(\"ReticulationSetDistance\",\n",
    "    lambda u0, u1, v: [u0, u1, v],\n",
    "    lambda f_u0, f_u1, f_v: len(v2cs(f_v)-v2cs(f_u0).union(v2cs(f_u1))))"
   ]
  },
  {
   "cell_type": "markdown",
   "id": "e5b14c60",
   "metadata": {},
   "source": [
    "### Define constraint types"
   ]
  },
  {
   "cell_type": "code",
   "execution_count": null,
   "id": "64934097",
   "metadata": {},
   "outputs": [],
   "source": [
    "ir.def_constraint_class('SetSize',\n",
    "    lambda v,size: [v],\n",
    "    lambda f_v, size: len(v2cs(f_v))==size)\n",
    "\n",
    "ir.def_constraint_class('SetSizeRel',\n",
    "    lambda u,v: [u, v],\n",
    "    lambda f_u, f_v: len(v2cs(f_v)) <= len(v2cs(f_u)))\n",
    "\n",
    "ir.def_constraint_class('ReticulationSetSizeRel',\n",
    "    lambda u0, u1, v: [u0, u1, v],\n",
    "    lambda f_u0, f_u1, f_v: len(v2cs(f_v)) <= len(v2cs(f_u0).union(v2cs(f_u1))))"
   ]
  },
  {
   "cell_type": "markdown",
   "id": "ce5eaa78",
   "metadata": {},
   "source": [
    "### Construct model"
   ]
  },
  {
   "cell_type": "code",
   "execution_count": null,
   "id": "da54740f",
   "metadata": {},
   "outputs": [],
   "source": [
    "model = ir.Model()\n",
    "\n",
    "model.add_variables(len(network.nodes), 2**len(characters))\n",
    "\n",
    "model.add_constraints(SetSize(network.root,1))\n",
    "\n",
    "model.add_constraints(SetSizeRel(network.parents(v)[0],v)\n",
    "    for v in network.nonreticulation_nodes)\n",
    "\n",
    "model.add_constraints(ReticulationSetSizeRel(network.parents(v)[0],network.parents(v)[1],v)\n",
    "    for v in network.reticulation_nodes)\n",
    "\n",
    "model.add_functions([SetDistance(network.parents(v)[0],v)\n",
    "                     for v in network.nonreticulation_nodes],\n",
    "                    'score')\n",
    "\n",
    "model.add_functions([ReticulationSetDistance(network.parents(v)[0],network.parents(v)[1],v)\n",
    "                     for v in network.reticulation_nodes],\n",
    "                    'score')\n",
    "\n",
    "model.set_feature_weight(-1, 'score')\n",
    "\n",
    "# constrain leaves\n",
    "for k,v in leaves.items():\n",
    "    val = cs2v(v)\n",
    "    model.restrict_domains(k, (val,val))\n"
   ]
  },
  {
   "cell_type": "markdown",
   "id": "04f89c70",
   "metadata": {},
   "source": [
    "### Run optimization"
   ]
  },
  {
   "cell_type": "code",
   "execution_count": null,
   "id": "6178816b",
   "metadata": {},
   "outputs": [],
   "source": [
    "optimizer = ir.Optimizer(model)\n",
    "\n",
    "best = optimizer.optimize()\n",
    "best_score = -optimizer.evaluate()\n",
    "\n",
    "print(f'Score: {best_score}')\n",
    "dot = network.show(a_to_csets(best))\n",
    "dot.render(\"parental-network\",view=False)\n",
    "dot"
   ]
  },
  {
   "cell_type": "markdown",
   "id": "e0d5853b",
   "metadata": {},
   "source": [
    "# APPENDIX\n",
    "\n",
    "## Grid networks\n",
    "\n",
    "Construct grid networks as a simple family of networks that allow us to enforce high tree width for decomposition."
   ]
  },
  {
   "cell_type": "code",
   "execution_count": null,
   "id": "2219dcb3",
   "metadata": {},
   "outputs": [],
   "source": [
    "def grid(n):\n",
    "    adj = defaultdict(list)\n",
    "    offset=0\n",
    "    for i in range(n-1):\n",
    "        for j in range(offset,offset+i+1):\n",
    "            adj[j]=[j+i+1,j+i+2]\n",
    "        offset+=i+1\n",
    "\n",
    "    offset0 = offset #first 'parent' in last row \n",
    "    offset+=n # first node in constructed row\n",
    "    for i in reversed(range(n-1)):\n",
    "        adj[offset0].append(offset)\n",
    "        for j in range(1,i+2):\n",
    "            adj[offset0+j-1].append(offset+j)\n",
    "            adj[offset0+j].append(offset+j)\n",
    "        adj[offset0+i+1].append(offset+i+2)\n",
    "        offset0 = offset+1\n",
    "        offset+=i+3\n",
    "    \n",
    "    return adj"
   ]
  },
  {
   "cell_type": "code",
   "execution_count": null,
   "id": "42e28edc",
   "metadata": {},
   "outputs": [],
   "source": [
    "network=DAG(grid(4))\n",
    "leaves = {k:random.choice(characters) for k in network.leaves}\n",
    "network.show(leaves,shownames=True)"
   ]
  },
  {
   "cell_type": "code",
   "execution_count": null,
   "id": "1d7ea82e",
   "metadata": {},
   "outputs": [],
   "source": [
    "#construct and solve a hardwired model\n",
    "model = ir.Model()\n",
    "\n",
    "model.add_variables(len(network.nodes), len(characters))\n",
    "model.add_functions([Distance(u,v) for u,v in network.edges],\n",
    "                   'score')\n",
    "\n",
    "model.set_feature_weight(-1, 'score') # -1, since we are minimizing\n",
    "\n",
    "for k,v in leaves.items():\n",
    "    val = characters.index(v)\n",
    "    model.restrict_domains(k, (val,val))\n",
    "\n",
    "\n",
    "# Run optimization\n",
    "\n",
    "optimizer = ir.Optimizer(model)\n",
    "\n",
    "print(\"TW:\",optimizer.treewidth())\n",
    "\n",
    "best_score = -optimizer.evaluate()\n",
    "best = optimizer.optimize()\n",
    "\n",
    "print(f'Score: {best_score}')"
   ]
  },
  {
   "cell_type": "code",
   "execution_count": null,
   "id": "26ed0737",
   "metadata": {},
   "outputs": [],
   "source": [
    "from IPython.display import Image\n",
    "import re"
   ]
  },
  {
   "cell_type": "code",
   "execution_count": null,
   "id": "d25788dc",
   "metadata": {},
   "outputs": [],
   "source": [
    "# Plot dependency graph\n",
    "filename = 'dependency_graph.dot'\n",
    "model.write_graph(filename, True)\n",
    "\n",
    "ir.dotfile_to_png(filename)\n",
    "filename = re.sub(r\"dot$\",\"png\",filename)\n",
    "\n",
    "Image(filename=filename,width=300)"
   ]
  },
  {
   "cell_type": "code",
   "execution_count": null,
   "id": "306f3065",
   "metadata": {},
   "outputs": [],
   "source": [
    "# Plot tree decomposition\n",
    "filename=\"treedecomp\"\n",
    "optimizer.plot_td(filename,'png')\n",
    "Image(filename=filename+\".png\",width=400)"
   ]
  },
  {
   "cell_type": "code",
   "execution_count": null,
   "id": "a4be7282",
   "metadata": {},
   "outputs": [],
   "source": [
    "network.show(a_to_cs(best))"
   ]
  }
 ],
 "metadata": {
  "jupytext": {
   "formats": "ipynb,py:light"
  },
  "kernelspec": {
   "display_name": "Python 3 (ipykernel)",
   "language": "python",
   "name": "python3"
  },
  "language_info": {
   "codemirror_mode": {
    "name": "ipython",
    "version": 3
   },
   "file_extension": ".py",
   "mimetype": "text/x-python",
   "name": "python",
   "nbconvert_exporter": "python",
   "pygments_lexer": "ipython3",
   "version": "3.10.9"
  }
 },
 "nbformat": 4,
 "nbformat_minor": 5
}
